{
 "cells": [
  {
   "cell_type": "code",
   "execution_count": 2,
   "id": "59f08ea7",
   "metadata": {
    "ExecuteTime": {
     "end_time": "2023-06-29T19:30:56.133532Z",
     "start_time": "2023-06-29T19:30:56.077215Z"
    }
   },
   "outputs": [],
   "source": [
    "#reloads modules before executing user code\n",
    "%load_ext autoreload\n",
    "%autoreload 2"
   ]
  },
  {
   "cell_type": "markdown",
   "id": "b8ae815d",
   "metadata": {},
   "source": []
  },
  {
   "cell_type": "code",
   "execution_count": 3,
   "id": "fbb963fc",
   "metadata": {
    "ExecuteTime": {
     "end_time": "2023-06-29T19:24:43.415213Z",
     "start_time": "2023-06-29T19:24:41.738108Z"
    }
   },
   "outputs": [
    {
     "name": "stdout",
     "output_type": "stream",
     "text": [
      "Requirement already satisfied: numpy==1.24.2 in /Library/Frameworks/Python.framework/Versions/3.10/lib/python3.10/site-packages (from -r ../requirements.txt (line 1)) (1.24.2)\r\n",
      "Requirement already satisfied: openai==0.27.1 in /Library/Frameworks/Python.framework/Versions/3.10/lib/python3.10/site-packages (from -r ../requirements.txt (line 2)) (0.27.1)\r\n",
      "Requirement already satisfied: pandas==1.5.3 in /Library/Frameworks/Python.framework/Versions/3.10/lib/python3.10/site-packages (from -r ../requirements.txt (line 3)) (1.5.3)\r\n",
      "Requirement already satisfied: redis==4.5.1 in /Library/Frameworks/Python.framework/Versions/3.10/lib/python3.10/site-packages (from -r ../requirements.txt (line 4)) (4.5.1)\r\n",
      "Requirement already satisfied: requests==2.28.2 in /Library/Frameworks/Python.framework/Versions/3.10/lib/python3.10/site-packages (from -r ../requirements.txt (line 5)) (2.28.2)\r\n",
      "Requirement already satisfied: streamlit==1.20.0 in /Library/Frameworks/Python.framework/Versions/3.10/lib/python3.10/site-packages (from -r ../requirements.txt (line 6)) (1.20.0)\r\n",
      "Requirement already satisfied: streamlit_chat==0.0.2.2 in /Library/Frameworks/Python.framework/Versions/3.10/lib/python3.10/site-packages (from -r ../requirements.txt (line 7)) (0.0.2.2)\r\n",
      "Requirement already satisfied: termcolor==2.2.0 in /Library/Frameworks/Python.framework/Versions/3.10/lib/python3.10/site-packages (from -r ../requirements.txt (line 8)) (2.2.0)\r\n",
      "Requirement already satisfied: jupyter in /Library/Frameworks/Python.framework/Versions/3.10/lib/python3.10/site-packages (from -r ../requirements.txt (line 9)) (1.0.0)\r\n",
      "Requirement already satisfied: ipykernel in /Library/Frameworks/Python.framework/Versions/3.10/lib/python3.10/site-packages (from -r ../requirements.txt (line 10)) (6.23.1)\r\n",
      "Requirement already satisfied: textract in /Library/Frameworks/Python.framework/Versions/3.10/lib/python3.10/site-packages (from -r ../requirements.txt (line 11)) (1.6.5)\r\n",
      "Requirement already satisfied: tiktoken in /Library/Frameworks/Python.framework/Versions/3.10/lib/python3.10/site-packages (from -r ../requirements.txt (line 12)) (0.4.0)\r\n",
      "Requirement already satisfied: pdfminer in /Library/Frameworks/Python.framework/Versions/3.10/lib/python3.10/site-packages (from -r ../requirements.txt (line 13)) (20191125)\r\n",
      "Requirement already satisfied: pypdf in /Library/Frameworks/Python.framework/Versions/3.10/lib/python3.10/site-packages (from -r ../requirements.txt (line 14)) (3.9.1)\r\n",
      "Requirement already satisfied: scrapy in /Library/Frameworks/Python.framework/Versions/3.10/lib/python3.10/site-packages (from -r ../requirements.txt (line 15)) (2.9.0)\r\n",
      "Requirement already satisfied: matplotlib in /Library/Frameworks/Python.framework/Versions/3.10/lib/python3.10/site-packages (from -r ../requirements.txt (line 16)) (3.7.1)\r\n",
      "Requirement already satisfied: plotly in /Library/Frameworks/Python.framework/Versions/3.10/lib/python3.10/site-packages (from -r ../requirements.txt (line 17)) (5.15.0)\r\n",
      "Requirement already satisfied: scipy in /Library/Frameworks/Python.framework/Versions/3.10/lib/python3.10/site-packages (from -r ../requirements.txt (line 18)) (1.10.1)\r\n",
      "Requirement already satisfied: scikit-learn in /Library/Frameworks/Python.framework/Versions/3.10/lib/python3.10/site-packages (from -r ../requirements.txt (line 19)) (1.2.2)\r\n",
      "Requirement already satisfied: llama-index in /Library/Frameworks/Python.framework/Versions/3.10/lib/python3.10/site-packages (from -r ../requirements.txt (line 20)) (0.6.17)\r\n",
      "Requirement already satisfied: langchain in /Library/Frameworks/Python.framework/Versions/3.10/lib/python3.10/site-packages (from -r ../requirements.txt (line 21)) (0.0.189)\r\n",
      "Requirement already satisfied: python-dotenv in /Library/Frameworks/Python.framework/Versions/3.10/lib/python3.10/site-packages (from -r ../requirements.txt (line 22)) (1.0.0)\r\n",
      "Requirement already satisfied: httpx in /Library/Frameworks/Python.framework/Versions/3.10/lib/python3.10/site-packages (from -r ../requirements.txt (line 23)) (0.24.1)\r\n",
      "Requirement already satisfied: fastapi in /Library/Frameworks/Python.framework/Versions/3.10/lib/python3.10/site-packages (from -r ../requirements.txt (line 24)) (0.98.0)\r\n",
      "Requirement already satisfied: uvicorn in /Library/Frameworks/Python.framework/Versions/3.10/lib/python3.10/site-packages (from -r ../requirements.txt (line 25)) (0.22.0)\r\n",
      "Requirement already satisfied: tqdm in /Library/Frameworks/Python.framework/Versions/3.10/lib/python3.10/site-packages (from openai==0.27.1->-r ../requirements.txt (line 2)) (4.65.0)\r\n",
      "Requirement already satisfied: aiohttp in /Library/Frameworks/Python.framework/Versions/3.10/lib/python3.10/site-packages (from openai==0.27.1->-r ../requirements.txt (line 2)) (3.8.4)\r\n",
      "Requirement already satisfied: pytz>=2020.1 in /Library/Frameworks/Python.framework/Versions/3.10/lib/python3.10/site-packages (from pandas==1.5.3->-r ../requirements.txt (line 3)) (2023.3)\r\n",
      "Requirement already satisfied: python-dateutil>=2.8.1 in /Library/Frameworks/Python.framework/Versions/3.10/lib/python3.10/site-packages (from pandas==1.5.3->-r ../requirements.txt (line 3)) (2.8.2)\r\n",
      "Requirement already satisfied: async-timeout>=4.0.2 in /Library/Frameworks/Python.framework/Versions/3.10/lib/python3.10/site-packages (from redis==4.5.1->-r ../requirements.txt (line 4)) (4.0.2)\r\n",
      "Requirement already satisfied: idna<4,>=2.5 in /Library/Frameworks/Python.framework/Versions/3.10/lib/python3.10/site-packages (from requests==2.28.2->-r ../requirements.txt (line 5)) (3.4)\r\n",
      "Requirement already satisfied: charset-normalizer<4,>=2 in /Library/Frameworks/Python.framework/Versions/3.10/lib/python3.10/site-packages (from requests==2.28.2->-r ../requirements.txt (line 5)) (3.1.0)\r\n",
      "Requirement already satisfied: urllib3<1.27,>=1.21.1 in /Library/Frameworks/Python.framework/Versions/3.10/lib/python3.10/site-packages (from requests==2.28.2->-r ../requirements.txt (line 5)) (1.26.16)\r\n",
      "Requirement already satisfied: certifi>=2017.4.17 in /Library/Frameworks/Python.framework/Versions/3.10/lib/python3.10/site-packages (from requests==2.28.2->-r ../requirements.txt (line 5)) (2023.5.7)\r\n",
      "Requirement already satisfied: gitpython!=3.1.19 in /Library/Frameworks/Python.framework/Versions/3.10/lib/python3.10/site-packages (from streamlit==1.20.0->-r ../requirements.txt (line 6)) (3.1.31)\r\n",
      "Requirement already satisfied: rich>=10.11.0 in /Library/Frameworks/Python.framework/Versions/3.10/lib/python3.10/site-packages (from streamlit==1.20.0->-r ../requirements.txt (line 6)) (13.4.1)\r\n",
      "Requirement already satisfied: tzlocal>=1.1 in /Library/Frameworks/Python.framework/Versions/3.10/lib/python3.10/site-packages (from streamlit==1.20.0->-r ../requirements.txt (line 6)) (5.0.1)\r\n",
      "Requirement already satisfied: validators>=0.2 in /Library/Frameworks/Python.framework/Versions/3.10/lib/python3.10/site-packages (from streamlit==1.20.0->-r ../requirements.txt (line 6)) (0.20.0)\r\n",
      "Requirement already satisfied: typing-extensions>=3.10.0.0 in /Library/Frameworks/Python.framework/Versions/3.10/lib/python3.10/site-packages (from streamlit==1.20.0->-r ../requirements.txt (line 6)) (4.5.0)\r\n",
      "Requirement already satisfied: protobuf<4,>=3.12 in /Library/Frameworks/Python.framework/Versions/3.10/lib/python3.10/site-packages (from streamlit==1.20.0->-r ../requirements.txt (line 6)) (3.20.3)\r\n",
      "Requirement already satisfied: semver in /Library/Frameworks/Python.framework/Versions/3.10/lib/python3.10/site-packages (from streamlit==1.20.0->-r ../requirements.txt (line 6)) (3.0.0)\r\n",
      "Requirement already satisfied: pyarrow>=4.0 in /Library/Frameworks/Python.framework/Versions/3.10/lib/python3.10/site-packages (from streamlit==1.20.0->-r ../requirements.txt (line 6)) (12.0.0)\r\n",
      "Requirement already satisfied: tornado>=6.0.3 in /Library/Frameworks/Python.framework/Versions/3.10/lib/python3.10/site-packages (from streamlit==1.20.0->-r ../requirements.txt (line 6)) (6.3.2)\r\n",
      "Requirement already satisfied: pydeck>=0.1.dev5 in /Library/Frameworks/Python.framework/Versions/3.10/lib/python3.10/site-packages (from streamlit==1.20.0->-r ../requirements.txt (line 6)) (0.8.1b0)\r\n",
      "Requirement already satisfied: toml in /Library/Frameworks/Python.framework/Versions/3.10/lib/python3.10/site-packages (from streamlit==1.20.0->-r ../requirements.txt (line 6)) (0.10.2)\r\n",
      "Requirement already satisfied: pillow>=6.2.0 in /Library/Frameworks/Python.framework/Versions/3.10/lib/python3.10/site-packages (from streamlit==1.20.0->-r ../requirements.txt (line 6)) (9.5.0)\r\n",
      "Requirement already satisfied: click>=7.0 in /Library/Frameworks/Python.framework/Versions/3.10/lib/python3.10/site-packages (from streamlit==1.20.0->-r ../requirements.txt (line 6)) (8.1.3)\r\n",
      "Requirement already satisfied: pympler>=0.9 in /Library/Frameworks/Python.framework/Versions/3.10/lib/python3.10/site-packages (from streamlit==1.20.0->-r ../requirements.txt (line 6)) (1.0.1)\r\n",
      "Requirement already satisfied: importlib-metadata>=1.4 in /Library/Frameworks/Python.framework/Versions/3.10/lib/python3.10/site-packages (from streamlit==1.20.0->-r ../requirements.txt (line 6)) (6.6.0)\r\n",
      "Requirement already satisfied: packaging>=14.1 in /Library/Frameworks/Python.framework/Versions/3.10/lib/python3.10/site-packages (from streamlit==1.20.0->-r ../requirements.txt (line 6)) (23.1)\r\n",
      "Requirement already satisfied: altair<5,>=3.2.0 in /Library/Frameworks/Python.framework/Versions/3.10/lib/python3.10/site-packages (from streamlit==1.20.0->-r ../requirements.txt (line 6)) (4.2.2)\r\n",
      "Requirement already satisfied: blinker>=1.0.0 in /Library/Frameworks/Python.framework/Versions/3.10/lib/python3.10/site-packages (from streamlit==1.20.0->-r ../requirements.txt (line 6)) (1.6.2)\r\n",
      "Requirement already satisfied: cachetools>=4.0 in /Library/Frameworks/Python.framework/Versions/3.10/lib/python3.10/site-packages (from streamlit==1.20.0->-r ../requirements.txt (line 6)) (5.3.1)\r\n",
      "Requirement already satisfied: jupyter-console in /Library/Frameworks/Python.framework/Versions/3.10/lib/python3.10/site-packages (from jupyter->-r ../requirements.txt (line 9)) (6.6.3)\r\n",
      "Requirement already satisfied: nbconvert in /Library/Frameworks/Python.framework/Versions/3.10/lib/python3.10/site-packages (from jupyter->-r ../requirements.txt (line 9)) (7.4.0)\r\n",
      "Requirement already satisfied: ipywidgets in /Library/Frameworks/Python.framework/Versions/3.10/lib/python3.10/site-packages (from jupyter->-r ../requirements.txt (line 9)) (8.0.6)\r\n",
      "Requirement already satisfied: qtconsole in /Library/Frameworks/Python.framework/Versions/3.10/lib/python3.10/site-packages (from jupyter->-r ../requirements.txt (line 9)) (5.4.3)\r\n",
      "Requirement already satisfied: notebook in /Library/Frameworks/Python.framework/Versions/3.10/lib/python3.10/site-packages (from jupyter->-r ../requirements.txt (line 9)) (6.5.4)\r\n",
      "Requirement already satisfied: appnope in /Library/Frameworks/Python.framework/Versions/3.10/lib/python3.10/site-packages (from ipykernel->-r ../requirements.txt (line 10)) (0.1.3)\r\n",
      "Requirement already satisfied: jupyter-client>=6.1.12 in /Library/Frameworks/Python.framework/Versions/3.10/lib/python3.10/site-packages (from ipykernel->-r ../requirements.txt (line 10)) (8.2.0)\r\n",
      "Requirement already satisfied: pyzmq>=20 in /Library/Frameworks/Python.framework/Versions/3.10/lib/python3.10/site-packages (from ipykernel->-r ../requirements.txt (line 10)) (25.1.0)\r\n",
      "Requirement already satisfied: psutil in /Library/Frameworks/Python.framework/Versions/3.10/lib/python3.10/site-packages (from ipykernel->-r ../requirements.txt (line 10)) (5.9.5)\r\n",
      "Requirement already satisfied: traitlets>=5.4.0 in /Library/Frameworks/Python.framework/Versions/3.10/lib/python3.10/site-packages (from ipykernel->-r ../requirements.txt (line 10)) (5.9.0)\r\n",
      "Requirement already satisfied: matplotlib-inline>=0.1 in /Library/Frameworks/Python.framework/Versions/3.10/lib/python3.10/site-packages (from ipykernel->-r ../requirements.txt (line 10)) (0.1.6)\r\n",
      "Requirement already satisfied: comm>=0.1.1 in /Library/Frameworks/Python.framework/Versions/3.10/lib/python3.10/site-packages (from ipykernel->-r ../requirements.txt (line 10)) (0.1.3)\r\n",
      "Requirement already satisfied: nest-asyncio in /Library/Frameworks/Python.framework/Versions/3.10/lib/python3.10/site-packages (from ipykernel->-r ../requirements.txt (line 10)) (1.5.6)\r\n",
      "Requirement already satisfied: ipython>=7.23.1 in /Library/Frameworks/Python.framework/Versions/3.10/lib/python3.10/site-packages (from ipykernel->-r ../requirements.txt (line 10)) (8.13.2)\r\n",
      "Requirement already satisfied: jupyter-core!=5.0.*,>=4.12 in /Library/Frameworks/Python.framework/Versions/3.10/lib/python3.10/site-packages (from ipykernel->-r ../requirements.txt (line 10)) (5.3.0)\r\n",
      "Requirement already satisfied: debugpy>=1.6.5 in /Library/Frameworks/Python.framework/Versions/3.10/lib/python3.10/site-packages (from ipykernel->-r ../requirements.txt (line 10)) (1.6.7)\r\n",
      "Requirement already satisfied: xlrd~=1.2.0 in /Library/Frameworks/Python.framework/Versions/3.10/lib/python3.10/site-packages (from textract->-r ../requirements.txt (line 11)) (1.2.0)\r\n",
      "Requirement already satisfied: argcomplete~=1.10.0 in /Library/Frameworks/Python.framework/Versions/3.10/lib/python3.10/site-packages (from textract->-r ../requirements.txt (line 11)) (1.10.3)\r\n",
      "Requirement already satisfied: chardet==3.* in /Library/Frameworks/Python.framework/Versions/3.10/lib/python3.10/site-packages (from textract->-r ../requirements.txt (line 11)) (3.0.4)\r\n",
      "Requirement already satisfied: extract-msg<=0.29.* in /Library/Frameworks/Python.framework/Versions/3.10/lib/python3.10/site-packages (from textract->-r ../requirements.txt (line 11)) (0.28.7)\r\n",
      "Requirement already satisfied: six~=1.12.0 in /Library/Frameworks/Python.framework/Versions/3.10/lib/python3.10/site-packages (from textract->-r ../requirements.txt (line 11)) (1.12.0)\r\n",
      "Requirement already satisfied: docx2txt~=0.8 in /Library/Frameworks/Python.framework/Versions/3.10/lib/python3.10/site-packages (from textract->-r ../requirements.txt (line 11)) (0.8)\r\n",
      "Requirement already satisfied: beautifulsoup4~=4.8.0 in /Library/Frameworks/Python.framework/Versions/3.10/lib/python3.10/site-packages (from textract->-r ../requirements.txt (line 11)) (4.8.2)\r\n",
      "Requirement already satisfied: SpeechRecognition~=3.8.1 in /Library/Frameworks/Python.framework/Versions/3.10/lib/python3.10/site-packages (from textract->-r ../requirements.txt (line 11)) (3.8.1)\r\n",
      "Requirement already satisfied: python-pptx~=0.6.18 in /Library/Frameworks/Python.framework/Versions/3.10/lib/python3.10/site-packages (from textract->-r ../requirements.txt (line 11)) (0.6.21)\r\n",
      "Requirement already satisfied: pdfminer.six==20191110 in /Library/Frameworks/Python.framework/Versions/3.10/lib/python3.10/site-packages (from textract->-r ../requirements.txt (line 11)) (20191110)\r\n",
      "Requirement already satisfied: sortedcontainers in /Library/Frameworks/Python.framework/Versions/3.10/lib/python3.10/site-packages (from pdfminer.six==20191110->textract->-r ../requirements.txt (line 11)) (2.4.0)\r\n",
      "Requirement already satisfied: pycryptodome in /Library/Frameworks/Python.framework/Versions/3.10/lib/python3.10/site-packages (from pdfminer.six==20191110->textract->-r ../requirements.txt (line 11)) (3.18.0)\r\n",
      "Requirement already satisfied: regex>=2022.1.18 in /Library/Frameworks/Python.framework/Versions/3.10/lib/python3.10/site-packages (from tiktoken->-r ../requirements.txt (line 12)) (2023.5.5)\r\n",
      "Requirement already satisfied: zope.interface>=5.1.0 in /Library/Frameworks/Python.framework/Versions/3.10/lib/python3.10/site-packages (from scrapy->-r ../requirements.txt (line 15)) (6.0)\r\n",
      "Requirement already satisfied: setuptools in /Library/Frameworks/Python.framework/Versions/3.10/lib/python3.10/site-packages (from scrapy->-r ../requirements.txt (line 15)) (63.2.0)\r\n",
      "Requirement already satisfied: tldextract in /Library/Frameworks/Python.framework/Versions/3.10/lib/python3.10/site-packages (from scrapy->-r ../requirements.txt (line 15)) (3.4.4)\r\n",
      "Requirement already satisfied: PyDispatcher>=2.0.5 in /Library/Frameworks/Python.framework/Versions/3.10/lib/python3.10/site-packages (from scrapy->-r ../requirements.txt (line 15)) (2.0.7)\r\n",
      "Requirement already satisfied: service-identity>=18.1.0 in /Library/Frameworks/Python.framework/Versions/3.10/lib/python3.10/site-packages (from scrapy->-r ../requirements.txt (line 15)) (23.1.0)\r\n",
      "Requirement already satisfied: lxml>=4.3.0 in /Library/Frameworks/Python.framework/Versions/3.10/lib/python3.10/site-packages (from scrapy->-r ../requirements.txt (line 15)) (4.9.2)\r\n",
      "Requirement already satisfied: cryptography>=3.4.6 in /Library/Frameworks/Python.framework/Versions/3.10/lib/python3.10/site-packages (from scrapy->-r ../requirements.txt (line 15)) (41.0.1)\r\n",
      "Requirement already satisfied: pyOpenSSL>=21.0.0 in /Library/Frameworks/Python.framework/Versions/3.10/lib/python3.10/site-packages (from scrapy->-r ../requirements.txt (line 15)) (23.2.0)\r\n",
      "Requirement already satisfied: protego>=0.1.15 in /Library/Frameworks/Python.framework/Versions/3.10/lib/python3.10/site-packages (from scrapy->-r ../requirements.txt (line 15)) (0.2.1)\r\n",
      "Requirement already satisfied: parsel>=1.5.0 in /Library/Frameworks/Python.framework/Versions/3.10/lib/python3.10/site-packages (from scrapy->-r ../requirements.txt (line 15)) (1.8.1)\r\n",
      "Requirement already satisfied: itemadapter>=0.1.0 in /Library/Frameworks/Python.framework/Versions/3.10/lib/python3.10/site-packages (from scrapy->-r ../requirements.txt (line 15)) (0.8.0)\r\n",
      "Requirement already satisfied: cssselect>=0.9.1 in /Library/Frameworks/Python.framework/Versions/3.10/lib/python3.10/site-packages (from scrapy->-r ../requirements.txt (line 15)) (1.2.0)\r\n",
      "Requirement already satisfied: w3lib>=1.17.0 in /Library/Frameworks/Python.framework/Versions/3.10/lib/python3.10/site-packages (from scrapy->-r ../requirements.txt (line 15)) (2.1.1)\r\n",
      "Requirement already satisfied: Twisted>=18.9.0 in /Library/Frameworks/Python.framework/Versions/3.10/lib/python3.10/site-packages (from scrapy->-r ../requirements.txt (line 15)) (22.10.0)\r\n",
      "Requirement already satisfied: itemloaders>=1.0.1 in /Library/Frameworks/Python.framework/Versions/3.10/lib/python3.10/site-packages (from scrapy->-r ../requirements.txt (line 15)) (1.1.0)\r\n",
      "Requirement already satisfied: queuelib>=1.4.2 in /Library/Frameworks/Python.framework/Versions/3.10/lib/python3.10/site-packages (from scrapy->-r ../requirements.txt (line 15)) (1.6.2)\r\n",
      "Requirement already satisfied: fonttools>=4.22.0 in /Library/Frameworks/Python.framework/Versions/3.10/lib/python3.10/site-packages (from matplotlib->-r ../requirements.txt (line 16)) (4.40.0)\r\n",
      "Requirement already satisfied: cycler>=0.10 in /Library/Frameworks/Python.framework/Versions/3.10/lib/python3.10/site-packages (from matplotlib->-r ../requirements.txt (line 16)) (0.11.0)\r\n",
      "Requirement already satisfied: kiwisolver>=1.0.1 in /Library/Frameworks/Python.framework/Versions/3.10/lib/python3.10/site-packages (from matplotlib->-r ../requirements.txt (line 16)) (1.4.4)\r\n",
      "Requirement already satisfied: contourpy>=1.0.1 in /Library/Frameworks/Python.framework/Versions/3.10/lib/python3.10/site-packages (from matplotlib->-r ../requirements.txt (line 16)) (1.1.0)\r\n",
      "Requirement already satisfied: pyparsing>=2.3.1 in /Library/Frameworks/Python.framework/Versions/3.10/lib/python3.10/site-packages (from matplotlib->-r ../requirements.txt (line 16)) (3.1.0)\r\n",
      "Requirement already satisfied: tenacity>=6.2.0 in /Library/Frameworks/Python.framework/Versions/3.10/lib/python3.10/site-packages (from plotly->-r ../requirements.txt (line 17)) (8.2.2)\r\n",
      "Requirement already satisfied: threadpoolctl>=2.0.0 in /Library/Frameworks/Python.framework/Versions/3.10/lib/python3.10/site-packages (from scikit-learn->-r ../requirements.txt (line 19)) (3.1.0)\r\n",
      "Requirement already satisfied: joblib>=1.1.1 in /Library/Frameworks/Python.framework/Versions/3.10/lib/python3.10/site-packages (from scikit-learn->-r ../requirements.txt (line 19)) (1.2.0)\r\n",
      "Requirement already satisfied: sqlalchemy>=2.0.15 in /Library/Frameworks/Python.framework/Versions/3.10/lib/python3.10/site-packages (from llama-index->-r ../requirements.txt (line 20)) (2.0.15)\r\n",
      "Requirement already satisfied: dataclasses-json in /Library/Frameworks/Python.framework/Versions/3.10/lib/python3.10/site-packages (from llama-index->-r ../requirements.txt (line 20)) (0.5.7)\r\n",
      "Requirement already satisfied: typing-inspect==0.8.0 in /Library/Frameworks/Python.framework/Versions/3.10/lib/python3.10/site-packages (from llama-index->-r ../requirements.txt (line 20)) (0.8.0)\r\n",
      "Requirement already satisfied: fsspec>=2023.5.0 in /Library/Frameworks/Python.framework/Versions/3.10/lib/python3.10/site-packages (from llama-index->-r ../requirements.txt (line 20)) (2023.5.0)\r\n",
      "Requirement already satisfied: mypy-extensions>=0.3.0 in /Library/Frameworks/Python.framework/Versions/3.10/lib/python3.10/site-packages (from typing-inspect==0.8.0->llama-index->-r ../requirements.txt (line 20)) (1.0.0)\r\n",
      "Requirement already satisfied: numexpr<3.0.0,>=2.8.4 in /Library/Frameworks/Python.framework/Versions/3.10/lib/python3.10/site-packages (from langchain->-r ../requirements.txt (line 21)) (2.8.4)\r\n",
      "Requirement already satisfied: pydantic<2,>=1 in /Library/Frameworks/Python.framework/Versions/3.10/lib/python3.10/site-packages (from langchain->-r ../requirements.txt (line 21)) (1.10.8)\r\n",
      "Requirement already satisfied: PyYAML>=5.4.1 in /Library/Frameworks/Python.framework/Versions/3.10/lib/python3.10/site-packages (from langchain->-r ../requirements.txt (line 21)) (6.0)\r\n",
      "Requirement already satisfied: openapi-schema-pydantic<2.0,>=1.2 in /Library/Frameworks/Python.framework/Versions/3.10/lib/python3.10/site-packages (from langchain->-r ../requirements.txt (line 21)) (1.2.4)\r\n",
      "Requirement already satisfied: httpcore<0.18.0,>=0.15.0 in /Library/Frameworks/Python.framework/Versions/3.10/lib/python3.10/site-packages (from httpx->-r ../requirements.txt (line 23)) (0.17.2)\r\n",
      "Requirement already satisfied: sniffio in /Library/Frameworks/Python.framework/Versions/3.10/lib/python3.10/site-packages (from httpx->-r ../requirements.txt (line 23)) (1.3.0)\r\n",
      "Requirement already satisfied: starlette<0.28.0,>=0.27.0 in /Library/Frameworks/Python.framework/Versions/3.10/lib/python3.10/site-packages (from fastapi->-r ../requirements.txt (line 24)) (0.27.0)\r\n",
      "Requirement already satisfied: h11>=0.8 in /Library/Frameworks/Python.framework/Versions/3.10/lib/python3.10/site-packages (from uvicorn->-r ../requirements.txt (line 25)) (0.14.0)\r\n",
      "Requirement already satisfied: attrs>=17.3.0 in /Library/Frameworks/Python.framework/Versions/3.10/lib/python3.10/site-packages (from aiohttp->openai==0.27.1->-r ../requirements.txt (line 2)) (23.1.0)\r\n",
      "Requirement already satisfied: aiosignal>=1.1.2 in /Library/Frameworks/Python.framework/Versions/3.10/lib/python3.10/site-packages (from aiohttp->openai==0.27.1->-r ../requirements.txt (line 2)) (1.3.1)\r\n",
      "Requirement already satisfied: yarl<2.0,>=1.0 in /Library/Frameworks/Python.framework/Versions/3.10/lib/python3.10/site-packages (from aiohttp->openai==0.27.1->-r ../requirements.txt (line 2)) (1.9.2)\r\n",
      "Requirement already satisfied: frozenlist>=1.1.1 in /Library/Frameworks/Python.framework/Versions/3.10/lib/python3.10/site-packages (from aiohttp->openai==0.27.1->-r ../requirements.txt (line 2)) (1.3.3)\r\n",
      "Requirement already satisfied: multidict<7.0,>=4.5 in /Library/Frameworks/Python.framework/Versions/3.10/lib/python3.10/site-packages (from aiohttp->openai==0.27.1->-r ../requirements.txt (line 2)) (6.0.4)\r\n",
      "Requirement already satisfied: entrypoints in /Library/Frameworks/Python.framework/Versions/3.10/lib/python3.10/site-packages (from altair<5,>=3.2.0->streamlit==1.20.0->-r ../requirements.txt (line 6)) (0.4)\r\n",
      "Requirement already satisfied: jsonschema>=3.0 in /Library/Frameworks/Python.framework/Versions/3.10/lib/python3.10/site-packages (from altair<5,>=3.2.0->streamlit==1.20.0->-r ../requirements.txt (line 6)) (4.17.3)\r\n",
      "Requirement already satisfied: toolz in /Library/Frameworks/Python.framework/Versions/3.10/lib/python3.10/site-packages (from altair<5,>=3.2.0->streamlit==1.20.0->-r ../requirements.txt (line 6)) (0.12.0)\r\n",
      "Requirement already satisfied: jinja2 in /Library/Frameworks/Python.framework/Versions/3.10/lib/python3.10/site-packages (from altair<5,>=3.2.0->streamlit==1.20.0->-r ../requirements.txt (line 6)) (3.1.2)\r\n",
      "Requirement already satisfied: soupsieve>=1.2 in /Library/Frameworks/Python.framework/Versions/3.10/lib/python3.10/site-packages (from beautifulsoup4~=4.8.0->textract->-r ../requirements.txt (line 11)) (2.4.1)\r\n",
      "Requirement already satisfied: cffi>=1.12 in /Library/Frameworks/Python.framework/Versions/3.10/lib/python3.10/site-packages (from cryptography>=3.4.6->scrapy->-r ../requirements.txt (line 15)) (1.15.1)\r\n",
      "Requirement already satisfied: marshmallow<4.0.0,>=3.3.0 in /Library/Frameworks/Python.framework/Versions/3.10/lib/python3.10/site-packages (from dataclasses-json->llama-index->-r ../requirements.txt (line 20)) (3.19.0)\r\n",
      "Requirement already satisfied: marshmallow-enum<2.0.0,>=1.5.1 in /Library/Frameworks/Python.framework/Versions/3.10/lib/python3.10/site-packages (from dataclasses-json->llama-index->-r ../requirements.txt (line 20)) (1.5.1)\r\n",
      "Requirement already satisfied: olefile>=0.46 in /Library/Frameworks/Python.framework/Versions/3.10/lib/python3.10/site-packages (from extract-msg<=0.29.*->textract->-r ../requirements.txt (line 11)) (0.46)\r\n",
      "Requirement already satisfied: compressed-rtf>=1.0.6 in /Library/Frameworks/Python.framework/Versions/3.10/lib/python3.10/site-packages (from extract-msg<=0.29.*->textract->-r ../requirements.txt (line 11)) (1.0.6)\r\n",
      "Requirement already satisfied: ebcdic>=1.1.1 in /Library/Frameworks/Python.framework/Versions/3.10/lib/python3.10/site-packages (from extract-msg<=0.29.*->textract->-r ../requirements.txt (line 11)) (1.1.1)\r\n",
      "Requirement already satisfied: imapclient==2.1.0 in /Library/Frameworks/Python.framework/Versions/3.10/lib/python3.10/site-packages (from extract-msg<=0.29.*->textract->-r ../requirements.txt (line 11)) (2.1.0)\r\n",
      "Requirement already satisfied: gitdb<5,>=4.0.1 in /Library/Frameworks/Python.framework/Versions/3.10/lib/python3.10/site-packages (from gitpython!=3.1.19->streamlit==1.20.0->-r ../requirements.txt (line 6)) (4.0.10)\r\n",
      "Requirement already satisfied: anyio<5.0,>=3.0 in /Library/Frameworks/Python.framework/Versions/3.10/lib/python3.10/site-packages (from httpcore<0.18.0,>=0.15.0->httpx->-r ../requirements.txt (line 23)) (3.7.0)\r\n",
      "Requirement already satisfied: zipp>=0.5 in /Library/Frameworks/Python.framework/Versions/3.10/lib/python3.10/site-packages (from importlib-metadata>=1.4->streamlit==1.20.0->-r ../requirements.txt (line 6)) (3.15.0)\r\n",
      "Requirement already satisfied: jedi>=0.16 in /Library/Frameworks/Python.framework/Versions/3.10/lib/python3.10/site-packages (from ipython>=7.23.1->ipykernel->-r ../requirements.txt (line 10)) (0.18.2)\r\n",
      "Requirement already satisfied: backcall in /Library/Frameworks/Python.framework/Versions/3.10/lib/python3.10/site-packages (from ipython>=7.23.1->ipykernel->-r ../requirements.txt (line 10)) (0.2.0)\r\n",
      "Requirement already satisfied: decorator in /Library/Frameworks/Python.framework/Versions/3.10/lib/python3.10/site-packages (from ipython>=7.23.1->ipykernel->-r ../requirements.txt (line 10)) (5.1.1)\r\n",
      "Requirement already satisfied: pygments>=2.4.0 in /Library/Frameworks/Python.framework/Versions/3.10/lib/python3.10/site-packages (from ipython>=7.23.1->ipykernel->-r ../requirements.txt (line 10)) (2.15.1)\r\n",
      "Requirement already satisfied: prompt-toolkit!=3.0.37,<3.1.0,>=3.0.30 in /Library/Frameworks/Python.framework/Versions/3.10/lib/python3.10/site-packages (from ipython>=7.23.1->ipykernel->-r ../requirements.txt (line 10)) (3.0.38)\r\n",
      "Requirement already satisfied: stack-data in /Library/Frameworks/Python.framework/Versions/3.10/lib/python3.10/site-packages (from ipython>=7.23.1->ipykernel->-r ../requirements.txt (line 10)) (0.6.2)\r\n",
      "Requirement already satisfied: pickleshare in /Library/Frameworks/Python.framework/Versions/3.10/lib/python3.10/site-packages (from ipython>=7.23.1->ipykernel->-r ../requirements.txt (line 10)) (0.7.5)\r\n",
      "Requirement already satisfied: pexpect>4.3 in /Library/Frameworks/Python.framework/Versions/3.10/lib/python3.10/site-packages (from ipython>=7.23.1->ipykernel->-r ../requirements.txt (line 10)) (4.8.0)\r\n",
      "Requirement already satisfied: jmespath>=0.9.5 in /Library/Frameworks/Python.framework/Versions/3.10/lib/python3.10/site-packages (from itemloaders>=1.0.1->scrapy->-r ../requirements.txt (line 15)) (1.0.1)\r\n",
      "Requirement already satisfied: platformdirs>=2.5 in /Library/Frameworks/Python.framework/Versions/3.10/lib/python3.10/site-packages (from jupyter-core!=5.0.*,>=4.12->ipykernel->-r ../requirements.txt (line 10)) (3.5.1)\r\n",
      "Requirement already satisfied: XlsxWriter>=0.5.7 in /Library/Frameworks/Python.framework/Versions/3.10/lib/python3.10/site-packages (from python-pptx~=0.6.18->textract->-r ../requirements.txt (line 11)) (3.1.2)\r\n",
      "Requirement already satisfied: markdown-it-py<3.0.0,>=2.2.0 in /Library/Frameworks/Python.framework/Versions/3.10/lib/python3.10/site-packages (from rich>=10.11.0->streamlit==1.20.0->-r ../requirements.txt (line 6)) (2.2.0)\r\n",
      "Requirement already satisfied: pyasn1 in /Library/Frameworks/Python.framework/Versions/3.10/lib/python3.10/site-packages (from service-identity>=18.1.0->scrapy->-r ../requirements.txt (line 15)) (0.5.0)\r\n",
      "Requirement already satisfied: pyasn1-modules in /Library/Frameworks/Python.framework/Versions/3.10/lib/python3.10/site-packages (from service-identity>=18.1.0->scrapy->-r ../requirements.txt (line 15)) (0.3.0)\r\n",
      "Requirement already satisfied: constantly>=15.1 in /Library/Frameworks/Python.framework/Versions/3.10/lib/python3.10/site-packages (from Twisted>=18.9.0->scrapy->-r ../requirements.txt (line 15)) (15.1.0)\r\n",
      "Requirement already satisfied: incremental>=21.3.0 in /Library/Frameworks/Python.framework/Versions/3.10/lib/python3.10/site-packages (from Twisted>=18.9.0->scrapy->-r ../requirements.txt (line 15)) (22.10.0)\r\n",
      "Requirement already satisfied: Automat>=0.8.0 in /Library/Frameworks/Python.framework/Versions/3.10/lib/python3.10/site-packages (from Twisted>=18.9.0->scrapy->-r ../requirements.txt (line 15)) (22.10.0)\r\n",
      "Requirement already satisfied: hyperlink>=17.1.1 in /Library/Frameworks/Python.framework/Versions/3.10/lib/python3.10/site-packages (from Twisted>=18.9.0->scrapy->-r ../requirements.txt (line 15)) (21.0.0)\r\n",
      "Requirement already satisfied: jupyterlab-widgets~=3.0.7 in /Library/Frameworks/Python.framework/Versions/3.10/lib/python3.10/site-packages (from ipywidgets->jupyter->-r ../requirements.txt (line 9)) (3.0.7)\r\n",
      "Requirement already satisfied: widgetsnbextension~=4.0.7 in /Library/Frameworks/Python.framework/Versions/3.10/lib/python3.10/site-packages (from ipywidgets->jupyter->-r ../requirements.txt (line 9)) (4.0.7)\r\n",
      "Requirement already satisfied: defusedxml in /Library/Frameworks/Python.framework/Versions/3.10/lib/python3.10/site-packages (from nbconvert->jupyter->-r ../requirements.txt (line 9)) (0.7.1)\r\n",
      "Requirement already satisfied: nbformat>=5.1 in /Library/Frameworks/Python.framework/Versions/3.10/lib/python3.10/site-packages (from nbconvert->jupyter->-r ../requirements.txt (line 9)) (5.9.0)\r\n",
      "Requirement already satisfied: tinycss2 in /Library/Frameworks/Python.framework/Versions/3.10/lib/python3.10/site-packages (from nbconvert->jupyter->-r ../requirements.txt (line 9)) (1.2.1)\r\n",
      "Requirement already satisfied: markupsafe>=2.0 in /Library/Frameworks/Python.framework/Versions/3.10/lib/python3.10/site-packages (from nbconvert->jupyter->-r ../requirements.txt (line 9)) (2.1.2)\r\n",
      "Requirement already satisfied: jupyterlab-pygments in /Library/Frameworks/Python.framework/Versions/3.10/lib/python3.10/site-packages (from nbconvert->jupyter->-r ../requirements.txt (line 9)) (0.2.2)\r\n",
      "Requirement already satisfied: bleach in /Library/Frameworks/Python.framework/Versions/3.10/lib/python3.10/site-packages (from nbconvert->jupyter->-r ../requirements.txt (line 9)) (6.0.0)\r\n",
      "Requirement already satisfied: nbclient>=0.5.0 in /Library/Frameworks/Python.framework/Versions/3.10/lib/python3.10/site-packages (from nbconvert->jupyter->-r ../requirements.txt (line 9)) (0.8.0)\r\n",
      "Requirement already satisfied: mistune<3,>=2.0.3 in /Library/Frameworks/Python.framework/Versions/3.10/lib/python3.10/site-packages (from nbconvert->jupyter->-r ../requirements.txt (line 9)) (2.0.5)\r\n",
      "Requirement already satisfied: pandocfilters>=1.4.1 in /Library/Frameworks/Python.framework/Versions/3.10/lib/python3.10/site-packages (from nbconvert->jupyter->-r ../requirements.txt (line 9)) (1.5.0)\r\n",
      "Requirement already satisfied: ipython-genutils in /Library/Frameworks/Python.framework/Versions/3.10/lib/python3.10/site-packages (from notebook->jupyter->-r ../requirements.txt (line 9)) (0.2.0)\r\n",
      "Requirement already satisfied: terminado>=0.8.3 in /Library/Frameworks/Python.framework/Versions/3.10/lib/python3.10/site-packages (from notebook->jupyter->-r ../requirements.txt (line 9)) (0.17.1)\r\n",
      "Requirement already satisfied: argon2-cffi in /Library/Frameworks/Python.framework/Versions/3.10/lib/python3.10/site-packages (from notebook->jupyter->-r ../requirements.txt (line 9)) (21.3.0)\r\n",
      "Requirement already satisfied: Send2Trash>=1.8.0 in /Library/Frameworks/Python.framework/Versions/3.10/lib/python3.10/site-packages (from notebook->jupyter->-r ../requirements.txt (line 9)) (1.8.2)\r\n",
      "Requirement already satisfied: nbclassic>=0.4.7 in /Library/Frameworks/Python.framework/Versions/3.10/lib/python3.10/site-packages (from notebook->jupyter->-r ../requirements.txt (line 9)) (1.0.0)\r\n",
      "Requirement already satisfied: prometheus-client in /Library/Frameworks/Python.framework/Versions/3.10/lib/python3.10/site-packages (from notebook->jupyter->-r ../requirements.txt (line 9)) (0.17.0)\r\n",
      "Requirement already satisfied: qtpy>=2.0.1 in /Library/Frameworks/Python.framework/Versions/3.10/lib/python3.10/site-packages (from qtconsole->jupyter->-r ../requirements.txt (line 9)) (2.3.1)\r\n",
      "Requirement already satisfied: filelock>=3.0.8 in /Library/Frameworks/Python.framework/Versions/3.10/lib/python3.10/site-packages (from tldextract->scrapy->-r ../requirements.txt (line 15)) (3.12.2)\r\n",
      "Requirement already satisfied: requests-file>=1.4 in /Library/Frameworks/Python.framework/Versions/3.10/lib/python3.10/site-packages (from tldextract->scrapy->-r ../requirements.txt (line 15)) (1.5.1)\r\n",
      "Requirement already satisfied: exceptiongroup in /Library/Frameworks/Python.framework/Versions/3.10/lib/python3.10/site-packages (from anyio<5.0,>=3.0->httpcore<0.18.0,>=0.15.0->httpx->-r ../requirements.txt (line 23)) (1.1.1)\r\n",
      "Requirement already satisfied: pycparser in /Library/Frameworks/Python.framework/Versions/3.10/lib/python3.10/site-packages (from cffi>=1.12->cryptography>=3.4.6->scrapy->-r ../requirements.txt (line 15)) (2.21)\r\n",
      "Requirement already satisfied: smmap<6,>=3.0.1 in /Library/Frameworks/Python.framework/Versions/3.10/lib/python3.10/site-packages (from gitdb<5,>=4.0.1->gitpython!=3.1.19->streamlit==1.20.0->-r ../requirements.txt (line 6)) (5.0.0)\r\n",
      "Requirement already satisfied: parso<0.9.0,>=0.8.0 in /Library/Frameworks/Python.framework/Versions/3.10/lib/python3.10/site-packages (from jedi>=0.16->ipython>=7.23.1->ipykernel->-r ../requirements.txt (line 10)) (0.8.3)\r\n",
      "Requirement already satisfied: pyrsistent!=0.17.0,!=0.17.1,!=0.17.2,>=0.14.0 in /Library/Frameworks/Python.framework/Versions/3.10/lib/python3.10/site-packages (from jsonschema>=3.0->altair<5,>=3.2.0->streamlit==1.20.0->-r ../requirements.txt (line 6)) (0.19.3)\r\n",
      "Requirement already satisfied: mdurl~=0.1 in /Library/Frameworks/Python.framework/Versions/3.10/lib/python3.10/site-packages (from markdown-it-py<3.0.0,>=2.2.0->rich>=10.11.0->streamlit==1.20.0->-r ../requirements.txt (line 6)) (0.1.2)\r\n",
      "Requirement already satisfied: notebook-shim>=0.2.3 in /Library/Frameworks/Python.framework/Versions/3.10/lib/python3.10/site-packages (from nbclassic>=0.4.7->notebook->jupyter->-r ../requirements.txt (line 9)) (0.2.3)\r\n",
      "Requirement already satisfied: jupyter-server>=1.8 in /Library/Frameworks/Python.framework/Versions/3.10/lib/python3.10/site-packages (from nbclassic>=0.4.7->notebook->jupyter->-r ../requirements.txt (line 9)) (2.6.0)\r\n",
      "Requirement already satisfied: fastjsonschema in /Library/Frameworks/Python.framework/Versions/3.10/lib/python3.10/site-packages (from nbformat>=5.1->nbconvert->jupyter->-r ../requirements.txt (line 9)) (2.17.1)\r\n",
      "Requirement already satisfied: ptyprocess>=0.5 in /Library/Frameworks/Python.framework/Versions/3.10/lib/python3.10/site-packages (from pexpect>4.3->ipython>=7.23.1->ipykernel->-r ../requirements.txt (line 10)) (0.7.0)\r\n",
      "Requirement already satisfied: wcwidth in /Library/Frameworks/Python.framework/Versions/3.10/lib/python3.10/site-packages (from prompt-toolkit!=3.0.37,<3.1.0,>=3.0.30->ipython>=7.23.1->ipykernel->-r ../requirements.txt (line 10)) (0.2.6)\r\n",
      "Requirement already satisfied: argon2-cffi-bindings in /Library/Frameworks/Python.framework/Versions/3.10/lib/python3.10/site-packages (from argon2-cffi->notebook->jupyter->-r ../requirements.txt (line 9)) (21.2.0)\r\n",
      "Requirement already satisfied: webencodings in /Library/Frameworks/Python.framework/Versions/3.10/lib/python3.10/site-packages (from bleach->nbconvert->jupyter->-r ../requirements.txt (line 9)) (0.5.1)\r\n",
      "^C\r\n",
      "\u001B[31mERROR: Operation cancelled by user\u001B[0m\u001B[31m\r\n",
      "\u001B[0m--- Logging error ---\r\n",
      "Traceback (most recent call last):\r\n",
      "  File \"/Library/Frameworks/Python.framework/Versions/3.10/lib/python3.10/site-packages/pip/_internal/utils/logging.py\", line 177, in emit\r\n",
      "    self.console.print(renderable, overflow=\"ignore\", crop=False, style=style)\r\n",
      "  File \"/Library/Frameworks/Python.framework/Versions/3.10/lib/python3.10/site-packages/pip/_vendor/rich/console.py\", line 1673, in print\r\n",
      "    extend(render(renderable, render_options))\r\n",
      "  File \"/Library/Frameworks/Python.framework/Versions/3.10/lib/python3.10/site-packages/pip/_vendor/rich/console.py\", line 1305, in render\r\n",
      "    for render_output in iter_render:\r\n",
      "  File \"/Library/Frameworks/Python.framework/Versions/3.10/lib/python3.10/site-packages/pip/_internal/utils/logging.py\", line 134, in __rich_console__\r\n",
      "    for line in lines:\r\n",
      "  File \"/Library/Frameworks/Python.framework/Versions/3.10/lib/python3.10/site-packages/pip/_vendor/rich/segment.py\", line 249, in split_lines\r\n",
      "    for segment in segments:\r\n",
      "  File \"/Library/Frameworks/Python.framework/Versions/3.10/lib/python3.10/site-packages/pip/_vendor/rich/console.py\", line 1283, in render\r\n",
      "    renderable = rich_cast(renderable)\r\n",
      "  File \"/Library/Frameworks/Python.framework/Versions/3.10/lib/python3.10/site-packages/pip/_vendor/rich/protocol.py\", line 36, in rich_cast\r\n",
      "    renderable = cast_method()\r\n",
      "  File \"/Library/Frameworks/Python.framework/Versions/3.10/lib/python3.10/site-packages/pip/_internal/self_outdated_check.py\", line 130, in __rich__\r\n",
      "    pip_cmd = get_best_invocation_for_this_pip()\r\n",
      "  File \"/Library/Frameworks/Python.framework/Versions/3.10/lib/python3.10/site-packages/pip/_internal/utils/entrypoints.py\", line 58, in get_best_invocation_for_this_pip\r\n",
      "    if found_executable and os.path.samefile(\r\n",
      "  File \"/Library/Frameworks/Python.framework/Versions/3.10/lib/python3.10/genericpath.py\", line 101, in samefile\r\n",
      "    s2 = os.stat(f2)\r\n",
      "FileNotFoundError: [Errno 2] No such file or directory: '/Library/Frameworks/Python.framework/Versions/3.10/bin/pip'\r\n",
      "Call stack:\r\n",
      "  File \"/Library/Frameworks/Python.framework/Versions/3.10/lib/python3.10/runpy.py\", line 196, in _run_module_as_main\r\n",
      "    return _run_code(code, main_globals, None,\r\n",
      "  File \"/Library/Frameworks/Python.framework/Versions/3.10/lib/python3.10/runpy.py\", line 86, in _run_code\r\n",
      "    exec(code, run_globals)\r\n",
      "  File \"/Library/Frameworks/Python.framework/Versions/3.10/lib/python3.10/site-packages/pip/__main__.py\", line 31, in <module>\r\n",
      "    sys.exit(_main())\r\n",
      "  File \"/Library/Frameworks/Python.framework/Versions/3.10/lib/python3.10/site-packages/pip/_internal/cli/main.py\", line 70, in main\r\n",
      "    return command.main(cmd_args)\r\n",
      "  File \"/Library/Frameworks/Python.framework/Versions/3.10/lib/python3.10/site-packages/pip/_internal/cli/base_command.py\", line 101, in main\r\n",
      "    return self._main(args)\r\n",
      "  File \"/Library/Frameworks/Python.framework/Versions/3.10/lib/python3.10/site-packages/pip/_internal/cli/base_command.py\", line 223, in _main\r\n",
      "    self.handle_pip_version_check(options)\r\n",
      "  File \"/Library/Frameworks/Python.framework/Versions/3.10/lib/python3.10/site-packages/pip/_internal/cli/req_command.py\", line 190, in handle_pip_version_check\r\n",
      "    pip_self_version_check(session, options)\r\n",
      "  File \"/Library/Frameworks/Python.framework/Versions/3.10/lib/python3.10/site-packages/pip/_internal/self_outdated_check.py\", line 236, in pip_self_version_check\r\n",
      "    logger.warning(\"[present-rich] %s\", upgrade_prompt)\r\n",
      "  File \"/Library/Frameworks/Python.framework/Versions/3.10/lib/python3.10/logging/__init__.py\", line 1489, in warning\r\n",
      "    self._log(WARNING, msg, args, **kwargs)\r\n",
      "  File \"/Library/Frameworks/Python.framework/Versions/3.10/lib/python3.10/logging/__init__.py\", line 1624, in _log\r\n",
      "    self.handle(record)\r\n",
      "  File \"/Library/Frameworks/Python.framework/Versions/3.10/lib/python3.10/logging/__init__.py\", line 1634, in handle\r\n",
      "    self.callHandlers(record)\r\n",
      "  File \"/Library/Frameworks/Python.framework/Versions/3.10/lib/python3.10/logging/__init__.py\", line 1696, in callHandlers\r\n",
      "    hdlr.handle(record)\r\n",
      "  File \"/Library/Frameworks/Python.framework/Versions/3.10/lib/python3.10/logging/__init__.py\", line 968, in handle\r\n",
      "    self.emit(record)\r\n",
      "  File \"/Library/Frameworks/Python.framework/Versions/3.10/lib/python3.10/site-packages/pip/_internal/utils/logging.py\", line 179, in emit\r\n",
      "    self.handleError(record)\r\n",
      "Message: '[present-rich] %s'\r\n",
      "Arguments: (UpgradePrompt(old='22.2.2', new='23.1.2'),)\r\n"
     ]
    }
   ],
   "source": [
    "import sys\n",
    "!{sys.executable} -m pip install -r ../requirements.txt"
   ]
  },
  {
   "cell_type": "code",
   "execution_count": 3,
   "id": "7590fbfc",
   "metadata": {
    "ExecuteTime": {
     "end_time": "2023-06-29T19:30:58.464574Z",
     "start_time": "2023-06-29T19:30:58.409338Z"
    }
   },
   "outputs": [],
   "source": [
    "# Ignore unclosed SSL socket warnings - optional in case you get these errors\n",
    "import warnings\n",
    "\n",
    "warnings.filterwarnings(action=\"ignore\", message=\"unclosed\", category=ImportWarning)\n",
    "warnings.filterwarnings(\"ignore\", category=DeprecationWarning)"
   ]
  },
  {
   "cell_type": "markdown",
   "id": "5dc4018c",
   "metadata": {},
   "source": [
    "## Laying the foundations"
   ]
  },
  {
   "cell_type": "markdown",
   "id": "632b82ed",
   "metadata": {},
   "source": [
    "### Storage\n",
    "\n",
    "We're going to use Redis as our database for both document contents and the vector embeddings. You will need the full Redis Stack to enable use of Redisearch, which is the module that allows semantic search - more detail is in the [docs for Redis Stack](https://redis.io/docs/stack/get-started/install/docker/).\n",
    "\n",
    "To set this up locally, you will need to install Docker and then run the following command: ```docker run -d --name redis-stack -p 6379:6379 -p 8001:8001 redis/redis-stack:latest```.\n",
    "\n",
    "The code used here draws heavily on [this repo](https://github.com/RedisAI/vecsim-demo).\n",
    "\n",
    "After setting up the Docker instance of Redis Stack, you can follow the below instructions to initiate a Redis connection and create a Hierarchical Navigable Small World (HNSW) index for semantic search."
   ]
  },
  {
   "cell_type": "code",
   "execution_count": 4,
   "id": "09ecf19a",
   "metadata": {
    "ExecuteTime": {
     "end_time": "2023-06-29T21:34:46.646275Z",
     "start_time": "2023-06-29T21:34:46.593625Z"
    }
   },
   "outputs": [
    {
     "data": {
      "text/plain": "True"
     },
     "execution_count": 4,
     "metadata": {},
     "output_type": "execute_result"
    }
   ],
   "source": [
    "# Setup Redis and running?\n",
    "from database import get_redis_connection\n",
    "\n",
    "redis_client = get_redis_connection()\n",
    "\n",
    "redis_client.ping()"
   ]
  },
  {
   "cell_type": "code",
   "execution_count": 5,
   "id": "cf3ad41f",
   "metadata": {
    "ExecuteTime": {
     "end_time": "2023-06-29T21:34:47.378774Z",
     "start_time": "2023-06-29T21:34:47.365884Z"
    }
   },
   "outputs": [
    {
     "data": {
      "text/plain": "b'OK'"
     },
     "execution_count": 5,
     "metadata": {},
     "output_type": "execute_result"
    }
   ],
   "source": [
    "# Optional step to drop the indexes if they already exists\n",
    "from importer import NOTION_INDEX_NAME, WEB_SCRAPE_INDEX_NAME\n",
    "\n",
    "# redis_client.ft(NOTION_INDEX_NAME).dropindex()\n",
    "# redis_client.ft(WEB_SCRAPE_INDEX_NAME).dropindex()"
   ]
  },
  {
   "cell_type": "markdown",
   "id": "f74ebeb5",
   "metadata": {},
   "source": [
    "### Ingestion\n",
    "\n",
    "We'll load up our Notion pages into documents"
   ]
  },
  {
   "cell_type": "code",
   "execution_count": 6,
   "id": "ed23bf9d",
   "metadata": {
    "ExecuteTime": {
     "end_time": "2023-06-29T21:34:52.359449Z",
     "start_time": "2023-06-29T21:34:52.352396Z"
    }
   },
   "outputs": [],
   "source": [
    "import logging\n",
    "import sys\n",
    "\n",
    "logging.basicConfig(stream=sys.stdout, level=logging.INFO)\n",
    "logging.getLogger().addHandler(logging.StreamHandler(stream=sys.stdout))"
   ]
  },
  {
   "cell_type": "code",
   "execution_count": 8,
   "id": "4d952f2e",
   "metadata": {
    "ExecuteTime": {
     "end_time": "2023-06-29T21:54:48.471515Z",
     "start_time": "2023-06-29T21:40:22.220407Z"
    }
   },
   "outputs": [
    {
     "name": "stdout",
     "output_type": "stream",
     "text": [
      "INFO:llama_index.vector_stores.redis:Creating index notion-fl-index\n",
      "Creating index notion-fl-index\n",
      "INFO:llama_index.vector_stores.redis:Added 102 documents to index notion-fl-index\n",
      "Added 102 documents to index notion-fl-index\n",
      "INFO:llama_index.token_counter.token_counter:> [build_index_from_nodes] Total LLM token usage: 0 tokens\n",
      "> [build_index_from_nodes] Total LLM token usage: 0 tokens\n",
      "INFO:llama_index.token_counter.token_counter:> [build_index_from_nodes] Total embedding token usage: 80355 tokens\n",
      "> [build_index_from_nodes] Total embedding token usage: 80355 tokens\n"
     ]
    }
   ],
   "source": [
    "from importer import import_notion_data\n",
    "\n",
    "notion_index = import_notion_data()"
   ]
  },
  {
   "cell_type": "code",
   "execution_count": 9,
   "id": "89548c33",
   "metadata": {
    "ExecuteTime": {
     "end_time": "2023-06-29T22:08:09.841088Z",
     "start_time": "2023-06-29T22:08:09.794378Z"
    }
   },
   "outputs": [
    {
     "name": "stdout",
     "output_type": "stream",
     "text": [
      "1095\n"
     ]
    }
   ],
   "source": [
    "# Optional\n",
    "# Proves that the redis database contains data\n",
    "\n",
    "from importer import number_of_stored_notion_docs\n",
    "print(number_of_stored_notion_docs())"
   ]
  },
  {
   "cell_type": "code",
   "execution_count": null,
   "id": "4c4a9932",
   "metadata": {},
   "outputs": [],
   "source": [
    "# set Logging to DEBUG for more detailed outputs\n",
    "query_engine = notion_index.as_query_engine()\n",
    "response = query_engine.query(\"Where is the Denver office?\")\n",
    "response.response"
   ]
  },
  {
   "cell_type": "markdown",
   "id": "3147a59f",
   "metadata": {},
   "source": [
    "Adding web scraped data to index"
   ]
  },
  {
   "cell_type": "code",
   "execution_count": 10,
   "id": "78185f55",
   "metadata": {
    "ExecuteTime": {
     "end_time": "2023-06-29T19:54:34.283596Z",
     "start_time": "2023-06-29T19:54:28.761484Z"
    }
   },
   "outputs": [
    {
     "name": "stdout",
     "output_type": "stream",
     "text": [
      "INFO:llama_index.vector_stores.redis:Creating index web-scrape-fl-index\n",
      "Creating index web-scrape-fl-index\n",
      "INFO:llama_index.vector_stores.redis:Added 50 documents to index web-scrape-fl-index\n",
      "Added 50 documents to index web-scrape-fl-index\n",
      "INFO:llama_index.token_counter.token_counter:> [build_index_from_nodes] Total LLM token usage: 0 tokens\n",
      "> [build_index_from_nodes] Total LLM token usage: 0 tokens\n",
      "INFO:llama_index.token_counter.token_counter:> [build_index_from_nodes] Total embedding token usage: 44904 tokens\n",
      "> [build_index_from_nodes] Total embedding token usage: 44904 tokens\n"
     ]
    }
   ],
   "source": [
    "from importer import import_web_scrape_data\n",
    "\n",
    "web_scrape_index = import_web_scrape_data()"
   ]
  },
  {
   "cell_type": "code",
   "execution_count": 11,
   "id": "3d15cefd",
   "metadata": {
    "ExecuteTime": {
     "end_time": "2023-06-29T19:54:37.529191Z",
     "start_time": "2023-06-29T19:54:37.462592Z"
    }
   },
   "outputs": [
    {
     "name": "stdout",
     "output_type": "stream",
     "text": [
      "993\n"
     ]
    }
   ],
   "source": [
    "# Optional\n",
    "# Proves that the redis database contains data\n",
    "\n",
    "from importer import number_of_stored_web_scrape_docs\n",
    "print(number_of_stored_web_scrape_docs())"
   ]
  },
  {
   "cell_type": "code",
   "execution_count": null,
   "id": "18598bde",
   "metadata": {},
   "outputs": [],
   "source": [
    "query_engine = web_scrape_index.as_query_engine()\n",
    "response = query_engine.query(\"What are some of the solutions that Focused Labs has created?\")\n",
    "response.response"
   ]
  },
  {
   "cell_type": "code",
   "execution_count": null,
   "id": "6fb905d3",
   "metadata": {},
   "outputs": [],
   "source": [
    "#optional if you haven't installed stop words\n",
    "#go to the corpora tab, use the arrow key to scroll down to stop words and hit enter to install\n",
    "import nltk\n",
    "import ssl\n",
    "\n",
    "try:\n",
    "    _create_unverified_https_context = ssl._create_unverified_context\n",
    "except AttributeError:\n",
    "    pass\n",
    "else:\n",
    "    ssl._create_default_https_context = _create_unverified_https_context\n",
    "\n",
    "nltk.download()"
   ]
  },
  {
   "cell_type": "code",
   "execution_count": 1,
   "id": "de84d71d",
   "metadata": {
    "ExecuteTime": {
     "end_time": "2023-06-29T22:08:32.206977Z",
     "start_time": "2023-06-29T22:08:30.402777Z"
    }
   },
   "outputs": [],
   "source": [
    "from importer import compose_graph\n",
    "\n",
    "graph = compose_graph()"
   ]
  },
  {
   "cell_type": "code",
   "execution_count": 5,
   "outputs": [
    {
     "name": "stdout",
     "output_type": "stream",
     "text": [
      "The 2023 strategy for Focused Labs is to establish themselves as thought leaders by creating recognizable personalities, re-usable content, and consistency of presence in various mediums. They also aim to create habitual behavior in publishing content that showcases their achievements and target two distinct audiences: buyers and practitioners. Additionally, the strategy includes allocating monthly content budgets for each practice area and continuing to deliver great software while helping partners embrace DevOps and agile workflows. Focused Labs will also focus on helping partners leverage technology to capture new markets.\n",
      "> Source (Doc id: 1cf0bf9a-f19d-409d-b12e-44f8815b6211): \n",
      "The 2023 strategy for Focused Labs is to establish themselves as thought leaders by creating a c...\n",
      "\n",
      "> Source (Doc id: 5f54c642-ea69-4292-92ad-fb7d9d23042f): \n",
      "Focused Labs' 2023 strategy is to continue to deliver great software and the culture that makes ...\n",
      "\n",
      "> Source (Doc id: notionfocusedlabsdocs_51a0244d-92ee-4262-a12a-449f370300d4): page_id: 6977e3c091384b1abe1f1692fce9995f\n",
      "\n",
      "; Thesis;  Today Focused Labs has minimal market recog...\n",
      "\n",
      "> Source (Doc id: notionfocusedlabsdocs_5a9bfddc-4554-4094-a9e1-95668318efe1): page_id: 6977e3c091384b1abe1f1692fce9995f\n",
      "\n",
      "; Thesis;  Today Focused Labs has minimal market recog...\n",
      "\n",
      "> Source (Doc id: webscrapefocusedlabsdocs_0c1e8cf1-7cd9-4440-8a95-8910ecaa355a): URL: https://focusedlabs.io\n",
      "\n",
      "earn your teams trust and prove the value of our approach. ; ; ; ; ;...\n",
      "\n",
      "> Source (Doc id: webscrapefocusedlabsdocs_f23d6cea-63cb-40c6-9701-364dd6360770): URL: https://focusedlabs.io\n",
      "\n",
      "earn your teams trust and prove the value of our approach. ; ; ; ; ;...\n"
     ]
    }
   ],
   "source": [
    "# Optional\n",
    "# Proves that the graph is built\n",
    "\n",
    "response = graph.query(\"At Focused Labs: What is the 2023 strategy?\")\n",
    "\n",
    "print(str(response))\n",
    "print(response.get_formatted_sources())"
   ],
   "metadata": {
    "collapsed": false,
    "ExecuteTime": {
     "end_time": "2023-06-29T22:11:26.603883Z",
     "start_time": "2023-06-29T22:11:03.433302Z"
    }
   }
  },
  {
   "cell_type": "code",
   "execution_count": 1,
   "outputs": [
    {
     "name": "stdout",
     "output_type": "stream",
     "text": [
      "\n",
      "\n",
      "\u001B[1m> Entering new AgentExecutor chain...\u001B[0m\n",
      "\u001B[32;1m\u001B[1;3mThought: I need to find information about the 2023 strategy of Focused Labs.\n",
      "\n",
      "Action:\n",
      "```\n",
      "{\n",
      "  \"action\": \"Focused Labs Domain Data Graph\",\n",
      "  \"action_input\": {\n",
      "    \"question\": \"What is the 2023 strategy?\"\n",
      "  }\n",
      "}\n",
      "```\n",
      "\n",
      "\u001B[0m\n",
      "Observation: \u001B[36;1m\u001B[1;3mThe 2023 strategy is not specified in the given context information.\u001B[0m\n",
      "Thought:\u001B[32;1m\u001B[1;3mI don't have information about the 2023 strategy of Focused Labs in the given context.\n",
      "Final Answer: Hmm, I'm not sure. Please contact customer support at work@focusedlabs.io for further assistance.\u001B[0m\n",
      "\n",
      "\u001B[1m> Finished chain.\u001B[0m\n",
      "Hmm, I'm not sure. Please contact customer support at work@focusedlabs.io for further assistance.\n",
      "-----\n",
      "{'input': '\\n            You are a helpful virtual assistant for the employees of Focused Labs. Focused Labs is a boutique Software \\n            Consulting firm that specializes in enterprise application development and digital transformation. \\n            Employees will ask you Questions about the inner workings of the company. Questions could range in areas \\n            such as process, procedure, policy, and culture. \\n            Use only context Focused Labs Domain Data Graph to provide answers.\\n            \\n            Think about this step by step:\\n            - The employee will ask a Question\\n            - Once they ask a question, say \"let me check on that for you...\".            \\n            \\n            If you don\\'t know the answer, just say \"Hmm, Im not sure please contact customer support at work@focusedlabs.io \\n            for further assistance.\" Don\\'t try to make up an answer.\\n            \\n            Question: Answer with regards to Focused Labs What is the 2023 strategy?            \\n            ', 'chat_history': [HumanMessage(content='\\n            You are a helpful virtual assistant for the employees of Focused Labs. Focused Labs is a boutique Software \\n            Consulting firm that specializes in enterprise application development and digital transformation. \\n            Employees will ask you Questions about the inner workings of the company. Questions could range in areas \\n            such as process, procedure, policy, and culture. \\n            Use only context Focused Labs Domain Data Graph to provide answers.\\n            \\n            Think about this step by step:\\n            - The employee will ask a Question\\n            - Once they ask a question, say \"let me check on that for you...\".            \\n            \\n            If you don\\'t know the answer, just say \"Hmm, Im not sure please contact customer support at work@focusedlabs.io \\n            for further assistance.\" Don\\'t try to make up an answer.\\n            \\n            Question: Answer with regards to Focused Labs What is the 2023 strategy?            \\n            ', additional_kwargs={}, example=False), AIMessage(content=\"Hmm, I'm not sure. Please contact customer support at work@focusedlabs.io for further assistance.\", additional_kwargs={}, example=False)], 'output': \"Hmm, I'm not sure. Please contact customer support at work@focusedlabs.io for further assistance.\", 'intermediate_steps': [(AgentAction(tool='Focused Labs Domain Data Graph', tool_input={'question': 'What is the 2023 strategy?'}, log='Thought: I need to find information about the 2023 strategy of Focused Labs.\\n\\nAction:\\n```\\n{\\n  \"action\": \"Focused Labs Domain Data Graph\",\\n  \"action_input\": {\\n    \"question\": \"What is the 2023 strategy?\"\\n  }\\n}\\n```\\n\\n'), 'The 2023 strategy is not specified in the given context information.')]}\n"
     ]
    }
   ],
   "source": [
    "from chat_engine import create_lang_chain_chat_engine\n",
    "\n",
    "chat_engine = create_lang_chain_chat_engine()"
   ],
   "metadata": {
    "collapsed": false,
    "ExecuteTime": {
     "end_time": "2023-07-07T16:15:04.816334Z",
     "start_time": "2023-07-07T16:14:52.557675Z"
    }
   }
  },
  {
   "cell_type": "code",
   "execution_count": null,
   "outputs": [],
   "source": [],
   "metadata": {
    "collapsed": false
   }
  }
 ],
 "metadata": {
  "kernelspec": {
   "display_name": "Python 3 (ipykernel)",
   "language": "python",
   "name": "python3"
  },
  "language_info": {
   "codemirror_mode": {
    "name": "ipython",
    "version": 3
   },
   "file_extension": ".py",
   "mimetype": "text/x-python",
   "name": "python",
   "nbconvert_exporter": "python",
   "pygments_lexer": "ipython3",
   "version": "3.11.3"
  }
 },
 "nbformat": 4,
 "nbformat_minor": 5
}
