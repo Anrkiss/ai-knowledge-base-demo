{
 "cells": [
  {
   "cell_type": "code",
   "execution_count": 1,
   "id": "59f08ea7",
   "metadata": {
    "ExecuteTime": {
     "start_time": "2023-07-17T15:25:40.173060Z",
     "end_time": "2023-07-17T15:25:40.189215Z"
    }
   },
   "outputs": [],
   "source": [
    "#reloads modules before executing user code\n",
    "%load_ext autoreload\n",
    "%autoreload 2"
   ]
  },
  {
   "cell_type": "markdown",
   "id": "b8ae815d",
   "metadata": {},
   "source": []
  },
  {
   "cell_type": "code",
   "execution_count": 1,
   "id": "fbb963fc",
   "metadata": {
    "ExecuteTime": {
     "start_time": "2023-07-17T15:40:33.240807Z",
     "end_time": "2023-07-17T15:40:45.242003Z"
    }
   },
   "outputs": [
    {
     "name": "stdout",
     "output_type": "stream",
     "text": [
      "Requirement already satisfied: openai==0.27.1 in /opt/homebrew/lib/python3.11/site-packages (from -r requirements.txt (line 1)) (0.27.1)\r\n",
      "Requirement already satisfied: redis==4.5.1 in /opt/homebrew/lib/python3.11/site-packages (from -r requirements.txt (line 2)) (4.5.1)\r\n",
      "Requirement already satisfied: requests==2.28.2 in /opt/homebrew/lib/python3.11/site-packages (from -r requirements.txt (line 3)) (2.28.2)\r\n",
      "Requirement already satisfied: termcolor==2.2.0 in /opt/homebrew/lib/python3.11/site-packages (from -r requirements.txt (line 4)) (2.2.0)\r\n",
      "Requirement already satisfied: jupyter in /opt/homebrew/lib/python3.11/site-packages (from -r requirements.txt (line 5)) (1.0.0)\r\n",
      "Requirement already satisfied: ipykernel in /opt/homebrew/lib/python3.11/site-packages (from -r requirements.txt (line 6)) (6.23.1)\r\n",
      "Requirement already satisfied: textract in /opt/homebrew/lib/python3.11/site-packages (from -r requirements.txt (line 7)) (1.6.5)\r\n",
      "Requirement already satisfied: llama-index in /opt/homebrew/lib/python3.11/site-packages (from -r requirements.txt (line 8)) (0.6.21.post1)\r\n",
      "Requirement already satisfied: langchain in /opt/homebrew/lib/python3.11/site-packages (from -r requirements.txt (line 9)) (0.0.187)\r\n",
      "Requirement already satisfied: python-dotenv in /opt/homebrew/lib/python3.11/site-packages (from -r requirements.txt (line 10)) (1.0.0)\r\n",
      "Requirement already satisfied: httpx in /opt/homebrew/lib/python3.11/site-packages (from -r requirements.txt (line 11)) (0.23.3)\r\n",
      "Requirement already satisfied: fastapi in /opt/homebrew/lib/python3.11/site-packages (from -r requirements.txt (line 12)) (0.95.2)\r\n",
      "Requirement already satisfied: uvicorn in /opt/homebrew/lib/python3.11/site-packages (from -r requirements.txt (line 13)) (0.22.0)\r\n",
      "Requirement already satisfied: pinecone-client in /opt/homebrew/lib/python3.11/site-packages (from -r requirements.txt (line 14)) (2.2.2)\r\n",
      "Requirement already satisfied: transformers in /opt/homebrew/lib/python3.11/site-packages (from -r requirements.txt (line 15)) (4.30.2)\r\n",
      "Requirement already satisfied: tqdm in /opt/homebrew/lib/python3.11/site-packages (from openai==0.27.1->-r requirements.txt (line 1)) (4.65.0)\r\n",
      "Requirement already satisfied: aiohttp in /opt/homebrew/lib/python3.11/site-packages (from openai==0.27.1->-r requirements.txt (line 1)) (3.8.4)\r\n",
      "Requirement already satisfied: async-timeout>=4.0.2 in /opt/homebrew/lib/python3.11/site-packages (from redis==4.5.1->-r requirements.txt (line 2)) (4.0.2)\r\n",
      "Requirement already satisfied: charset-normalizer<4,>=2 in /opt/homebrew/lib/python3.11/site-packages (from requests==2.28.2->-r requirements.txt (line 3)) (3.1.0)\r\n",
      "Requirement already satisfied: idna<4,>=2.5 in /opt/homebrew/lib/python3.11/site-packages (from requests==2.28.2->-r requirements.txt (line 3)) (3.4)\r\n",
      "Requirement already satisfied: urllib3<1.27,>=1.21.1 in /opt/homebrew/lib/python3.11/site-packages (from requests==2.28.2->-r requirements.txt (line 3)) (1.26.6)\r\n",
      "Requirement already satisfied: certifi>=2017.4.17 in /opt/homebrew/lib/python3.11/site-packages (from requests==2.28.2->-r requirements.txt (line 3)) (2023.5.7)\r\n",
      "Requirement already satisfied: notebook in /opt/homebrew/lib/python3.11/site-packages (from jupyter->-r requirements.txt (line 5)) (6.5.4)\r\n",
      "Requirement already satisfied: qtconsole in /opt/homebrew/lib/python3.11/site-packages (from jupyter->-r requirements.txt (line 5)) (5.4.3)\r\n",
      "Requirement already satisfied: jupyter-console in /opt/homebrew/lib/python3.11/site-packages (from jupyter->-r requirements.txt (line 5)) (6.6.3)\r\n",
      "Requirement already satisfied: nbconvert in /opt/homebrew/lib/python3.11/site-packages (from jupyter->-r requirements.txt (line 5)) (7.4.0)\r\n",
      "Requirement already satisfied: ipywidgets in /opt/homebrew/lib/python3.11/site-packages (from jupyter->-r requirements.txt (line 5)) (8.0.6)\r\n",
      "Requirement already satisfied: appnope in /opt/homebrew/lib/python3.11/site-packages (from ipykernel->-r requirements.txt (line 6)) (0.1.3)\r\n",
      "Requirement already satisfied: comm>=0.1.1 in /opt/homebrew/lib/python3.11/site-packages (from ipykernel->-r requirements.txt (line 6)) (0.1.3)\r\n",
      "Requirement already satisfied: debugpy>=1.6.5 in /opt/homebrew/lib/python3.11/site-packages (from ipykernel->-r requirements.txt (line 6)) (1.6.7)\r\n",
      "Requirement already satisfied: ipython>=7.23.1 in /opt/homebrew/lib/python3.11/site-packages (from ipykernel->-r requirements.txt (line 6)) (8.13.2)\r\n",
      "Requirement already satisfied: jupyter-client>=6.1.12 in /opt/homebrew/lib/python3.11/site-packages (from ipykernel->-r requirements.txt (line 6)) (8.2.0)\r\n",
      "Requirement already satisfied: jupyter-core!=5.0.*,>=4.12 in /opt/homebrew/lib/python3.11/site-packages (from ipykernel->-r requirements.txt (line 6)) (5.3.0)\r\n",
      "Requirement already satisfied: matplotlib-inline>=0.1 in /opt/homebrew/lib/python3.11/site-packages (from ipykernel->-r requirements.txt (line 6)) (0.1.6)\r\n",
      "Requirement already satisfied: nest-asyncio in /opt/homebrew/lib/python3.11/site-packages (from ipykernel->-r requirements.txt (line 6)) (1.5.6)\r\n",
      "Requirement already satisfied: packaging in /opt/homebrew/lib/python3.11/site-packages (from ipykernel->-r requirements.txt (line 6)) (23.1)\r\n",
      "Requirement already satisfied: psutil in /opt/homebrew/lib/python3.11/site-packages (from ipykernel->-r requirements.txt (line 6)) (5.9.5)\r\n",
      "Requirement already satisfied: pyzmq>=20 in /opt/homebrew/lib/python3.11/site-packages (from ipykernel->-r requirements.txt (line 6)) (25.1.0)\r\n",
      "Requirement already satisfied: tornado>=6.1 in /opt/homebrew/lib/python3.11/site-packages (from ipykernel->-r requirements.txt (line 6)) (6.3.2)\r\n",
      "Requirement already satisfied: traitlets>=5.4.0 in /opt/homebrew/lib/python3.11/site-packages (from ipykernel->-r requirements.txt (line 6)) (5.9.0)\r\n",
      "Requirement already satisfied: argcomplete~=1.10.0 in /opt/homebrew/lib/python3.11/site-packages (from textract->-r requirements.txt (line 7)) (1.10.3)\r\n",
      "Requirement already satisfied: beautifulsoup4~=4.8.0 in /opt/homebrew/lib/python3.11/site-packages (from textract->-r requirements.txt (line 7)) (4.8.2)\r\n",
      "Requirement already satisfied: chardet==3.* in /opt/homebrew/lib/python3.11/site-packages (from textract->-r requirements.txt (line 7)) (3.0.4)\r\n",
      "Requirement already satisfied: docx2txt~=0.8 in /opt/homebrew/lib/python3.11/site-packages (from textract->-r requirements.txt (line 7)) (0.8)\r\n",
      "Requirement already satisfied: extract-msg<=0.29.* in /opt/homebrew/lib/python3.11/site-packages (from textract->-r requirements.txt (line 7)) (0.28.7)\r\n",
      "Requirement already satisfied: pdfminer.six==20191110 in /opt/homebrew/lib/python3.11/site-packages (from textract->-r requirements.txt (line 7)) (20191110)\r\n",
      "Requirement already satisfied: python-pptx~=0.6.18 in /opt/homebrew/lib/python3.11/site-packages (from textract->-r requirements.txt (line 7)) (0.6.21)\r\n",
      "Requirement already satisfied: six~=1.12.0 in /opt/homebrew/lib/python3.11/site-packages (from textract->-r requirements.txt (line 7)) (1.12.0)\r\n",
      "Requirement already satisfied: SpeechRecognition~=3.8.1 in /opt/homebrew/lib/python3.11/site-packages (from textract->-r requirements.txt (line 7)) (3.8.1)\r\n",
      "Requirement already satisfied: xlrd~=1.2.0 in /opt/homebrew/lib/python3.11/site-packages (from textract->-r requirements.txt (line 7)) (1.2.0)\r\n",
      "Requirement already satisfied: pycryptodome in /opt/homebrew/lib/python3.11/site-packages (from pdfminer.six==20191110->textract->-r requirements.txt (line 7)) (3.18.0)\r\n",
      "Requirement already satisfied: sortedcontainers in /opt/homebrew/lib/python3.11/site-packages (from pdfminer.six==20191110->textract->-r requirements.txt (line 7)) (2.4.0)\r\n",
      "Requirement already satisfied: dataclasses-json in /opt/homebrew/lib/python3.11/site-packages (from llama-index->-r requirements.txt (line 8)) (0.5.7)\r\n",
      "Requirement already satisfied: sqlalchemy>=2.0.15 in /opt/homebrew/lib/python3.11/site-packages (from llama-index->-r requirements.txt (line 8)) (2.0.15)\r\n",
      "Requirement already satisfied: numpy in /opt/homebrew/lib/python3.11/site-packages (from llama-index->-r requirements.txt (line 8)) (1.24.2)\r\n",
      "Requirement already satisfied: tenacity<9.0.0,>=8.2.0 in /opt/homebrew/lib/python3.11/site-packages (from llama-index->-r requirements.txt (line 8)) (8.2.2)\r\n",
      "Requirement already satisfied: pandas in /opt/homebrew/lib/python3.11/site-packages (from llama-index->-r requirements.txt (line 8)) (1.5.3)\r\n",
      "Requirement already satisfied: fsspec>=2023.5.0 in /opt/homebrew/lib/python3.11/site-packages (from llama-index->-r requirements.txt (line 8)) (2023.5.0)\r\n",
      "Requirement already satisfied: typing-inspect==0.8.0 in /opt/homebrew/lib/python3.11/site-packages (from llama-index->-r requirements.txt (line 8)) (0.8.0)\r\n",
      "Requirement already satisfied: typing-extensions==4.5.0 in /opt/homebrew/lib/python3.11/site-packages (from llama-index->-r requirements.txt (line 8)) (4.5.0)\r\n",
      "Requirement already satisfied: tiktoken in /opt/homebrew/lib/python3.11/site-packages (from llama-index->-r requirements.txt (line 8)) (0.4.0)\r\n",
      "Requirement already satisfied: mypy-extensions>=0.3.0 in /opt/homebrew/lib/python3.11/site-packages (from typing-inspect==0.8.0->llama-index->-r requirements.txt (line 8)) (1.0.0)\r\n",
      "Requirement already satisfied: PyYAML>=5.4.1 in /opt/homebrew/lib/python3.11/site-packages (from langchain->-r requirements.txt (line 9)) (6.0)\r\n",
      "Requirement already satisfied: numexpr<3.0.0,>=2.8.4 in /opt/homebrew/lib/python3.11/site-packages (from langchain->-r requirements.txt (line 9)) (2.8.4)\r\n",
      "Requirement already satisfied: openapi-schema-pydantic<2.0,>=1.2 in /opt/homebrew/lib/python3.11/site-packages (from langchain->-r requirements.txt (line 9)) (1.2.4)\r\n",
      "Requirement already satisfied: pydantic<2,>=1 in /opt/homebrew/lib/python3.11/site-packages (from langchain->-r requirements.txt (line 9)) (1.10.8)\r\n",
      "Requirement already satisfied: httpcore<0.17.0,>=0.15.0 in /opt/homebrew/lib/python3.11/site-packages (from httpx->-r requirements.txt (line 11)) (0.16.3)\r\n",
      "Requirement already satisfied: rfc3986[idna2008]<2,>=1.3 in /opt/homebrew/lib/python3.11/site-packages (from httpx->-r requirements.txt (line 11)) (1.5.0)\r\n",
      "Requirement already satisfied: sniffio in /opt/homebrew/lib/python3.11/site-packages (from httpx->-r requirements.txt (line 11)) (1.3.0)\r\n",
      "Requirement already satisfied: starlette<0.28.0,>=0.27.0 in /opt/homebrew/lib/python3.11/site-packages (from fastapi->-r requirements.txt (line 12)) (0.27.0)\r\n",
      "Requirement already satisfied: click>=7.0 in /opt/homebrew/lib/python3.11/site-packages (from uvicorn->-r requirements.txt (line 13)) (8.1.3)\r\n",
      "Requirement already satisfied: h11>=0.8 in /opt/homebrew/lib/python3.11/site-packages (from uvicorn->-r requirements.txt (line 13)) (0.14.0)\r\n",
      "Requirement already satisfied: loguru>=0.5.0 in /opt/homebrew/lib/python3.11/site-packages (from pinecone-client->-r requirements.txt (line 14)) (0.7.0)\r\n",
      "Requirement already satisfied: dnspython>=2.0.0 in /opt/homebrew/lib/python3.11/site-packages (from pinecone-client->-r requirements.txt (line 14)) (2.3.0)\r\n",
      "Requirement already satisfied: python-dateutil>=2.5.3 in /opt/homebrew/lib/python3.11/site-packages (from pinecone-client->-r requirements.txt (line 14)) (2.8.2)\r\n",
      "Requirement already satisfied: filelock in /opt/homebrew/lib/python3.11/site-packages (from transformers->-r requirements.txt (line 15)) (3.12.0)\r\n",
      "Requirement already satisfied: huggingface-hub<1.0,>=0.14.1 in /opt/homebrew/lib/python3.11/site-packages (from transformers->-r requirements.txt (line 15)) (0.16.4)\r\n",
      "Requirement already satisfied: regex!=2019.12.17 in /opt/homebrew/lib/python3.11/site-packages (from transformers->-r requirements.txt (line 15)) (2023.5.5)\r\n",
      "Requirement already satisfied: tokenizers!=0.11.3,<0.14,>=0.11.1 in /opt/homebrew/lib/python3.11/site-packages (from transformers->-r requirements.txt (line 15)) (0.13.3)\r\n",
      "Requirement already satisfied: safetensors>=0.3.1 in /opt/homebrew/lib/python3.11/site-packages (from transformers->-r requirements.txt (line 15)) (0.3.1)\r\n",
      "Requirement already satisfied: attrs>=17.3.0 in /opt/homebrew/lib/python3.11/site-packages (from aiohttp->openai==0.27.1->-r requirements.txt (line 1)) (23.1.0)\r\n",
      "Requirement already satisfied: multidict<7.0,>=4.5 in /opt/homebrew/lib/python3.11/site-packages (from aiohttp->openai==0.27.1->-r requirements.txt (line 1)) (6.0.4)\r\n",
      "Requirement already satisfied: yarl<2.0,>=1.0 in /opt/homebrew/lib/python3.11/site-packages (from aiohttp->openai==0.27.1->-r requirements.txt (line 1)) (1.9.2)\r\n",
      "Requirement already satisfied: frozenlist>=1.1.1 in /opt/homebrew/lib/python3.11/site-packages (from aiohttp->openai==0.27.1->-r requirements.txt (line 1)) (1.3.3)\r\n",
      "Requirement already satisfied: aiosignal>=1.1.2 in /opt/homebrew/lib/python3.11/site-packages (from aiohttp->openai==0.27.1->-r requirements.txt (line 1)) (1.3.1)\r\n",
      "Requirement already satisfied: soupsieve>=1.2 in /opt/homebrew/lib/python3.11/site-packages (from beautifulsoup4~=4.8.0->textract->-r requirements.txt (line 7)) (2.4.1)\r\n",
      "Requirement already satisfied: marshmallow<4.0.0,>=3.3.0 in /opt/homebrew/lib/python3.11/site-packages (from dataclasses-json->llama-index->-r requirements.txt (line 8)) (3.19.0)\r\n",
      "Requirement already satisfied: marshmallow-enum<2.0.0,>=1.5.1 in /opt/homebrew/lib/python3.11/site-packages (from dataclasses-json->llama-index->-r requirements.txt (line 8)) (1.5.1)\r\n",
      "Requirement already satisfied: imapclient==2.1.0 in /opt/homebrew/lib/python3.11/site-packages (from extract-msg<=0.29.*->textract->-r requirements.txt (line 7)) (2.1.0)\r\n",
      "Requirement already satisfied: olefile>=0.46 in /opt/homebrew/lib/python3.11/site-packages (from extract-msg<=0.29.*->textract->-r requirements.txt (line 7)) (0.46)\r\n",
      "Requirement already satisfied: tzlocal>=2.1 in /opt/homebrew/lib/python3.11/site-packages (from extract-msg<=0.29.*->textract->-r requirements.txt (line 7)) (5.0.1)\r\n",
      "Requirement already satisfied: compressed-rtf>=1.0.6 in /opt/homebrew/lib/python3.11/site-packages (from extract-msg<=0.29.*->textract->-r requirements.txt (line 7)) (1.0.6)\r\n",
      "Requirement already satisfied: ebcdic>=1.1.1 in /opt/homebrew/lib/python3.11/site-packages (from extract-msg<=0.29.*->textract->-r requirements.txt (line 7)) (1.1.1)\r\n",
      "Requirement already satisfied: anyio<5.0,>=3.0 in /opt/homebrew/lib/python3.11/site-packages (from httpcore<0.17.0,>=0.15.0->httpx->-r requirements.txt (line 11)) (3.7.0)\r\n",
      "Requirement already satisfied: backcall in /opt/homebrew/lib/python3.11/site-packages (from ipython>=7.23.1->ipykernel->-r requirements.txt (line 6)) (0.2.0)\r\n",
      "Requirement already satisfied: decorator in /opt/homebrew/lib/python3.11/site-packages (from ipython>=7.23.1->ipykernel->-r requirements.txt (line 6)) (5.1.1)\r\n",
      "Requirement already satisfied: jedi>=0.16 in /opt/homebrew/lib/python3.11/site-packages (from ipython>=7.23.1->ipykernel->-r requirements.txt (line 6)) (0.18.2)\r\n",
      "Requirement already satisfied: pickleshare in /opt/homebrew/lib/python3.11/site-packages (from ipython>=7.23.1->ipykernel->-r requirements.txt (line 6)) (0.7.5)\r\n",
      "Requirement already satisfied: prompt-toolkit!=3.0.37,<3.1.0,>=3.0.30 in /opt/homebrew/lib/python3.11/site-packages (from ipython>=7.23.1->ipykernel->-r requirements.txt (line 6)) (3.0.38)\r\n",
      "Requirement already satisfied: pygments>=2.4.0 in /opt/homebrew/lib/python3.11/site-packages (from ipython>=7.23.1->ipykernel->-r requirements.txt (line 6)) (2.15.1)\r\n",
      "Requirement already satisfied: stack-data in /opt/homebrew/lib/python3.11/site-packages (from ipython>=7.23.1->ipykernel->-r requirements.txt (line 6)) (0.6.2)\r\n",
      "Requirement already satisfied: pexpect>4.3 in /opt/homebrew/lib/python3.11/site-packages (from ipython>=7.23.1->ipykernel->-r requirements.txt (line 6)) (4.8.0)\r\n",
      "Requirement already satisfied: platformdirs>=2.5 in /opt/homebrew/lib/python3.11/site-packages (from jupyter-core!=5.0.*,>=4.12->ipykernel->-r requirements.txt (line 6)) (3.5.1)\r\n",
      "Requirement already satisfied: lxml>=3.1.0 in /opt/homebrew/lib/python3.11/site-packages (from python-pptx~=0.6.18->textract->-r requirements.txt (line 7)) (4.9.2)\r\n",
      "Requirement already satisfied: Pillow>=3.3.2 in /opt/homebrew/lib/python3.11/site-packages (from python-pptx~=0.6.18->textract->-r requirements.txt (line 7)) (9.5.0)\r\n",
      "Requirement already satisfied: XlsxWriter>=0.5.7 in /opt/homebrew/lib/python3.11/site-packages (from python-pptx~=0.6.18->textract->-r requirements.txt (line 7)) (3.1.2)\r\n",
      "Requirement already satisfied: widgetsnbextension~=4.0.7 in /opt/homebrew/lib/python3.11/site-packages (from ipywidgets->jupyter->-r requirements.txt (line 5)) (4.0.7)\r\n",
      "Requirement already satisfied: jupyterlab-widgets~=3.0.7 in /opt/homebrew/lib/python3.11/site-packages (from ipywidgets->jupyter->-r requirements.txt (line 5)) (3.0.7)\r\n",
      "Requirement already satisfied: bleach in /opt/homebrew/lib/python3.11/site-packages (from nbconvert->jupyter->-r requirements.txt (line 5)) (6.0.0)\r\n",
      "Requirement already satisfied: defusedxml in /opt/homebrew/lib/python3.11/site-packages (from nbconvert->jupyter->-r requirements.txt (line 5)) (0.7.1)\r\n",
      "Requirement already satisfied: jinja2>=3.0 in /opt/homebrew/lib/python3.11/site-packages (from nbconvert->jupyter->-r requirements.txt (line 5)) (3.1.2)\r\n",
      "Requirement already satisfied: jupyterlab-pygments in /opt/homebrew/lib/python3.11/site-packages (from nbconvert->jupyter->-r requirements.txt (line 5)) (0.2.2)\r\n",
      "Requirement already satisfied: markupsafe>=2.0 in /opt/homebrew/lib/python3.11/site-packages (from nbconvert->jupyter->-r requirements.txt (line 5)) (2.1.2)\r\n",
      "Requirement already satisfied: mistune<3,>=2.0.3 in /opt/homebrew/lib/python3.11/site-packages (from nbconvert->jupyter->-r requirements.txt (line 5)) (2.0.5)\r\n",
      "Requirement already satisfied: nbclient>=0.5.0 in /opt/homebrew/lib/python3.11/site-packages (from nbconvert->jupyter->-r requirements.txt (line 5)) (0.8.0)\r\n",
      "Requirement already satisfied: nbformat>=5.1 in /opt/homebrew/lib/python3.11/site-packages (from nbconvert->jupyter->-r requirements.txt (line 5)) (5.9.0)\r\n",
      "Requirement already satisfied: pandocfilters>=1.4.1 in /opt/homebrew/lib/python3.11/site-packages (from nbconvert->jupyter->-r requirements.txt (line 5)) (1.5.0)\r\n",
      "Requirement already satisfied: tinycss2 in /opt/homebrew/lib/python3.11/site-packages (from nbconvert->jupyter->-r requirements.txt (line 5)) (1.2.1)\r\n",
      "Requirement already satisfied: argon2-cffi in /opt/homebrew/lib/python3.11/site-packages (from notebook->jupyter->-r requirements.txt (line 5)) (21.3.0)\r\n",
      "Requirement already satisfied: ipython-genutils in /opt/homebrew/lib/python3.11/site-packages (from notebook->jupyter->-r requirements.txt (line 5)) (0.2.0)\r\n",
      "Requirement already satisfied: Send2Trash>=1.8.0 in /opt/homebrew/lib/python3.11/site-packages (from notebook->jupyter->-r requirements.txt (line 5)) (1.8.2)\r\n",
      "Requirement already satisfied: terminado>=0.8.3 in /opt/homebrew/lib/python3.11/site-packages (from notebook->jupyter->-r requirements.txt (line 5)) (0.17.1)\r\n",
      "Requirement already satisfied: prometheus-client in /opt/homebrew/lib/python3.11/site-packages (from notebook->jupyter->-r requirements.txt (line 5)) (0.17.0)\r\n",
      "Requirement already satisfied: nbclassic>=0.4.7 in /opt/homebrew/lib/python3.11/site-packages (from notebook->jupyter->-r requirements.txt (line 5)) (1.0.0)\r\n",
      "Requirement already satisfied: pytz>=2020.1 in /opt/homebrew/lib/python3.11/site-packages (from pandas->llama-index->-r requirements.txt (line 8)) (2023.3)\r\n",
      "Requirement already satisfied: qtpy>=2.0.1 in /opt/homebrew/lib/python3.11/site-packages (from qtconsole->jupyter->-r requirements.txt (line 5)) (2.3.1)\r\n",
      "Requirement already satisfied: parso<0.9.0,>=0.8.0 in /opt/homebrew/lib/python3.11/site-packages (from jedi>=0.16->ipython>=7.23.1->ipykernel->-r requirements.txt (line 6)) (0.8.3)\r\n",
      "Requirement already satisfied: jupyter-server>=1.8 in /opt/homebrew/lib/python3.11/site-packages (from nbclassic>=0.4.7->notebook->jupyter->-r requirements.txt (line 5)) (2.6.0)\r\n",
      "Requirement already satisfied: notebook-shim>=0.2.3 in /opt/homebrew/lib/python3.11/site-packages (from nbclassic>=0.4.7->notebook->jupyter->-r requirements.txt (line 5)) (0.2.3)\r\n",
      "Requirement already satisfied: fastjsonschema in /opt/homebrew/lib/python3.11/site-packages (from nbformat>=5.1->nbconvert->jupyter->-r requirements.txt (line 5)) (2.17.1)\r\n",
      "Requirement already satisfied: jsonschema>=2.6 in /opt/homebrew/lib/python3.11/site-packages (from nbformat>=5.1->nbconvert->jupyter->-r requirements.txt (line 5)) (4.17.3)\r\n",
      "Requirement already satisfied: ptyprocess>=0.5 in /opt/homebrew/lib/python3.11/site-packages (from pexpect>4.3->ipython>=7.23.1->ipykernel->-r requirements.txt (line 6)) (0.7.0)\r\n",
      "Requirement already satisfied: wcwidth in /opt/homebrew/lib/python3.11/site-packages (from prompt-toolkit!=3.0.37,<3.1.0,>=3.0.30->ipython>=7.23.1->ipykernel->-r requirements.txt (line 6)) (0.2.6)\r\n",
      "Requirement already satisfied: argon2-cffi-bindings in /opt/homebrew/lib/python3.11/site-packages (from argon2-cffi->notebook->jupyter->-r requirements.txt (line 5)) (21.2.0)\r\n",
      "Requirement already satisfied: webencodings in /opt/homebrew/lib/python3.11/site-packages (from bleach->nbconvert->jupyter->-r requirements.txt (line 5)) (0.5.1)\r\n",
      "Requirement already satisfied: executing>=1.2.0 in /opt/homebrew/lib/python3.11/site-packages (from stack-data->ipython>=7.23.1->ipykernel->-r requirements.txt (line 6)) (1.2.0)\r\n",
      "Requirement already satisfied: asttokens>=2.1.0 in /opt/homebrew/lib/python3.11/site-packages (from stack-data->ipython>=7.23.1->ipykernel->-r requirements.txt (line 6)) (2.2.1)\r\n",
      "Requirement already satisfied: pure-eval in /opt/homebrew/lib/python3.11/site-packages (from stack-data->ipython>=7.23.1->ipykernel->-r requirements.txt (line 6)) (0.2.2)\r\n",
      "Requirement already satisfied: pyrsistent!=0.17.0,!=0.17.1,!=0.17.2,>=0.14.0 in /opt/homebrew/lib/python3.11/site-packages (from jsonschema>=2.6->nbformat>=5.1->nbconvert->jupyter->-r requirements.txt (line 5)) (0.19.3)\r\n",
      "Requirement already satisfied: jupyter-events>=0.6.0 in /opt/homebrew/lib/python3.11/site-packages (from jupyter-server>=1.8->nbclassic>=0.4.7->notebook->jupyter->-r requirements.txt (line 5)) (0.6.3)\r\n",
      "Requirement already satisfied: jupyter-server-terminals in /opt/homebrew/lib/python3.11/site-packages (from jupyter-server>=1.8->nbclassic>=0.4.7->notebook->jupyter->-r requirements.txt (line 5)) (0.4.4)\r\n",
      "Requirement already satisfied: overrides in /opt/homebrew/lib/python3.11/site-packages (from jupyter-server>=1.8->nbclassic>=0.4.7->notebook->jupyter->-r requirements.txt (line 5)) (7.3.1)\r\n",
      "Requirement already satisfied: websocket-client in /opt/homebrew/lib/python3.11/site-packages (from jupyter-server>=1.8->nbclassic>=0.4.7->notebook->jupyter->-r requirements.txt (line 5)) (1.5.2)\r\n",
      "Requirement already satisfied: cffi>=1.0.1 in /opt/homebrew/lib/python3.11/site-packages (from argon2-cffi-bindings->argon2-cffi->notebook->jupyter->-r requirements.txt (line 5)) (1.15.1)\r\n",
      "Requirement already satisfied: pycparser in /opt/homebrew/lib/python3.11/site-packages (from cffi>=1.0.1->argon2-cffi-bindings->argon2-cffi->notebook->jupyter->-r requirements.txt (line 5)) (2.21)\r\n",
      "Requirement already satisfied: python-json-logger>=2.0.4 in /opt/homebrew/lib/python3.11/site-packages (from jupyter-events>=0.6.0->jupyter-server>=1.8->nbclassic>=0.4.7->notebook->jupyter->-r requirements.txt (line 5)) (2.0.7)\r\n",
      "Requirement already satisfied: rfc3339-validator in /opt/homebrew/lib/python3.11/site-packages (from jupyter-events>=0.6.0->jupyter-server>=1.8->nbclassic>=0.4.7->notebook->jupyter->-r requirements.txt (line 5)) (0.1.4)\r\n",
      "Requirement already satisfied: rfc3986-validator>=0.1.1 in /opt/homebrew/lib/python3.11/site-packages (from jupyter-events>=0.6.0->jupyter-server>=1.8->nbclassic>=0.4.7->notebook->jupyter->-r requirements.txt (line 5)) (0.1.1)\r\n",
      "Requirement already satisfied: fqdn in /opt/homebrew/lib/python3.11/site-packages (from jsonschema>=2.6->nbformat>=5.1->nbconvert->jupyter->-r requirements.txt (line 5)) (1.5.1)\r\n",
      "Requirement already satisfied: isoduration in /opt/homebrew/lib/python3.11/site-packages (from jsonschema>=2.6->nbformat>=5.1->nbconvert->jupyter->-r requirements.txt (line 5)) (20.11.0)\r\n",
      "Requirement already satisfied: jsonpointer>1.13 in /opt/homebrew/lib/python3.11/site-packages (from jsonschema>=2.6->nbformat>=5.1->nbconvert->jupyter->-r requirements.txt (line 5)) (2.3)\r\n",
      "Requirement already satisfied: uri-template in /opt/homebrew/lib/python3.11/site-packages (from jsonschema>=2.6->nbformat>=5.1->nbconvert->jupyter->-r requirements.txt (line 5)) (1.2.0)\r\n",
      "Requirement already satisfied: webcolors>=1.11 in /opt/homebrew/lib/python3.11/site-packages (from jsonschema>=2.6->nbformat>=5.1->nbconvert->jupyter->-r requirements.txt (line 5)) (1.13)\r\n",
      "Requirement already satisfied: arrow>=0.15.0 in /opt/homebrew/lib/python3.11/site-packages (from isoduration->jsonschema>=2.6->nbformat>=5.1->nbconvert->jupyter->-r requirements.txt (line 5)) (1.2.3)\r\n",
      "\r\n",
      "\u001B[1m[\u001B[0m\u001B[34;49mnotice\u001B[0m\u001B[1;39;49m]\u001B[0m\u001B[39;49m A new release of pip is available: \u001B[0m\u001B[31;49m23.1.2\u001B[0m\u001B[39;49m -> \u001B[0m\u001B[32;49m23.2\u001B[0m\r\n",
      "\u001B[1m[\u001B[0m\u001B[34;49mnotice\u001B[0m\u001B[1;39;49m]\u001B[0m\u001B[39;49m To update, run: \u001B[0m\u001B[32;49mpython3.11 -m pip install --upgrade pip\u001B[0m\r\n"
     ]
    }
   ],
   "source": [
    "import sys\n",
    "!{sys.executable} -m pip install -r requirements.txt"
   ]
  },
  {
   "cell_type": "code",
   "execution_count": 2,
   "id": "7590fbfc",
   "metadata": {
    "ExecuteTime": {
     "end_time": "2023-07-13T15:34:21.878707Z",
     "start_time": "2023-07-13T15:34:21.868743Z"
    }
   },
   "outputs": [],
   "source": [
    "# Ignore unclosed SSL socket warnings - optional in case you get these errors\n",
    "import warnings\n",
    "\n",
    "warnings.filterwarnings(action=\"ignore\", message=\"unclosed\", category=ImportWarning)\n",
    "warnings.filterwarnings(\"ignore\", category=DeprecationWarning)"
   ]
  },
  {
   "cell_type": "markdown",
   "id": "5dc4018c",
   "metadata": {},
   "source": [
    "## Laying the foundations"
   ]
  },
  {
   "cell_type": "markdown",
   "id": "632b82ed",
   "metadata": {},
   "source": [
    "### Storage\n",
    "\n",
    "We're going to use Pinecone as our database for both document contents and the vector embeddings. You will need to add the Pinecone API Key to your .env file."
   ]
  },
  {
   "cell_type": "markdown",
   "id": "f74ebeb5",
   "metadata": {},
   "source": [
    "### Ingestion\n",
    "\n",
    "We'll load up our Notion pages into documents"
   ]
  },
  {
   "cell_type": "code",
   "execution_count": 3,
   "id": "ed23bf9d",
   "metadata": {
    "ExecuteTime": {
     "end_time": "2023-07-13T15:34:21.894068Z",
     "start_time": "2023-07-13T15:34:21.879604Z"
    }
   },
   "outputs": [],
   "source": [
    "import logging\n",
    "import sys\n",
    "\n",
    "logging.basicConfig(stream=sys.stdout, level=logging.INFO)\n",
    "logging.getLogger().addHandler(logging.StreamHandler(stream=sys.stdout))"
   ]
  },
  {
   "cell_type": "code",
   "execution_count": 2,
   "id": "4d952f2e",
   "metadata": {
    "ExecuteTime": {
     "start_time": "2023-07-17T17:48:15.118413Z",
     "end_time": "2023-07-17T18:02:40.790157Z"
    }
   },
   "outputs": [
    {
     "name": "stderr",
     "output_type": "stream",
     "text": [
      "None of PyTorch, TensorFlow >= 2.0, or Flax have been found. Models won't be available and only tokenizers, configuration and file/data utilities can be used.\n"
     ]
    }
   ],
   "source": [
    "from importer import import_notion_data\n",
    "\n",
    "notion_index = import_notion_data()"
   ]
  },
  {
   "cell_type": "markdown",
   "id": "3147a59f",
   "metadata": {},
   "source": [
    "Adding web scraped data to index"
   ]
  },
  {
   "cell_type": "code",
   "execution_count": 1,
   "id": "78185f55",
   "metadata": {
    "ExecuteTime": {
     "start_time": "2023-07-18T10:37:26.352407Z",
     "end_time": "2023-07-18T10:37:50.870223Z"
    }
   },
   "outputs": [
    {
     "name": "stderr",
     "output_type": "stream",
     "text": [
      "None of PyTorch, TensorFlow >= 2.0, or Flax have been found. Models won't be available and only tokenizers, configuration and file/data utilities can be used.\n"
     ]
    }
   ],
   "source": [
    "from importer import import_web_scrape_data\n",
    "\n",
    "web_scrape_index = import_web_scrape_data()"
   ]
  },
  {
   "cell_type": "code",
   "execution_count": null,
   "outputs": [],
   "source": [
    "from pinecone_database import get_pinecone_index\n",
    "\n",
    "pinecone_index = get_pinecone_index()\n",
    "query_engine = pinecone_index.as_query_engine()"
   ],
   "metadata": {
    "collapsed": false
   }
  },
  {
   "cell_type": "code",
   "execution_count": null,
   "outputs": [],
   "source": [
    "response = query_engine.query(\"At Focused Labs: What is the 2023 strategy? \")\n",
    "response.response"
   ],
   "metadata": {
    "collapsed": false
   }
  },
  {
   "cell_type": "code",
   "execution_count": 13,
   "id": "6fb905d3",
   "metadata": {
    "ExecuteTime": {
     "end_time": "2023-06-26T21:55:32.822897Z",
     "start_time": "2023-06-26T21:53:54.797864Z"
    }
   },
   "outputs": [
    {
     "name": "stdout",
     "output_type": "stream",
     "text": [
      "NLTK Downloader\n",
      "---------------------------------------------------------------------------\n",
      "    d) Download   l) List    u) Update   c) Config   h) Help   q) Quit\n",
      "---------------------------------------------------------------------------\n",
      "\n",
      "---------------------------------------------------------------------------\n",
      "    d) Download   l) List    u) Update   c) Config   h) Help   q) Quit\n",
      "---------------------------------------------------------------------------\n"
     ]
    },
    {
     "data": {
      "text/plain": "True"
     },
     "execution_count": 13,
     "metadata": {},
     "output_type": "execute_result"
    }
   ],
   "source": [
    "#optional if you haven't installed stop words\n",
    "#go to the corpora tab, use the arrow key to scroll down to stop words and hit enter to install\n",
    "import nltk\n",
    "import ssl\n",
    "\n",
    "try:\n",
    "    _create_unverified_https_context = ssl._create_unverified_context\n",
    "except AttributeError:\n",
    "    pass\n",
    "else:\n",
    "    ssl._create_default_https_context = _create_unverified_https_context\n",
    "\n",
    "nltk.download()"
   ]
  },
  {
   "cell_type": "code",
   "execution_count": 1,
   "id": "f4a9d25f",
   "metadata": {
    "ExecuteTime": {
     "start_time": "2023-07-17T17:07:56.611295Z",
     "end_time": "2023-07-17T17:08:05.814967Z"
    }
   },
   "outputs": [
    {
     "name": "stderr",
     "output_type": "stream",
     "text": [
      "None of PyTorch, TensorFlow >= 2.0, or Flax have been found. Models won't be available and only tokenizers, configuration and file/data utilities can be used.\n"
     ]
    },
    {
     "name": "stdout",
     "output_type": "stream",
     "text": [
      "\n",
      "\n",
      "\u001B[1m> Entering new AgentExecutor chain...\u001B[0m\n",
      "Let me check on that for you...\n",
      "-----\n"
     ]
    }
   ],
   "source": [
    "from chat_engine import create_interactive_lang_chain_chat_engine\n",
    "\n",
    "\n",
    "chat_engine = create_interactive_lang_chain_chat_engine()"
   ]
  }
 ],
 "metadata": {
  "kernelspec": {
   "display_name": "Python 3 (ipykernel)",
   "language": "python",
   "name": "python3"
  },
  "language_info": {
   "codemirror_mode": {
    "name": "ipython",
    "version": 3
   },
   "file_extension": ".py",
   "mimetype": "text/x-python",
   "name": "python",
   "nbconvert_exporter": "python",
   "pygments_lexer": "ipython3",
   "version": "3.11.3"
  }
 },
 "nbformat": 4,
 "nbformat_minor": 5
}
