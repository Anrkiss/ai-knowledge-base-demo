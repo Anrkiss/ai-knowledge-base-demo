{
 "cells": [
  {
   "cell_type": "markdown",
   "id": "63785634",
   "metadata": {},
   "source": [
    "# Power your products with ChatGPT and your own data\n",
    "\n",
    "This is a walkthrough taking readers through how to build starter Q&A and Chatbot applications using the ChatGPT API and their own data. \n",
    "\n",
    "It is laid out in these sections:\n",
    "- **Setup:** \n",
    "    - Initiate variables and source the data\n",
    "- **Lay the foundations:**\n",
    "    - Set up the vector database to accept vectors and data\n",
    "    - Load the dataset, chunk the data up for embedding and store in the vector database\n",
    "- **Make it a product:**\n",
    "    - Add a retrieval step where users provide queries and we return the most relevant entries\n",
    "    - Summarise search results with GPT-3\n",
    "    - Test out this basic Q&A app in Streamlit\n",
    "- **Build your moat:**\n",
    "    - Create an Assistant class to manage context and interact with our bot\n",
    "    - Use the Chatbot to answer questions using semantic search context\n",
    "    - Test out this basic Chatbot app in Streamlit\n",
    "    \n",
    "Upon completion, you have the building blocks to create your own production chatbot or Q&A application using OpenAI APIs and a vector database.\n",
    "\n",
    "This notebook was originally presented with [these slides](https://drive.google.com/file/d/1dB-RQhZC_Q1iAsHkNNdkqtxxXqYODFYy/view?usp=share_link), which provide visual context for this journey."
   ]
  },
  {
   "cell_type": "code",
   "execution_count": 42,
   "id": "59f08ea7",
   "metadata": {
    "ExecuteTime": {
     "end_time": "2023-06-01T18:35:33.203956Z",
     "start_time": "2023-06-01T18:35:33.173358Z"
    }
   },
   "outputs": [
    {
     "name": "stdout",
     "output_type": "stream",
     "text": [
      "The autoreload extension is already loaded. To reload it, use:\n",
      "  %reload_ext autoreload\n"
     ]
    }
   ],
   "source": [
    "%load_ext autoreload\n",
    "%autoreload 2"
   ]
  },
  {
   "cell_type": "markdown",
   "id": "b8ae815d",
   "metadata": {},
   "source": []
  },
  {
   "cell_type": "code",
   "execution_count": 17,
   "id": "fbb963fc",
   "metadata": {
    "ExecuteTime": {
     "end_time": "2023-06-01T16:54:14.285308Z",
     "start_time": "2023-06-01T16:52:53.526612Z"
    }
   },
   "outputs": [
    {
     "name": "stdout",
     "output_type": "stream",
     "text": [
      "Requirement already satisfied: numpy==1.24.2 in /Library/Frameworks/Python.framework/Versions/3.10/lib/python3.10/site-packages (from -r requirements.txt (line 1)) (1.24.2)\n",
      "Requirement already satisfied: openai==0.27.1 in /Library/Frameworks/Python.framework/Versions/3.10/lib/python3.10/site-packages (from -r requirements.txt (line 2)) (0.27.1)\n",
      "Requirement already satisfied: pandas==1.5.3 in /Library/Frameworks/Python.framework/Versions/3.10/lib/python3.10/site-packages (from -r requirements.txt (line 3)) (1.5.3)\n",
      "Requirement already satisfied: redis==4.5.1 in /Library/Frameworks/Python.framework/Versions/3.10/lib/python3.10/site-packages (from -r requirements.txt (line 4)) (4.5.1)\n",
      "Requirement already satisfied: requests==2.28.2 in /Library/Frameworks/Python.framework/Versions/3.10/lib/python3.10/site-packages (from -r requirements.txt (line 5)) (2.28.2)\n",
      "Requirement already satisfied: streamlit==1.20.0 in /Library/Frameworks/Python.framework/Versions/3.10/lib/python3.10/site-packages (from -r requirements.txt (line 6)) (1.20.0)\n",
      "Requirement already satisfied: streamlit_chat==0.0.2.2 in /Library/Frameworks/Python.framework/Versions/3.10/lib/python3.10/site-packages (from -r requirements.txt (line 7)) (0.0.2.2)\n",
      "Requirement already satisfied: termcolor==2.2.0 in /Library/Frameworks/Python.framework/Versions/3.10/lib/python3.10/site-packages (from -r requirements.txt (line 8)) (2.2.0)\n",
      "Requirement already satisfied: jupyter in /Library/Frameworks/Python.framework/Versions/3.10/lib/python3.10/site-packages (from -r requirements.txt (line 9)) (1.0.0)\n",
      "Requirement already satisfied: ipykernel in /Library/Frameworks/Python.framework/Versions/3.10/lib/python3.10/site-packages (from -r requirements.txt (line 10)) (6.23.1)\n",
      "Requirement already satisfied: textract in /Library/Frameworks/Python.framework/Versions/3.10/lib/python3.10/site-packages (from -r requirements.txt (line 11)) (1.6.5)\n",
      "Requirement already satisfied: tiktoken in /Library/Frameworks/Python.framework/Versions/3.10/lib/python3.10/site-packages (from -r requirements.txt (line 12)) (0.4.0)\n",
      "Requirement already satisfied: pdfminer in /Library/Frameworks/Python.framework/Versions/3.10/lib/python3.10/site-packages (from -r requirements.txt (line 13)) (20191125)\n",
      "Requirement already satisfied: aiohttp in /Library/Frameworks/Python.framework/Versions/3.10/lib/python3.10/site-packages (from openai==0.27.1->-r requirements.txt (line 2)) (3.8.4)\n",
      "Requirement already satisfied: tqdm in /Library/Frameworks/Python.framework/Versions/3.10/lib/python3.10/site-packages (from openai==0.27.1->-r requirements.txt (line 2)) (4.65.0)\n",
      "Requirement already satisfied: pytz>=2020.1 in /Library/Frameworks/Python.framework/Versions/3.10/lib/python3.10/site-packages (from pandas==1.5.3->-r requirements.txt (line 3)) (2023.3)\n",
      "Requirement already satisfied: python-dateutil>=2.8.1 in /Library/Frameworks/Python.framework/Versions/3.10/lib/python3.10/site-packages (from pandas==1.5.3->-r requirements.txt (line 3)) (2.8.2)\n",
      "Requirement already satisfied: async-timeout>=4.0.2 in /Library/Frameworks/Python.framework/Versions/3.10/lib/python3.10/site-packages (from redis==4.5.1->-r requirements.txt (line 4)) (4.0.2)\n",
      "Requirement already satisfied: charset-normalizer<4,>=2 in /Library/Frameworks/Python.framework/Versions/3.10/lib/python3.10/site-packages (from requests==2.28.2->-r requirements.txt (line 5)) (3.1.0)\n",
      "Requirement already satisfied: certifi>=2017.4.17 in /Library/Frameworks/Python.framework/Versions/3.10/lib/python3.10/site-packages (from requests==2.28.2->-r requirements.txt (line 5)) (2023.5.7)\n",
      "Requirement already satisfied: idna<4,>=2.5 in /Library/Frameworks/Python.framework/Versions/3.10/lib/python3.10/site-packages (from requests==2.28.2->-r requirements.txt (line 5)) (3.4)\n",
      "Requirement already satisfied: urllib3<1.27,>=1.21.1 in /Library/Frameworks/Python.framework/Versions/3.10/lib/python3.10/site-packages (from requests==2.28.2->-r requirements.txt (line 5)) (1.26.16)\n",
      "Requirement already satisfied: altair<5,>=3.2.0 in /Library/Frameworks/Python.framework/Versions/3.10/lib/python3.10/site-packages (from streamlit==1.20.0->-r requirements.txt (line 6)) (4.2.2)\n",
      "Requirement already satisfied: validators>=0.2 in /Library/Frameworks/Python.framework/Versions/3.10/lib/python3.10/site-packages (from streamlit==1.20.0->-r requirements.txt (line 6)) (0.20.0)\n",
      "Requirement already satisfied: pillow>=6.2.0 in /Library/Frameworks/Python.framework/Versions/3.10/lib/python3.10/site-packages (from streamlit==1.20.0->-r requirements.txt (line 6)) (9.5.0)\n",
      "Requirement already satisfied: importlib-metadata>=1.4 in /Library/Frameworks/Python.framework/Versions/3.10/lib/python3.10/site-packages (from streamlit==1.20.0->-r requirements.txt (line 6)) (6.6.0)\n",
      "Requirement already satisfied: tzlocal>=1.1 in /Library/Frameworks/Python.framework/Versions/3.10/lib/python3.10/site-packages (from streamlit==1.20.0->-r requirements.txt (line 6)) (5.0.1)\n",
      "Requirement already satisfied: gitpython!=3.1.19 in /Library/Frameworks/Python.framework/Versions/3.10/lib/python3.10/site-packages (from streamlit==1.20.0->-r requirements.txt (line 6)) (3.1.31)\n",
      "Requirement already satisfied: semver in /Library/Frameworks/Python.framework/Versions/3.10/lib/python3.10/site-packages (from streamlit==1.20.0->-r requirements.txt (line 6)) (3.0.0)\n",
      "Requirement already satisfied: toml in /Library/Frameworks/Python.framework/Versions/3.10/lib/python3.10/site-packages (from streamlit==1.20.0->-r requirements.txt (line 6)) (0.10.2)\n",
      "Requirement already satisfied: blinker>=1.0.0 in /Library/Frameworks/Python.framework/Versions/3.10/lib/python3.10/site-packages (from streamlit==1.20.0->-r requirements.txt (line 6)) (1.6.2)\n",
      "Requirement already satisfied: click>=7.0 in /Library/Frameworks/Python.framework/Versions/3.10/lib/python3.10/site-packages (from streamlit==1.20.0->-r requirements.txt (line 6)) (8.1.3)\n",
      "Requirement already satisfied: rich>=10.11.0 in /Library/Frameworks/Python.framework/Versions/3.10/lib/python3.10/site-packages (from streamlit==1.20.0->-r requirements.txt (line 6)) (13.4.1)\n",
      "Requirement already satisfied: tornado>=6.0.3 in /Library/Frameworks/Python.framework/Versions/3.10/lib/python3.10/site-packages (from streamlit==1.20.0->-r requirements.txt (line 6)) (6.3.2)\n",
      "Requirement already satisfied: pydeck>=0.1.dev5 in /Library/Frameworks/Python.framework/Versions/3.10/lib/python3.10/site-packages (from streamlit==1.20.0->-r requirements.txt (line 6)) (0.8.1b0)\n",
      "Requirement already satisfied: protobuf<4,>=3.12 in /Library/Frameworks/Python.framework/Versions/3.10/lib/python3.10/site-packages (from streamlit==1.20.0->-r requirements.txt (line 6)) (3.20.3)\n",
      "Requirement already satisfied: cachetools>=4.0 in /Library/Frameworks/Python.framework/Versions/3.10/lib/python3.10/site-packages (from streamlit==1.20.0->-r requirements.txt (line 6)) (5.3.1)\n",
      "Requirement already satisfied: packaging>=14.1 in /Library/Frameworks/Python.framework/Versions/3.10/lib/python3.10/site-packages (from streamlit==1.20.0->-r requirements.txt (line 6)) (23.1)\n",
      "Requirement already satisfied: pympler>=0.9 in /Library/Frameworks/Python.framework/Versions/3.10/lib/python3.10/site-packages (from streamlit==1.20.0->-r requirements.txt (line 6)) (1.0.1)\n",
      "Requirement already satisfied: typing-extensions>=3.10.0.0 in /Library/Frameworks/Python.framework/Versions/3.10/lib/python3.10/site-packages (from streamlit==1.20.0->-r requirements.txt (line 6)) (4.6.2)\n",
      "Requirement already satisfied: pyarrow>=4.0 in /Library/Frameworks/Python.framework/Versions/3.10/lib/python3.10/site-packages (from streamlit==1.20.0->-r requirements.txt (line 6)) (12.0.0)\n",
      "Requirement already satisfied: jupyter-console in /Library/Frameworks/Python.framework/Versions/3.10/lib/python3.10/site-packages (from jupyter->-r requirements.txt (line 9)) (6.6.3)\n",
      "Requirement already satisfied: qtconsole in /Library/Frameworks/Python.framework/Versions/3.10/lib/python3.10/site-packages (from jupyter->-r requirements.txt (line 9)) (5.4.3)\n",
      "Requirement already satisfied: notebook in /Library/Frameworks/Python.framework/Versions/3.10/lib/python3.10/site-packages (from jupyter->-r requirements.txt (line 9)) (6.5.4)\n",
      "Requirement already satisfied: ipywidgets in /Library/Frameworks/Python.framework/Versions/3.10/lib/python3.10/site-packages (from jupyter->-r requirements.txt (line 9)) (8.0.6)\n",
      "Requirement already satisfied: nbconvert in /Library/Frameworks/Python.framework/Versions/3.10/lib/python3.10/site-packages (from jupyter->-r requirements.txt (line 9)) (7.4.0)\n",
      "Requirement already satisfied: psutil in /Library/Frameworks/Python.framework/Versions/3.10/lib/python3.10/site-packages (from ipykernel->-r requirements.txt (line 10)) (5.9.5)\n"
     ]
    },
    {
     "name": "stdout",
     "output_type": "stream",
     "text": [
      "Requirement already satisfied: pyzmq>=20 in /Library/Frameworks/Python.framework/Versions/3.10/lib/python3.10/site-packages (from ipykernel->-r requirements.txt (line 10)) (25.1.0)\n",
      "Requirement already satisfied: ipython>=7.23.1 in /Library/Frameworks/Python.framework/Versions/3.10/lib/python3.10/site-packages (from ipykernel->-r requirements.txt (line 10)) (8.13.2)\n",
      "Requirement already satisfied: comm>=0.1.1 in /Library/Frameworks/Python.framework/Versions/3.10/lib/python3.10/site-packages (from ipykernel->-r requirements.txt (line 10)) (0.1.3)\n",
      "Requirement already satisfied: traitlets>=5.4.0 in /Library/Frameworks/Python.framework/Versions/3.10/lib/python3.10/site-packages (from ipykernel->-r requirements.txt (line 10)) (5.9.0)\n",
      "Requirement already satisfied: debugpy>=1.6.5 in /Library/Frameworks/Python.framework/Versions/3.10/lib/python3.10/site-packages (from ipykernel->-r requirements.txt (line 10)) (1.6.7)\n",
      "Requirement already satisfied: jupyter-core!=5.0.*,>=4.12 in /Library/Frameworks/Python.framework/Versions/3.10/lib/python3.10/site-packages (from ipykernel->-r requirements.txt (line 10)) (5.3.0)\n",
      "Requirement already satisfied: jupyter-client>=6.1.12 in /Library/Frameworks/Python.framework/Versions/3.10/lib/python3.10/site-packages (from ipykernel->-r requirements.txt (line 10)) (8.2.0)\n",
      "Requirement already satisfied: matplotlib-inline>=0.1 in /Library/Frameworks/Python.framework/Versions/3.10/lib/python3.10/site-packages (from ipykernel->-r requirements.txt (line 10)) (0.1.6)\n",
      "Requirement already satisfied: nest-asyncio in /Library/Frameworks/Python.framework/Versions/3.10/lib/python3.10/site-packages (from ipykernel->-r requirements.txt (line 10)) (1.5.6)\n",
      "Requirement already satisfied: appnope in /Library/Frameworks/Python.framework/Versions/3.10/lib/python3.10/site-packages (from ipykernel->-r requirements.txt (line 10)) (0.1.3)\n",
      "Requirement already satisfied: python-pptx~=0.6.18 in /Library/Frameworks/Python.framework/Versions/3.10/lib/python3.10/site-packages (from textract->-r requirements.txt (line 11)) (0.6.21)\n",
      "Requirement already satisfied: docx2txt~=0.8 in /Library/Frameworks/Python.framework/Versions/3.10/lib/python3.10/site-packages (from textract->-r requirements.txt (line 11)) (0.8)\n",
      "Requirement already satisfied: SpeechRecognition~=3.8.1 in /Library/Frameworks/Python.framework/Versions/3.10/lib/python3.10/site-packages (from textract->-r requirements.txt (line 11)) (3.8.1)\n",
      "Requirement already satisfied: chardet==3.* in /Library/Frameworks/Python.framework/Versions/3.10/lib/python3.10/site-packages (from textract->-r requirements.txt (line 11)) (3.0.4)\n",
      "Requirement already satisfied: xlrd~=1.2.0 in /Library/Frameworks/Python.framework/Versions/3.10/lib/python3.10/site-packages (from textract->-r requirements.txt (line 11)) (1.2.0)\n",
      "Requirement already satisfied: six~=1.12.0 in /Library/Frameworks/Python.framework/Versions/3.10/lib/python3.10/site-packages (from textract->-r requirements.txt (line 11)) (1.12.0)\n",
      "Requirement already satisfied: pdfminer.six==20191110 in /Library/Frameworks/Python.framework/Versions/3.10/lib/python3.10/site-packages (from textract->-r requirements.txt (line 11)) (20191110)\n",
      "Requirement already satisfied: argcomplete~=1.10.0 in /Library/Frameworks/Python.framework/Versions/3.10/lib/python3.10/site-packages (from textract->-r requirements.txt (line 11)) (1.10.3)\n",
      "Requirement already satisfied: extract-msg<=0.29.* in /Library/Frameworks/Python.framework/Versions/3.10/lib/python3.10/site-packages (from textract->-r requirements.txt (line 11)) (0.28.7)\n",
      "Requirement already satisfied: beautifulsoup4~=4.8.0 in /Library/Frameworks/Python.framework/Versions/3.10/lib/python3.10/site-packages (from textract->-r requirements.txt (line 11)) (4.8.2)\n",
      "Requirement already satisfied: sortedcontainers in /Library/Frameworks/Python.framework/Versions/3.10/lib/python3.10/site-packages (from pdfminer.six==20191110->textract->-r requirements.txt (line 11)) (2.4.0)\n",
      "Requirement already satisfied: pycryptodome in /Library/Frameworks/Python.framework/Versions/3.10/lib/python3.10/site-packages (from pdfminer.six==20191110->textract->-r requirements.txt (line 11)) (3.18.0)\n",
      "Requirement already satisfied: regex>=2022.1.18 in /Library/Frameworks/Python.framework/Versions/3.10/lib/python3.10/site-packages (from tiktoken->-r requirements.txt (line 12)) (2023.5.5)\n",
      "Requirement already satisfied: toolz in /Library/Frameworks/Python.framework/Versions/3.10/lib/python3.10/site-packages (from altair<5,>=3.2.0->streamlit==1.20.0->-r requirements.txt (line 6)) (0.12.0)\n",
      "Requirement already satisfied: entrypoints in /Library/Frameworks/Python.framework/Versions/3.10/lib/python3.10/site-packages (from altair<5,>=3.2.0->streamlit==1.20.0->-r requirements.txt (line 6)) (0.4)\n",
      "Requirement already satisfied: jsonschema>=3.0 in /Library/Frameworks/Python.framework/Versions/3.10/lib/python3.10/site-packages (from altair<5,>=3.2.0->streamlit==1.20.0->-r requirements.txt (line 6)) (4.17.3)\n",
      "Requirement already satisfied: jinja2 in /Library/Frameworks/Python.framework/Versions/3.10/lib/python3.10/site-packages (from altair<5,>=3.2.0->streamlit==1.20.0->-r requirements.txt (line 6)) (3.1.2)\n",
      "Requirement already satisfied: soupsieve>=1.2 in /Library/Frameworks/Python.framework/Versions/3.10/lib/python3.10/site-packages (from beautifulsoup4~=4.8.0->textract->-r requirements.txt (line 11)) (2.4.1)\n",
      "Requirement already satisfied: ebcdic>=1.1.1 in /Library/Frameworks/Python.framework/Versions/3.10/lib/python3.10/site-packages (from extract-msg<=0.29.*->textract->-r requirements.txt (line 11)) (1.1.1)\n",
      "Requirement already satisfied: olefile>=0.46 in /Library/Frameworks/Python.framework/Versions/3.10/lib/python3.10/site-packages (from extract-msg<=0.29.*->textract->-r requirements.txt (line 11)) (0.46)\n",
      "Requirement already satisfied: imapclient==2.1.0 in /Library/Frameworks/Python.framework/Versions/3.10/lib/python3.10/site-packages (from extract-msg<=0.29.*->textract->-r requirements.txt (line 11)) (2.1.0)\n",
      "Requirement already satisfied: compressed-rtf>=1.0.6 in /Library/Frameworks/Python.framework/Versions/3.10/lib/python3.10/site-packages (from extract-msg<=0.29.*->textract->-r requirements.txt (line 11)) (1.0.6)\n",
      "Requirement already satisfied: gitdb<5,>=4.0.1 in /Library/Frameworks/Python.framework/Versions/3.10/lib/python3.10/site-packages (from gitpython!=3.1.19->streamlit==1.20.0->-r requirements.txt (line 6)) (4.0.10)\n",
      "Requirement already satisfied: zipp>=0.5 in /Library/Frameworks/Python.framework/Versions/3.10/lib/python3.10/site-packages (from importlib-metadata>=1.4->streamlit==1.20.0->-r requirements.txt (line 6)) (3.15.0)\n",
      "Requirement already satisfied: pickleshare in /Library/Frameworks/Python.framework/Versions/3.10/lib/python3.10/site-packages (from ipython>=7.23.1->ipykernel->-r requirements.txt (line 10)) (0.7.5)\n",
      "Requirement already satisfied: decorator in /Library/Frameworks/Python.framework/Versions/3.10/lib/python3.10/site-packages (from ipython>=7.23.1->ipykernel->-r requirements.txt (line 10)) (5.1.1)\n",
      "Requirement already satisfied: jedi>=0.16 in /Library/Frameworks/Python.framework/Versions/3.10/lib/python3.10/site-packages (from ipython>=7.23.1->ipykernel->-r requirements.txt (line 10)) (0.18.2)\n",
      "Requirement already satisfied: pygments>=2.4.0 in /Library/Frameworks/Python.framework/Versions/3.10/lib/python3.10/site-packages (from ipython>=7.23.1->ipykernel->-r requirements.txt (line 10)) (2.15.1)\n",
      "Requirement already satisfied: stack-data in /Library/Frameworks/Python.framework/Versions/3.10/lib/python3.10/site-packages (from ipython>=7.23.1->ipykernel->-r requirements.txt (line 10)) (0.6.2)\n",
      "Requirement already satisfied: backcall in /Library/Frameworks/Python.framework/Versions/3.10/lib/python3.10/site-packages (from ipython>=7.23.1->ipykernel->-r requirements.txt (line 10)) (0.2.0)\n",
      "Requirement already satisfied: prompt-toolkit!=3.0.37,<3.1.0,>=3.0.30 in /Library/Frameworks/Python.framework/Versions/3.10/lib/python3.10/site-packages (from ipython>=7.23.1->ipykernel->-r requirements.txt (line 10)) (3.0.38)\n",
      "Requirement already satisfied: pexpect>4.3 in /Library/Frameworks/Python.framework/Versions/3.10/lib/python3.10/site-packages (from ipython>=7.23.1->ipykernel->-r requirements.txt (line 10)) (4.8.0)\n"
     ]
    },
    {
     "name": "stdout",
     "output_type": "stream",
     "text": [
      "Requirement already satisfied: platformdirs>=2.5 in /Library/Frameworks/Python.framework/Versions/3.10/lib/python3.10/site-packages (from jupyter-core!=5.0.*,>=4.12->ipykernel->-r requirements.txt (line 10)) (3.5.1)\n",
      "Requirement already satisfied: lxml>=3.1.0 in /Library/Frameworks/Python.framework/Versions/3.10/lib/python3.10/site-packages (from python-pptx~=0.6.18->textract->-r requirements.txt (line 11)) (4.9.2)\n",
      "Requirement already satisfied: XlsxWriter>=0.5.7 in /Library/Frameworks/Python.framework/Versions/3.10/lib/python3.10/site-packages (from python-pptx~=0.6.18->textract->-r requirements.txt (line 11)) (3.1.2)\n",
      "Requirement already satisfied: markdown-it-py<3.0.0,>=2.2.0 in /Library/Frameworks/Python.framework/Versions/3.10/lib/python3.10/site-packages (from rich>=10.11.0->streamlit==1.20.0->-r requirements.txt (line 6)) (2.2.0)\n",
      "Requirement already satisfied: frozenlist>=1.1.1 in /Library/Frameworks/Python.framework/Versions/3.10/lib/python3.10/site-packages (from aiohttp->openai==0.27.1->-r requirements.txt (line 2)) (1.3.3)\n",
      "Requirement already satisfied: multidict<7.0,>=4.5 in /Library/Frameworks/Python.framework/Versions/3.10/lib/python3.10/site-packages (from aiohttp->openai==0.27.1->-r requirements.txt (line 2)) (6.0.4)\n",
      "Requirement already satisfied: yarl<2.0,>=1.0 in /Library/Frameworks/Python.framework/Versions/3.10/lib/python3.10/site-packages (from aiohttp->openai==0.27.1->-r requirements.txt (line 2)) (1.9.2)\n",
      "Requirement already satisfied: aiosignal>=1.1.2 in /Library/Frameworks/Python.framework/Versions/3.10/lib/python3.10/site-packages (from aiohttp->openai==0.27.1->-r requirements.txt (line 2)) (1.3.1)\n",
      "Requirement already satisfied: attrs>=17.3.0 in /Library/Frameworks/Python.framework/Versions/3.10/lib/python3.10/site-packages (from aiohttp->openai==0.27.1->-r requirements.txt (line 2)) (23.1.0)\n",
      "Requirement already satisfied: jupyterlab-widgets~=3.0.7 in /Library/Frameworks/Python.framework/Versions/3.10/lib/python3.10/site-packages (from ipywidgets->jupyter->-r requirements.txt (line 9)) (3.0.7)\n",
      "Requirement already satisfied: widgetsnbextension~=4.0.7 in /Library/Frameworks/Python.framework/Versions/3.10/lib/python3.10/site-packages (from ipywidgets->jupyter->-r requirements.txt (line 9)) (4.0.7)\n",
      "Requirement already satisfied: mistune<3,>=2.0.3 in /Library/Frameworks/Python.framework/Versions/3.10/lib/python3.10/site-packages (from nbconvert->jupyter->-r requirements.txt (line 9)) (2.0.5)\n",
      "Requirement already satisfied: pandocfilters>=1.4.1 in /Library/Frameworks/Python.framework/Versions/3.10/lib/python3.10/site-packages (from nbconvert->jupyter->-r requirements.txt (line 9)) (1.5.0)\n",
      "Requirement already satisfied: jupyterlab-pygments in /Library/Frameworks/Python.framework/Versions/3.10/lib/python3.10/site-packages (from nbconvert->jupyter->-r requirements.txt (line 9)) (0.2.2)\n",
      "Requirement already satisfied: nbformat>=5.1 in /Library/Frameworks/Python.framework/Versions/3.10/lib/python3.10/site-packages (from nbconvert->jupyter->-r requirements.txt (line 9)) (5.9.0)\n",
      "Requirement already satisfied: defusedxml in /Library/Frameworks/Python.framework/Versions/3.10/lib/python3.10/site-packages (from nbconvert->jupyter->-r requirements.txt (line 9)) (0.7.1)\n",
      "Requirement already satisfied: tinycss2 in /Library/Frameworks/Python.framework/Versions/3.10/lib/python3.10/site-packages (from nbconvert->jupyter->-r requirements.txt (line 9)) (1.2.1)\n",
      "Requirement already satisfied: bleach in /Library/Frameworks/Python.framework/Versions/3.10/lib/python3.10/site-packages (from nbconvert->jupyter->-r requirements.txt (line 9)) (6.0.0)\n",
      "Requirement already satisfied: nbclient>=0.5.0 in /Library/Frameworks/Python.framework/Versions/3.10/lib/python3.10/site-packages (from nbconvert->jupyter->-r requirements.txt (line 9)) (0.8.0)\n",
      "Requirement already satisfied: markupsafe>=2.0 in /Library/Frameworks/Python.framework/Versions/3.10/lib/python3.10/site-packages (from nbconvert->jupyter->-r requirements.txt (line 9)) (2.1.2)\n",
      "Requirement already satisfied: ipython-genutils in /Library/Frameworks/Python.framework/Versions/3.10/lib/python3.10/site-packages (from notebook->jupyter->-r requirements.txt (line 9)) (0.2.0)\n",
      "Requirement already satisfied: nbclassic>=0.4.7 in /Library/Frameworks/Python.framework/Versions/3.10/lib/python3.10/site-packages (from notebook->jupyter->-r requirements.txt (line 9)) (1.0.0)\n",
      "Requirement already satisfied: Send2Trash>=1.8.0 in /Library/Frameworks/Python.framework/Versions/3.10/lib/python3.10/site-packages (from notebook->jupyter->-r requirements.txt (line 9)) (1.8.2)\n",
      "Requirement already satisfied: terminado>=0.8.3 in /Library/Frameworks/Python.framework/Versions/3.10/lib/python3.10/site-packages (from notebook->jupyter->-r requirements.txt (line 9)) (0.17.1)\n",
      "Requirement already satisfied: prometheus-client in /Library/Frameworks/Python.framework/Versions/3.10/lib/python3.10/site-packages (from notebook->jupyter->-r requirements.txt (line 9)) (0.17.0)\n",
      "Requirement already satisfied: argon2-cffi in /Library/Frameworks/Python.framework/Versions/3.10/lib/python3.10/site-packages (from notebook->jupyter->-r requirements.txt (line 9)) (21.3.0)\n",
      "Requirement already satisfied: qtpy>=2.0.1 in /Library/Frameworks/Python.framework/Versions/3.10/lib/python3.10/site-packages (from qtconsole->jupyter->-r requirements.txt (line 9)) (2.3.1)\n",
      "Requirement already satisfied: smmap<6,>=3.0.1 in /Library/Frameworks/Python.framework/Versions/3.10/lib/python3.10/site-packages (from gitdb<5,>=4.0.1->gitpython!=3.1.19->streamlit==1.20.0->-r requirements.txt (line 6)) (5.0.0)\n",
      "Requirement already satisfied: parso<0.9.0,>=0.8.0 in /Library/Frameworks/Python.framework/Versions/3.10/lib/python3.10/site-packages (from jedi>=0.16->ipython>=7.23.1->ipykernel->-r requirements.txt (line 10)) (0.8.3)\n",
      "Requirement already satisfied: pyrsistent!=0.17.0,!=0.17.1,!=0.17.2,>=0.14.0 in /Library/Frameworks/Python.framework/Versions/3.10/lib/python3.10/site-packages (from jsonschema>=3.0->altair<5,>=3.2.0->streamlit==1.20.0->-r requirements.txt (line 6)) (0.19.3)\n",
      "Requirement already satisfied: mdurl~=0.1 in /Library/Frameworks/Python.framework/Versions/3.10/lib/python3.10/site-packages (from markdown-it-py<3.0.0,>=2.2.0->rich>=10.11.0->streamlit==1.20.0->-r requirements.txt (line 6)) (0.1.2)\n",
      "Requirement already satisfied: jupyter-server>=1.8 in /Library/Frameworks/Python.framework/Versions/3.10/lib/python3.10/site-packages (from nbclassic>=0.4.7->notebook->jupyter->-r requirements.txt (line 9)) (2.6.0)\n",
      "Requirement already satisfied: notebook-shim>=0.2.3 in /Library/Frameworks/Python.framework/Versions/3.10/lib/python3.10/site-packages (from nbclassic>=0.4.7->notebook->jupyter->-r requirements.txt (line 9)) (0.2.3)\n",
      "Requirement already satisfied: fastjsonschema in /Library/Frameworks/Python.framework/Versions/3.10/lib/python3.10/site-packages (from nbformat>=5.1->nbconvert->jupyter->-r requirements.txt (line 9)) (2.17.1)\n",
      "Requirement already satisfied: ptyprocess>=0.5 in /Library/Frameworks/Python.framework/Versions/3.10/lib/python3.10/site-packages (from pexpect>4.3->ipython>=7.23.1->ipykernel->-r requirements.txt (line 10)) (0.7.0)\n",
      "Requirement already satisfied: wcwidth in /Library/Frameworks/Python.framework/Versions/3.10/lib/python3.10/site-packages (from prompt-toolkit!=3.0.37,<3.1.0,>=3.0.30->ipython>=7.23.1->ipykernel->-r requirements.txt (line 10)) (0.2.6)\n",
      "Requirement already satisfied: argon2-cffi-bindings in /Library/Frameworks/Python.framework/Versions/3.10/lib/python3.10/site-packages (from argon2-cffi->notebook->jupyter->-r requirements.txt (line 9)) (21.2.0)\n",
      "Requirement already satisfied: webencodings in /Library/Frameworks/Python.framework/Versions/3.10/lib/python3.10/site-packages (from bleach->nbconvert->jupyter->-r requirements.txt (line 9)) (0.5.1)\n",
      "Requirement already satisfied: executing>=1.2.0 in /Library/Frameworks/Python.framework/Versions/3.10/lib/python3.10/site-packages (from stack-data->ipython>=7.23.1->ipykernel->-r requirements.txt (line 10)) (1.2.0)\n",
      "Requirement already satisfied: asttokens>=2.1.0 in /Library/Frameworks/Python.framework/Versions/3.10/lib/python3.10/site-packages (from stack-data->ipython>=7.23.1->ipykernel->-r requirements.txt (line 10)) (2.2.1)\n",
      "Requirement already satisfied: pure-eval in /Library/Frameworks/Python.framework/Versions/3.10/lib/python3.10/site-packages (from stack-data->ipython>=7.23.1->ipykernel->-r requirements.txt (line 10)) (0.2.2)\n"
     ]
    },
    {
     "name": "stdout",
     "output_type": "stream",
     "text": [
      "Requirement already satisfied: websocket-client in /Library/Frameworks/Python.framework/Versions/3.10/lib/python3.10/site-packages (from jupyter-server>=1.8->nbclassic>=0.4.7->notebook->jupyter->-r requirements.txt (line 9)) (1.5.2)\n",
      "Requirement already satisfied: anyio>=3.1.0 in /Library/Frameworks/Python.framework/Versions/3.10/lib/python3.10/site-packages (from jupyter-server>=1.8->nbclassic>=0.4.7->notebook->jupyter->-r requirements.txt (line 9)) (3.7.0)\n",
      "Requirement already satisfied: jupyter-events>=0.6.0 in /Library/Frameworks/Python.framework/Versions/3.10/lib/python3.10/site-packages (from jupyter-server>=1.8->nbclassic>=0.4.7->notebook->jupyter->-r requirements.txt (line 9)) (0.6.3)\n",
      "Requirement already satisfied: overrides in /Library/Frameworks/Python.framework/Versions/3.10/lib/python3.10/site-packages (from jupyter-server>=1.8->nbclassic>=0.4.7->notebook->jupyter->-r requirements.txt (line 9)) (7.3.1)\n",
      "Requirement already satisfied: jupyter-server-terminals in /Library/Frameworks/Python.framework/Versions/3.10/lib/python3.10/site-packages (from jupyter-server>=1.8->nbclassic>=0.4.7->notebook->jupyter->-r requirements.txt (line 9)) (0.4.4)\n",
      "Requirement already satisfied: cffi>=1.0.1 in /Library/Frameworks/Python.framework/Versions/3.10/lib/python3.10/site-packages (from argon2-cffi-bindings->argon2-cffi->notebook->jupyter->-r requirements.txt (line 9)) (1.15.1)\n",
      "Requirement already satisfied: sniffio>=1.1 in /Library/Frameworks/Python.framework/Versions/3.10/lib/python3.10/site-packages (from anyio>=3.1.0->jupyter-server>=1.8->nbclassic>=0.4.7->notebook->jupyter->-r requirements.txt (line 9)) (1.3.0)\n",
      "Requirement already satisfied: exceptiongroup in /Library/Frameworks/Python.framework/Versions/3.10/lib/python3.10/site-packages (from anyio>=3.1.0->jupyter-server>=1.8->nbclassic>=0.4.7->notebook->jupyter->-r requirements.txt (line 9)) (1.1.1)\n",
      "Requirement already satisfied: pycparser in /Library/Frameworks/Python.framework/Versions/3.10/lib/python3.10/site-packages (from cffi>=1.0.1->argon2-cffi-bindings->argon2-cffi->notebook->jupyter->-r requirements.txt (line 9)) (2.21)\n",
      "Requirement already satisfied: rfc3986-validator>=0.1.1 in /Library/Frameworks/Python.framework/Versions/3.10/lib/python3.10/site-packages (from jupyter-events>=0.6.0->jupyter-server>=1.8->nbclassic>=0.4.7->notebook->jupyter->-r requirements.txt (line 9)) (0.1.1)\n",
      "Requirement already satisfied: rfc3339-validator in /Library/Frameworks/Python.framework/Versions/3.10/lib/python3.10/site-packages (from jupyter-events>=0.6.0->jupyter-server>=1.8->nbclassic>=0.4.7->notebook->jupyter->-r requirements.txt (line 9)) (0.1.4)\n",
      "Requirement already satisfied: python-json-logger>=2.0.4 in /Library/Frameworks/Python.framework/Versions/3.10/lib/python3.10/site-packages (from jupyter-events>=0.6.0->jupyter-server>=1.8->nbclassic>=0.4.7->notebook->jupyter->-r requirements.txt (line 9)) (2.0.7)\n",
      "Requirement already satisfied: pyyaml>=5.3 in /Library/Frameworks/Python.framework/Versions/3.10/lib/python3.10/site-packages (from jupyter-events>=0.6.0->jupyter-server>=1.8->nbclassic>=0.4.7->notebook->jupyter->-r requirements.txt (line 9)) (6.0)\n",
      "Requirement already satisfied: uri-template in /Library/Frameworks/Python.framework/Versions/3.10/lib/python3.10/site-packages (from jsonschema>=3.0->altair<5,>=3.2.0->streamlit==1.20.0->-r requirements.txt (line 6)) (1.2.0)\n",
      "Requirement already satisfied: isoduration in /Library/Frameworks/Python.framework/Versions/3.10/lib/python3.10/site-packages (from jsonschema>=3.0->altair<5,>=3.2.0->streamlit==1.20.0->-r requirements.txt (line 6)) (20.11.0)\n",
      "Requirement already satisfied: jsonpointer>1.13 in /Library/Frameworks/Python.framework/Versions/3.10/lib/python3.10/site-packages (from jsonschema>=3.0->altair<5,>=3.2.0->streamlit==1.20.0->-r requirements.txt (line 6)) (2.3)\n",
      "Requirement already satisfied: webcolors>=1.11 in /Library/Frameworks/Python.framework/Versions/3.10/lib/python3.10/site-packages (from jsonschema>=3.0->altair<5,>=3.2.0->streamlit==1.20.0->-r requirements.txt (line 6)) (1.13)\n",
      "Requirement already satisfied: fqdn in /Library/Frameworks/Python.framework/Versions/3.10/lib/python3.10/site-packages (from jsonschema>=3.0->altair<5,>=3.2.0->streamlit==1.20.0->-r requirements.txt (line 6)) (1.5.1)\n",
      "Requirement already satisfied: arrow>=0.15.0 in /Library/Frameworks/Python.framework/Versions/3.10/lib/python3.10/site-packages (from isoduration->jsonschema>=3.0->altair<5,>=3.2.0->streamlit==1.20.0->-r requirements.txt (line 6)) (1.2.3)\n",
      "\n",
      "\u001B[1m[\u001B[0m\u001B[34;49mnotice\u001B[0m\u001B[1;39;49m]\u001B[0m\u001B[39;49m A new release of pip available: \u001B[0m\u001B[31;49m22.2.2\u001B[0m\u001B[39;49m -> \u001B[0m\u001B[32;49m23.1.2\u001B[0m\n",
      "\u001B[1m[\u001B[0m\u001B[34;49mnotice\u001B[0m\u001B[1;39;49m]\u001B[0m\u001B[39;49m To update, run: \u001B[0m\u001B[32;49mpython3.10 -m pip install --upgrade pip\u001B[0m\n"
     ]
    }
   ],
   "source": [
    "import sys\n",
    "!{sys.executable} -m pip install -r requirements.txt"
   ]
  },
  {
   "cell_type": "markdown",
   "id": "13649895",
   "metadata": {},
   "source": [
    "## Setup\n",
    "\n",
    "First we'll setup our libraries and environment variables"
   ]
  },
  {
   "cell_type": "code",
   "execution_count": 43,
   "id": "7590fbfc",
   "metadata": {
    "ExecuteTime": {
     "end_time": "2023-06-01T18:35:38.261643Z",
     "start_time": "2023-06-01T18:35:38.243921Z"
    }
   },
   "outputs": [],
   "source": [
    "import openai\n",
    "import os\n",
    "import requests\n",
    "import numpy as np\n",
    "import pandas as pd\n",
    "from typing import Iterator\n",
    "import tiktoken\n",
    "import textract\n",
    "from numpy import array, average\n",
    "\n",
    "from database import get_redis_connection\n",
    "\n",
    "# Set our default models and chunking size\n",
    "from config import COMPLETIONS_MODEL, EMBEDDINGS_MODEL, CHAT_MODEL, TEXT_EMBEDDING_CHUNK_SIZE, VECTOR_FIELD_NAME\n",
    "\n",
    "# Ignore unclosed SSL socket warnings - optional in case you get these errors\n",
    "import warnings\n",
    "\n",
    "warnings.filterwarnings(action=\"ignore\", message=\"unclosed\", category=ImportWarning)\n",
    "warnings.filterwarnings(\"ignore\", category=DeprecationWarning) "
   ]
  },
  {
   "cell_type": "code",
   "execution_count": 44,
   "id": "760efc1e",
   "metadata": {
    "ExecuteTime": {
     "end_time": "2023-06-01T18:35:38.862162Z",
     "start_time": "2023-06-01T18:35:38.841605Z"
    }
   },
   "outputs": [],
   "source": [
    "pd.set_option('display.max_colwidth', 0)"
   ]
  },
  {
   "cell_type": "code",
   "execution_count": 45,
   "id": "3f90817d",
   "metadata": {
    "ExecuteTime": {
     "end_time": "2023-06-01T18:35:39.654916Z",
     "start_time": "2023-06-01T18:35:39.631790Z"
    }
   },
   "outputs": [
    {
     "data": {
      "text/plain": "['1c5c266b-b3aa-4bcc-9ef4-974f68e81acd_Writing_Guide.pdf',\n '2518f2b9-a1f0-4eab-9e3a-dea59abbd520_Daily_Company_Stand_Up.pdf',\n '2aad8895-1e76-4af3-993b-10cf5cf74faa_Product_Management_at_Focused_Labs.pdf',\n '2e534dc2-827e-40c5-bb1d-28d8c3731932_The_Chicago_Office.pdf',\n '2fae12d2-0deb-4ab2-aa2f-04d9d2f6dd65_Lightning_Talks.pdf',\n '37c3ac58-92da-41ec-89ee-1bb382e82a64_Pairing_Interview.pdf',\n '4aff6d37-802a-4579-ae4a-c314432d5c35_Denver_IRL_Agenda_2023.pdf',\n '51b50db6-e1ed-41cb-8b4e-db8ee8dc3373_FamilyFriend_Day_Friday_-_Invite_Info.pdf',\n '6ae2971a-a017-401e-aa9d-c72e4a9b2fa9_Pairing.pdf',\n '77c3f98c-bf1b-45b5-b4a5-8276c5508587_Tech_Lead.pdf',\n '8a424ee2-b1d7-41c3-a1f2-43160b949896_Why_we_do_what_we_do.pdf',\n '94550ad9-5435-4814-9222-fa69e1074ee6_Pair_Retros.pdf',\n '9b909996-d5b7-4674-bb38-e10535348f00_Travel__Logistics.pdf',\n '9d39fbe7-bce2-4f34-b836-4786bbc2316a_Travel__Logistics.pdf',\n 'a0922c1c-012c-445a-bd0c-17c5e380af70_Project_Rotations.pdf',\n 'ac00bd07-b307-4a97-becc-0e79913831ba_2023_Strategy.pdf',\n 'bafc416e-9abb-4496-ac43-343895b2021e_The_Denver_Office.pdf',\n 'bec4fe49-b23a-4eec-b46d-88cb4e1d60e0_2023_Chicago_IRL_.pdf',\n 'c6c651e3-2d90-480e-aa54-9915022f5e7a_Pairing.pdf',\n 'c94b9664-d316-4bbf-bfaa-d6f11c0ad7ab_Product__Design_Lunch.pdf',\n 'd72d8c47-d368-48b5-833e-2ed59df54cd9_Ski_Weekend.pdf',\n 'de95e697-2d3c-4bf7-af90-8cca954d7410_Software_Development.pdf',\n 'e4fd509a-4447-4a60-bafa-ac85cfd40797_So_you_want_to_be_a_TPIer.pdf',\n 'e67cd5c9-c8ea-4ce2-a028-8b8c2fcc3e77_Anchors.pdf',\n 'ff157be3-a2d2-4bfc-bffa-6627abb59a79_2023_Strategy.pdf']"
     },
     "execution_count": 45,
     "metadata": {},
     "output_type": "execute_result"
    }
   ],
   "source": [
    "data_dir = os.path.join(os.curdir,'data')\n",
    "pdf_files = sorted([x for x in os.listdir(data_dir) if 'DS_Store' not in x])\n",
    "pdf_files"
   ]
  },
  {
   "cell_type": "markdown",
   "id": "5dc4018c",
   "metadata": {},
   "source": [
    "## Laying the foundations"
   ]
  },
  {
   "cell_type": "markdown",
   "id": "632b82ed",
   "metadata": {},
   "source": [
    "### Storage\n",
    "\n",
    "We're going to use Redis as our database for both document contents and the vector embeddings. You will need the full Redis Stack to enable use of Redisearch, which is the module that allows semantic search - more detail is in the [docs for Redis Stack](https://redis.io/docs/stack/get-started/install/docker/).\n",
    "\n",
    "To set this up locally, you will need to install Docker and then run the following command: ```docker run -d --name redis-stack -p 6379:6379 -p 8001:8001 redis/redis-stack:latest```.\n",
    "\n",
    "The code used here draws heavily on [this repo](https://github.com/RedisAI/vecsim-demo).\n",
    "\n",
    "After setting up the Docker instance of Redis Stack, you can follow the below instructions to initiate a Redis connection and create a Hierarchical Navigable Small World (HNSW) index for semantic search."
   ]
  },
  {
   "cell_type": "code",
   "execution_count": 46,
   "id": "17d6b886",
   "metadata": {
    "ExecuteTime": {
     "end_time": "2023-06-01T18:35:42.777034Z",
     "start_time": "2023-06-01T18:35:42.746176Z"
    }
   },
   "outputs": [],
   "source": [
    "# Setup Redis\n",
    "from redis import Redis\n",
    "from redis.commands.search.query import Query\n",
    "from redis.commands.search.field import (\n",
    "    TextField,\n",
    "    VectorField,\n",
    "    NumericField\n",
    ")\n",
    "from redis.commands.search.indexDefinition import (\n",
    "    IndexDefinition,\n",
    "    IndexType\n",
    ")\n",
    "\n",
    "redis_client = get_redis_connection()"
   ]
  },
  {
   "cell_type": "code",
   "execution_count": 47,
   "id": "4f3d3e6b",
   "metadata": {
    "ExecuteTime": {
     "end_time": "2023-06-01T18:35:44.201693Z",
     "start_time": "2023-06-01T18:35:44.180450Z"
    }
   },
   "outputs": [],
   "source": [
    "# Constants\n",
    "VECTOR_DIM = 1536 #len(data['title_vector'][0]) # length of the vectors\n",
    "#VECTOR_NUMBER = len(data)                 # initial number of vectors\n",
    "PREFIX = \"focusedlabsdoc\"                            # prefix for the document keys\n",
    "DISTANCE_METRIC = \"COSINE\"                # distance metric for the vectors (ex. COSINE, IP, L2)"
   ]
  },
  {
   "cell_type": "code",
   "execution_count": 48,
   "id": "d3c352ca",
   "metadata": {
    "ExecuteTime": {
     "end_time": "2023-06-01T18:35:44.747984Z",
     "start_time": "2023-06-01T18:35:44.725205Z"
    }
   },
   "outputs": [],
   "source": [
    "# Create search index\n",
    "\n",
    "# Index\n",
    "INDEX_NAME = \"fl-index\"           # name of the search index\n",
    "VECTOR_FIELD_NAME = 'content_vector'\n",
    "\n",
    "# Define RediSearch fields for each of the columns in the dataset\n",
    "# This is where you should add any additional metadata you want to capture\n",
    "filename = TextField(\"filename\")\n",
    "text_chunk = TextField(\"text_chunk\")\n",
    "file_chunk_index = NumericField(\"file_chunk_index\")\n",
    "\n",
    "# define RediSearch vector fields to use HNSW index\n",
    "\n",
    "text_embedding = VectorField(VECTOR_FIELD_NAME,\n",
    "    \"HNSW\", {\n",
    "        \"TYPE\": \"FLOAT32\",\n",
    "        \"DIM\": VECTOR_DIM,\n",
    "        \"DISTANCE_METRIC\": DISTANCE_METRIC\n",
    "    }\n",
    ")\n",
    "# Add all our field objects to a list to be created as an index\n",
    "fields = [filename,text_chunk,file_chunk_index,text_embedding]"
   ]
  },
  {
   "cell_type": "code",
   "execution_count": 49,
   "id": "a6c78b7e",
   "metadata": {
    "scrolled": true,
    "ExecuteTime": {
     "end_time": "2023-06-01T18:35:45.835014Z",
     "start_time": "2023-06-01T18:35:45.779076Z"
    }
   },
   "outputs": [
    {
     "data": {
      "text/plain": "True"
     },
     "execution_count": 49,
     "metadata": {},
     "output_type": "execute_result"
    }
   ],
   "source": [
    "redis_client.ping()"
   ]
  },
  {
   "cell_type": "code",
   "execution_count": 50,
   "id": "cf3ad41f",
   "metadata": {
    "ExecuteTime": {
     "end_time": "2023-06-01T18:36:00.313469Z",
     "start_time": "2023-06-01T18:36:00.282362Z"
    }
   },
   "outputs": [
    {
     "name": "stdout",
     "output_type": "stream",
     "text": [
      "Unknown Index name\n",
      "Not there yet. Creating\n"
     ]
    }
   ],
   "source": [
    "# Optional step to drop the index if it already exists\n",
    "#redis_client.ft(INDEX_NAME).dropindex()\n",
    "\n",
    "# Check if index exists\n",
    "try:\n",
    "    redis_client.ft(INDEX_NAME).info()\n",
    "    print(\"Index already exists\")\n",
    "except Exception as e:\n",
    "    print(e)\n",
    "    # Create RediSearch Index\n",
    "    print('Not there yet. Creating')\n",
    "    redis_client.ft(INDEX_NAME).create_index(\n",
    "        fields = fields,\n",
    "        definition = IndexDefinition(prefix=[PREFIX], index_type=IndexType.HASH)\n",
    "    )"
   ]
  },
  {
   "cell_type": "markdown",
   "id": "f74ebeb5",
   "metadata": {},
   "source": [
    "### Ingestion\n",
    "\n",
    "We'll load up our PDFs and do the following\n",
    "- Initiate our tokenizer\n",
    "- Run a processing pipeline to:\n",
    "    - Mine the text from each PDF\n",
    "    - Split them into chunks and embed them\n",
    "    - Store them in Redis"
   ]
  },
  {
   "cell_type": "code",
   "execution_count": 51,
   "id": "ed23bf9d",
   "metadata": {
    "ExecuteTime": {
     "end_time": "2023-06-01T18:36:12.617169Z",
     "start_time": "2023-06-01T18:36:12.579403Z"
    }
   },
   "outputs": [],
   "source": [
    "# The transformers.py file contains all of the transforming functions, including ones to chunk, embed and load data\n",
    "# For more details the file and work through each function individually\n",
    "from transformers import handle_file_string"
   ]
  },
  {
   "cell_type": "code",
   "execution_count": 52,
   "id": "3912ecdd",
   "metadata": {
    "ExecuteTime": {
     "end_time": "2023-06-01T18:36:17.177191Z",
     "start_time": "2023-06-01T18:36:15.903146Z"
    }
   },
   "outputs": [
    {
     "name": "stdout",
     "output_type": "stream",
     "text": [
      "Requirement already satisfied: textract in /opt/homebrew/lib/python3.11/site-packages (1.6.5)\r\n",
      "Requirement already satisfied: argcomplete~=1.10.0 in /opt/homebrew/lib/python3.11/site-packages (from textract) (1.10.3)\r\n",
      "Requirement already satisfied: beautifulsoup4~=4.8.0 in /opt/homebrew/lib/python3.11/site-packages (from textract) (4.8.2)\r\n",
      "Requirement already satisfied: chardet==3.* in /opt/homebrew/lib/python3.11/site-packages (from textract) (3.0.4)\r\n",
      "Requirement already satisfied: docx2txt~=0.8 in /opt/homebrew/lib/python3.11/site-packages (from textract) (0.8)\r\n",
      "Requirement already satisfied: extract-msg<=0.29.* in /opt/homebrew/lib/python3.11/site-packages (from textract) (0.28.7)\r\n",
      "Requirement already satisfied: pdfminer.six==20191110 in /opt/homebrew/lib/python3.11/site-packages (from textract) (20191110)\r\n",
      "Requirement already satisfied: python-pptx~=0.6.18 in /opt/homebrew/lib/python3.11/site-packages (from textract) (0.6.21)\r\n",
      "Requirement already satisfied: six~=1.12.0 in /opt/homebrew/lib/python3.11/site-packages (from textract) (1.12.0)\r\n",
      "Requirement already satisfied: SpeechRecognition~=3.8.1 in /opt/homebrew/lib/python3.11/site-packages (from textract) (3.8.1)\r\n",
      "Requirement already satisfied: xlrd~=1.2.0 in /opt/homebrew/lib/python3.11/site-packages (from textract) (1.2.0)\r\n",
      "Requirement already satisfied: pycryptodome in /opt/homebrew/lib/python3.11/site-packages (from pdfminer.six==20191110->textract) (3.18.0)\r\n",
      "Requirement already satisfied: sortedcontainers in /opt/homebrew/lib/python3.11/site-packages (from pdfminer.six==20191110->textract) (2.4.0)\r\n",
      "Requirement already satisfied: soupsieve>=1.2 in /opt/homebrew/lib/python3.11/site-packages (from beautifulsoup4~=4.8.0->textract) (2.4.1)\r\n",
      "Requirement already satisfied: imapclient==2.1.0 in /opt/homebrew/lib/python3.11/site-packages (from extract-msg<=0.29.*->textract) (2.1.0)\r\n",
      "Requirement already satisfied: olefile>=0.46 in /opt/homebrew/lib/python3.11/site-packages (from extract-msg<=0.29.*->textract) (0.46)\r\n",
      "Requirement already satisfied: tzlocal>=2.1 in /opt/homebrew/lib/python3.11/site-packages (from extract-msg<=0.29.*->textract) (5.0.1)\r\n",
      "Requirement already satisfied: compressed-rtf>=1.0.6 in /opt/homebrew/lib/python3.11/site-packages (from extract-msg<=0.29.*->textract) (1.0.6)\r\n",
      "Requirement already satisfied: ebcdic>=1.1.1 in /opt/homebrew/lib/python3.11/site-packages (from extract-msg<=0.29.*->textract) (1.1.1)\r\n",
      "Requirement already satisfied: lxml>=3.1.0 in /opt/homebrew/lib/python3.11/site-packages (from python-pptx~=0.6.18->textract) (4.9.2)\r\n",
      "Requirement already satisfied: Pillow>=3.3.2 in /opt/homebrew/lib/python3.11/site-packages (from python-pptx~=0.6.18->textract) (9.5.0)\r\n",
      "Requirement already satisfied: XlsxWriter>=0.5.7 in /opt/homebrew/lib/python3.11/site-packages (from python-pptx~=0.6.18->textract) (3.1.2)\r\n"
     ]
    }
   ],
   "source": [
    "!pip install textract --upgrade"
   ]
  },
  {
   "cell_type": "code",
   "execution_count": null,
   "id": "31f299f6",
   "metadata": {
    "is_executing": true,
    "ExecuteTime": {
     "start_time": "2023-06-01T18:37:36.153459Z"
    }
   },
   "outputs": [
    {
     "name": "stdout",
     "output_type": "stream",
     "text": [
      "./data/1c5c266b-b3aa-4bcc-9ef4-974f68e81acd_Writing_Guide.pdf\n",
      "processing file: 1c5c266b-b3aa-4bcc-9ef4-974f68e81acd_Writing_Guide.pdf\n",
      "file cleaned of newlines, double spaces, and semicolons\n",
      "embedding file 1c5c266b-b3aa-4bcc-9ef4-974f68e81acd_Writing_Guide.pdf with contents: Writing Guide    How to find a topic a    Think Angles, not topics using STRIC  Few people want to read an overview of a topic. Instead, find an angle to write about.     Surprising — presents unexpected new information or theories    True — we actually believe it  Important — has an impact on our behavior    Relevant — related to domains we care about    Cool — we think we’ll look impressive for sharing it    Spikey Point of View  🌵 Another way to add personality and make your writing more interesting is to find a Spikey POV    A view that is both surprising and true, and often reads like a bit of a hot take 🌶    It doesn’t have to be a universal truth    Is meant to be provocative    It’s a belief you feel strongly about and are willing to advocate for     Examples:    Annual planning is colossal waste of time Link    In XP, engineers spend a majority of their time coding, not reading the code    PRDs (product requirements documents) are the worst way to drive product progress.    Launches aren’t a one-time event. Most companies do a ton of work for the launch, but don’t spend enough   time on what happens after. A good launch means sustaining the momentum once the confetti settles.    Most people suck at managing up. They waste their boss’ time with too much (or too little) information.    A huge amount of success in business is random, unplanned or probabilistic. Much of the effort in business   is devoted to pretending that it isn't. Link    Wes Kao — 🌵 Spiky point of view: Let’s get a little controversial  We live in a noisy world. Whichever industry you’re in, there are thousands of other people like   you trying to get noticed. Unless you distinguish yourself, you’ll never get a chance to show   how different you actually are. To stand out, you need to develop what I call a “spiky” point of     https://www.weskao.com/blog/spiky-point-of-view-lets-get-a-little-controversial    Super Specific How    Writing Guide1✍  \fMost articles suck because they lack the detail readers want. We want to see exactly how you accomplished   something.    So take an idea and break it down step-by-step for the reader providing examples and templates along the way.     Example:    How Superhuman Built an Engine to Find Product/Market Fit  Superhuman founder and CEO Rahul Vohra walks us through the framework his startup used   to make product/market fit more actionable, detailing the survey and four-step process that   were key to measuring and optimizing it.    https://review.firstround.com/how-superhuman-built-an-engine-to-find-product-market-fit    Surprising connection  X and Y are seemingly different, but [surprising connection] concept ties them together.     Social Proof 1  I’ve spent [social proof] learning about [concept]. Here are my [X learnings] to help you [outcome]    https://twitter.com/KateBour/status/1478792178726019073?s=20    Social Proof 2  I’ve [quantifiable social proof]. Here are [X observations/mistakes/pieces of advice].     https://twitter.com/ericasmyname/status/1528723310300651520?s=20    Specific difficult situation  Talk about a time when you were under the gun, in a particularly tough situation. Write about what you did and   what you wish you had known at the time.     [Specific difficult situation]. I wish I had [knowledge] for navigating the situation. Here’s what I did to overcome   [situation] and achieve [outcome].     https://twitter.com/jalehr/status/1564613975337103365?s=20    How to achieve the promise land  Everyone wants [generally desirable outcome] but [difficulty in achieving said outcome]. Here’s why, and what to   do instead.     Writing Guide2\fhttps://twitter.com/tomwhtley/status/1547204237393661955?s=20    Predict the future  🌶 Hot take: [provocative opinion on trend or fiesty prediction about the future]. Here’s why:    https://twitter.com/thatroblennon/status/1563554606386294784?s=20    Insight → Framework  Lead with an insight then introduce a framework or activity for putting it into practice.     I’ve found that [bad thing] is due to not recognizing [insight]. Use the [framework/practice] to avoid [bad thing] and   achieve [outcome].    https://twitter.com/shreyas/status/1223816209159712769?s=20    Summarize  Summarize a recent article/podcast/presentation on a topic and write about how it applies to your field.     Example:    The Science of Creativity  A summary of Dr. Huberman's recent pod with some of my own commentary thrown in.    https://practicalproductdiscovery.substack.com/p/the-science-of-creativity    Special formula  I’ve achieved [outcome] using [technique]. Use my [special formula].     https://twitter.com/jayclouse/status/1586820809666007040?s=20    Where to post  LinkedIn    HackerNews    Writing Guide3\fDev    Hashnode    Taro Blog    Slack communities    Twitter    Medium  Software for writing  Extensions / Keyboards    Grammarly    AI Writers    Lex  Voice  Consider Primary tone-of-voice dimensions in your writing    Funny vs. serious: Is the writer trying to be humorous? Or is the subject approached in a serious way?     Formal vs. casual: Is the writing formal? Informal? Casual? (Note that casual and conversational are not   necessarily synonymous, but they do often appear together.)  Respectful vs. irreverent: Does the writer approach the subject in a respectful way? Or does she take an   irreverent approach? (In practice, most irreverent tones are irreverent about the subject matter, in an effort to   set the brand apart from competitors. They are not usually intentionally irreverent or offensive to the reader.)    Enthusiastic vs. matter-of-fact: Does the writer seem to be enthusiastic about the subject? Is the   organization excited about the service or product, or the information it conveys? Or is the writing dry and   matter-of-fact?    Further reading    Everybody Writes: Your New and Improved Go-To Guide to Creating Ridiculously Good Content  Everybody Writes: Your New and Improved Go-To Guide to Creating Ridiculously Good Content:   9781119854166: Business Communication Books @ Amazon.com    https://www.amazon.com/Everybody-Writes-Improved-Go-Ridiculously/dp/1119854164/    Writing Guide4\f\n",
      "Starting the embedding process...\n",
      "Calling OpenAi API for embeddings...\n",
      "Done. Embedding received...\n",
      "Finished with embedding process\n",
      "Loading vectors into Redis\n",
      "Finished loading vectors into Redis\n",
      "./data/2518f2b9-a1f0-4eab-9e3a-dea59abbd520_Daily_Company_Stand_Up.pdf\n",
      "processing file: 2518f2b9-a1f0-4eab-9e3a-dea59abbd520_Daily_Company_Stand_Up.pdf\n",
      "file cleaned of newlines, double spaces, and semicolons\n",
      "embedding file 2518f2b9-a1f0-4eab-9e3a-dea59abbd520_Daily_Company_Stand_Up.pdf with contents: Daily Company Stand Up  🕐 Afternoon Stand Up     Every work day at 1:05pm CT   This is a company-wide meeting and take place in over Zoom.    If we have a lunch and learn scheduled over afternoon stand, we will skip   stand for the day as everyone will be on the lunch and learn!     👑 Czar Responsibilities  The Stand Up Czar/Tzar of afternoon stand is responsible for:     Sharing a fun fact or a topic of choice each day (when appropriate) to move   conversation along (1-2 min)**    **you don’t need to get too 🦆-caught up in the details on fun facts. It can be as   simple as an interesting fact about animals or more specific about something   going on in the tech world! No need to research or deep dive into anything.     Daily Company Stand Up1📣  ➡  ⚠  \fPrompting the group for:    New faces     Afternoon stand up will often have interviewees. In most cases the   recruiting team will introduce the interviewee, but the weekly Czar/Tzar   should be aware and make sure to ask for new faces to introduce   themselves.     Helps, interestings & announcements    Ask the group if anyone has any of the above to talk about    Rachel may have an activity going on and will provide a reveal/update at   the end of stand.     Closing out stand up with a countdown (3-2-1) and clap.     If you’re not sure what to do, once people get quiet, or it’s past 12:15 CT, you   can close out stand by saying something like: “alright everyone, that’s stand,   let’s clap out” then do the count down!     Assigning a Czar/Tzar for the following week on Friday    If you’re not sure who to assign, you can use our Focused Czar Wheel to pick a   name at random.    Daily Company Stand Up2\f\n",
      "Starting the embedding process...\n",
      "Calling OpenAi API for embeddings...\n",
      "Done. Embedding received...\n",
      "Finished with embedding process\n",
      "Loading vectors into Redis\n",
      "Finished loading vectors into Redis\n",
      "./data/2aad8895-1e76-4af3-993b-10cf5cf74faa_Product_Management_at_Focused_Labs.pdf\n",
      "processing file: 2aad8895-1e76-4af3-993b-10cf5cf74faa_Product_Management_at_Focused_Labs.pdf\n",
      "file cleaned of newlines, double spaces, and semicolons\n",
      "embedding file 2aad8895-1e76-4af3-993b-10cf5cf74faa_Product_Management_at_Focused_Labs.pdf with contents: Product Management at Focused   Labs    Overview   Product Management is a practice within an organization that spans the strategy and execution of   the full product lifecycle. When successful, the organization experiences validated product market   fit through growing product adoption, effective cross-functional coordination, and predictable   delivery of new features and updates.     The history of product management is long and has evolved tremendously over the years. Its   inception dates all the way back to Proctor and Gamble in the 1930s as the “Brand Man”. The   origin of product management have customer centricity and aligning business goals at its core.   However, the implementation of the practice in the organization has shifted as industries changed   and had dramatic impacts on the role of a product manager. From being a part of the marketing   organization to going very close to product development and part of the technical organization.   Only in the last 10-15 years has product management been shifting into its own function (not   reporting up through technology or marketing) within organizations such that products built with   customer centricity are directly aligned to business vision and goals. As Mind the Product states,   this makes product management “internal as well as external evangelists of that vision, and gives   them the independence necessary to make tough prioritization calls.”    Some of the most popular agile frameworks used today include Scrum, Kanban, Lean, and   Extreme Programming (XP). Each framework has its own set of principles, processes, and   practices that can be tailored to fit the needs of a specific organization or project. The role of the   product manager, and the name of the role itself (!), can vary greatly within an organization. It is   often influenced by the size of the organization, the industry, the organization’s choice of agile   framework and the career history of senior leaders.     The following is an articulation of how Focused Labs views the role and responsibilities of a   product manager, as well as the core principles and practices we deploy when doing product   management with clients.    Product Management at Focused Labs1🦎  \fThe Product Manager’s Role & Responsibilities  Product managers are responsible for identifying customer needs, defining product requirements,   and overseeing the product development process. They work with cross-functional teams,   including executive leadership, engineering, design, marketing, and sales, to ensure that the   product meets the market demand and is delivered on time and within budget. Additionally,   product managers are responsible for setting product strategy, conducting market research, and   analyzing data to inform product decisions. Overall, the product manager's goal is to create   and deliver a successful product that meets customer needs and drives business growth.    Reforge has already done a great job of breaking the Product Manager’s role and responsibilities   down into its most generic form.     What Does a Product Manager Do? Key Roles & Responsibilities — Reforge  What does a product manager do? We asked our product experts to outline key   product manager roles & responsibilities.    https://www.reforge.com/previews/product/what-does-a-product-manager-do?rq=pr    oduct%20management    Principles First    A principle is a fundamental truth or belief that guides decision-making and behavior. The   following are the core values and beliefs that guide Focused Labs product managers in their   approach to product development.    Outcome-driven - We believe in identifying and measuring the success of a product based   on the impact it has on the desired outcomes, rather than just the number of features or   releases. It prioritizes identifying and solving customer problems that align with business   goals.  Working Software Above All Else - We believe that the most reliable and effective feedback   comes from an application deployed to production. Therefore, we pursue small, incremental   releases to create short feedback loops. Our ability to be highly effective agile project   managers, regardless of our seniority as product managers, enables us to deliver reliably.    Cross-functional Collaboration — We believe that effective product management requires   close collaboration with cross-functional teams, including engineering, design, marketing, and   leadership. Product managers should be able to work effectively with these teams to ensure   that the product meets its goals.    Product Management at Focused Labs2\fContinuous Improvement — We believe that no product is ever truly \"done\". By reviewing   customer feedback and data, product managers should be able to identify opportunities for   improvement and make necessary changes to the product.    User Centricity — We believe that everything starts and ends with the user. Product   managers are responsible for representing the voice of the customer and making sure that the   product meets their needs.  Agile Mindset — We believe in the Extreme Programming (XP) agile framework because of   its efficacy in delivering high quality software predictably. Product managers are familiar with   other agile frameworks and are able to adapt them to the needs of the organization alongside   XP.     We also acknowledge that the Extreme Programming guidance has not been updated to   provide clear and consistent guidance for the roles of product management and design in   a cross-functional software development team. We may at times make strategic   adjustments to our practices and processes to more effectively enable modern product   management to be embedded in our cross-functional development teams.    Data-driven Decision Making — We believe in using data and insights to make informed   decisions about the product. Product managers are able to interpret data and use it to drive   product strategy.    Product Management at Focused Labs3\f\n",
      "Starting the embedding process...\n",
      "Calling OpenAi API for embeddings...\n",
      "Done. Embedding received...\n",
      "Finished with embedding process\n",
      "Loading vectors into Redis\n",
      "Finished loading vectors into Redis\n",
      "./data/2e534dc2-827e-40c5-bb1d-28d8c3731932_The_Chicago_Office.pdf\n"
     ]
    }
   ],
   "source": [
    "%%time\n",
    "# This step takes about 5 minutes\n",
    "\n",
    "# Initialise tokenizer\n",
    "tokenizer = tiktoken.get_encoding(\"cl100k_base\")\n",
    "\n",
    "# Process each PDF file and prepare for embedding\n",
    "for pdf_file in pdf_files:\n",
    "    \n",
    "    pdf_path = os.path.join(data_dir,pdf_file)\n",
    "    print(pdf_path)\n",
    "    \n",
    "    # Extract the raw text from each PDF using textract\n",
    "    text = textract.process(pdf_path, method='pdfminer')\n",
    "    \n",
    "    # Chunk each document, embed the contents and load to Redis\n",
    "    handle_file_string((pdf_file,text.decode(\"utf-8\")),tokenizer,redis_client,VECTOR_FIELD_NAME,INDEX_NAME)"
   ]
  },
  {
   "cell_type": "code",
   "execution_count": 54,
   "id": "22aff597",
   "metadata": {
    "ExecuteTime": {
     "end_time": "2023-06-01T18:37:20.989329Z",
     "start_time": "2023-06-01T18:37:20.944616Z"
    }
   },
   "outputs": [
    {
     "data": {
      "text/plain": "'4'"
     },
     "execution_count": 54,
     "metadata": {},
     "output_type": "execute_result"
    }
   ],
   "source": [
    "# Check that our docs have been inserted\n",
    "redis_client.ft(INDEX_NAME).info()['num_docs']"
   ]
  },
  {
   "cell_type": "markdown",
   "id": "6b12cb6e",
   "metadata": {},
   "source": [
    "## Make it a product\n",
    "\n",
    "Now we can test that our search works as intended by:\n",
    "- Querying our data in Redis using semantic search and verifying results\n",
    "- Adding a step to pass the results to GPT-3 for summarisation"
   ]
  },
  {
   "cell_type": "code",
   "execution_count": 83,
   "id": "e921ac96",
   "metadata": {
    "ExecuteTime": {
     "end_time": "2023-05-31T23:55:59.995003Z",
     "start_time": "2023-05-31T23:55:59.955605Z"
    }
   },
   "outputs": [],
   "source": [
    "from database import get_redis_results"
   ]
  },
  {
   "cell_type": "code",
   "execution_count": 84,
   "id": "cb9dfacf",
   "metadata": {
    "ExecuteTime": {
     "end_time": "2023-05-31T23:56:04.692197Z",
     "start_time": "2023-05-31T23:56:02.090104Z"
    }
   },
   "outputs": [
    {
     "name": "stdout",
     "output_type": "stream",
     "text": [
      "***** Querying Redis *****\n",
      "Original Query: when is the 2023 Chicago IRL scheduled for?\n",
      "Embedded Query: b'!\\xfb<;\\'\\x07\\xc2\\xbc\\xd3\\x08\\x87\\xbb\\xe9\\xd6!;\\xd8|g\\xbc\\xb1\\xefg<\\xfd\\x87$\\xbd\\x12\\x9eQ\\xbb\\xb2\\x87\\x0c\\xbd\\xc6\\x80\\xa1\\xbc\\x81\\x8c\\x0e=Dy\\x86;\\xc4\\x8e\\x83\\xbb\\xf9\\xfd\\xe1\\xb9\\xbfW\\x84\\xbb\\xc5\\xab\\x9b\\xbc\\xb34\\xc9;4\\x8f\\xa7\\xbc\\xd23\\x81;\"\\x18\\xd5;\\xd4\\xb5C<h\\xec\\x1e;}J^<\\xae\\xb5\\xb7\\xbc\\x8fy\\x1e:o\\x15\\xbc\\xba\\x88\\x8db;\\x8fy\\x9e\\xbc.;\\x90<\\xd7_\\xcf\\xbc\\xdcN\\xbc<@\\xa71\\xbc4\\xd79:6\\xc9\\xd7\\xbc\\xc1\\xd9\\xc6\\xbc\\xcd\\xf1P\\xbd\\xd9\\\\\\x1e<\\xff\\xcc\\x85\\xbc\\xe9\\x8e\\x8f:\\xa9\\x19\\x0e\\xb9\\xb6\\x96\\xc2<Tx};x\\x13_<b\\xd5\\xe8\\xbc\\xbc2\\xec\\xbc\\x07\\xae\\x10=Y\\x1f\\xd8;]a\\x88\\xba\\x14\\xbbi\\xbc\\x7f\\x8f?<9\\xc6\\xa6<\\x18:{<\\x91\\x06\\x92\\xbc\\x9f\\xf3!\\xbd\\x16eu<_+]\\xbce\\xd2\\xb7\\xbc)\\xdcG<\\xbah\\x97;Z\\xf4]\\xbb.\\xcb4<\\x83\\x9eu\\xbc\\x7f\\xe2\\x82\\xbc\\xf4\\x89\\x01=W\\xe5\\xa7<-f\\n;\\xf7pn\\xbc\\x962\\xe0<\\x93\\xdb\\x97\\xbb\\xf1o\\x9a\\xbc\\x8b\\xef[<\\xe6\\xe4\\x03=\\xfe4a<\\xbew\\xcd\\xbc.\\xcb\\xb4<:\\x9b\\xac\\xbc\\xd6\\xa7a:\\x10\\x1c\\x8f\\xbc\\x97\\xa2\\xbb<\\x8e\\xa4\\x18\\xbc\\x1eQ\\xb1<\\xb8\\x93\\x11\\xbc\\xc9*\\xad\\xbc6Y|<\\x17\\xd5P<T;\\x9c<\\xfc\\xb2\\x9e<;\\xb8D<9sc\\xbc\\xad(D\\xba\\xd4m1<\\xbfW\\x84<\\xdf\\xb05\\xb9\\xcc\\x1c\\xcb<\\x14s\\xd7\\xbc\\xe2Z\\xc1:\\x9e\\x13\\xeb\\xbc\\xe7I\\xae;3\\xba!;6\\x1c\\x1b\\xbc2\\x02\\xb4<o\\x15\\xbc;T;\\x1c\\xbc\\xf1\\xac{\\xbc\\xaf\\xdd\\x80\\xbc\\xfd\\xcf\\xb6\\xbc\\r\\x02\\xa8\\xba\\xc4\\xf3\\xad<3g^;]a\\x88<\\x03\\x94)\\xbc N\\x00=\\x93\\x93\\x05=\\xf73\\r\\xbd\\xf6\\x9bh<2\\x024\\xbc\\xb34\\xc9\\xba\\x02\\xbf\\xa3;lk\\xb0\\xbb\\xc0t\\x9c\\xbc5\\xac\\xbf<A_\\x9f<]\\xe6\\xfb<\\x16\\xb8\\xb8\\xbc\\nX\\x9c;p\\xc2x\\xbc0\\x10\\x96\\xbc%\\xc2\\xe0\\xbc\\xa7\\x81\\xe9\\xbaX\\x02@<\\x97O\\xf8;\\xa3r\\xb3\\xbb\\xd0\\xe3\\xee;\\x01\\xdfl;u\\xb1\\xe5\\xbb\\xabS><\\xbc\\xa2\\xc7\\xbcr\\xbf\\xc7<!\\xa8\\xf9\\xbc\\x0b-\"\\xbcq\\xeaA\\xbc\\xde\\x93\\x1d;N\\x94\\xc1\\xbc\\xd0\\xa6\\r;)\\x04\\x91\\xbc\\x10\\x1c\\x8f<\\xab\\xa6\\x81<\\x01\\xdfl\\xbbH@\\xaa<8\\xa9\\x8e\\xbbp\\xcd\\xa9<\\xbfW\\x84\\xbc3g^\\xbc?\\xc7\\xfa< \\x8ba<Z\\xff\\x8e<\\xb9\\xf8\\xbb\\xbb\\x83\\x9e\\xf5<\\xc8U\\xa7\\xbb\\xdd#B\\xbc\\x17\\xe0\\x81<\\xe7\\x91\\xc0\\xbca\\x00c:\\xdc\\xbe\\x17<\\xb7k\\xc8<\\xd2pb<\\xa2U\\x1b=\\xb9\\xf8;<\\xd8|\\xe7;J]B\\xbb\\xd1{\\x93;E&\\xc3<\\xcaGE\\xbd\\xf9\\x08\\x93;\\xa9Vo\\xb9M\\x07\\xce<\\x04L\\x97<\\xaf%\\x13\\xbc\\xf6\\x0b\\xc4\\xbcg|C\\xbc)\\x04\\x91<\\xa2\\x92|<\\xf9\\xc0\\x00=\\xdb1\\xa4\\xbb6d\\xad\\xbb\\x02\\xb4r;WJ\\xd2<\\x01\\xdfl\\xbc\\xacpV\\xbc\\xf0R\\x82\\xbc\\x91\\x06\\x12=L\\xa2#<\\x8e\\\\\\x06<\\x12\\xf1\\x94;(w\\x1d\\xbf\\x04\\xf9\\xd3\\xbc\\xdc\\xfb\\xf8<?\\xd2\\xab\\xbb\\xd1\\xc3\\xa5:\\x92#*=\\xa4\\xd7\\xdd\\xbb\\x1a\\xd2\\x9f;\\x10\\x1c\\x8f\\xbc\\xeer\\xcb<\\xa1\\xbd\\xf6<\\xac\\x00{<\\xe6,\\x16<\\xce\\x0e\\xe9\\xbc\\xde@Z<U\\xc8\\x0f\\xbd\\xday6=\\xbc\\xf5\\x8a<\\xec-j\\xbbv\\x86\\xeb;\\xb8#6\\xbcm\\x18m\\xbb\\x1b\\xa7\\xa5\\xb6\\xba \\x85\\xbc\\x01\\xa2\\x0b\\xbc\\x81d\\xc5<\\x02\\xb4\\xf2;R\\xae(\\xbd6d\\xad\\xbc\\xdf\\xb0\\xb5\\xbc\\x92#*\\xbc!\\xa8\\xf9<!\\xfb\\xbc;\\xbe\\xe7\\xa8\\xbc\\xc9r\\xbf<X\\x02\\xc0\\xbc\\xd4m\\xb1\\xbccE\\xc4<\\x01\\xdfl<\\xe0 \\x11=\\r\\xf7\\xf6\\xbc\\xfc\\xb2\\x1e<\\xc0,\\n\\xbc\\x83a\\x94<Z\\xff\\x8e:`S&=m#\\x9e<9~\\x94;v\\xd9\\xae:\\xb9@\\xce\\xbc\\xd4m1<?\\x1a\\xbe\\xba\\x93\\xdb\\x97\\xbct\\xdc_\\xbb\\x9a\\xbc\\xa2<\\xe8f\\xc6\\xbc\\xbc\\xf5\\x8a<{\\x10\\xae<\\xff\\x14\\x189\\x96\\x85#\\xbcb\\xd5\\xe8\\xbb\\xef\\x9a\\x94<\\xb0\\x8a=\\xbd\\x86S\\xb2\\xbc\\xa9\\xc6\\xca<<\\x1d\\xef:Dy\\x86;2\\x024<\\xbc\\xa2\\xc7;\\xd3P\\x19<\\x19\\xaaV\\xbb\\xc9\\x1f\\xfc<\\xb1_\\xc3\\xbc\\xf3a8\\xbcZ\\x8f3\\xbb]a\\x88:#\\xf8\\x8b<\\xcb\\xb7 =\\x92k\\xbc\\xbb\\xbd\\x07\\xf2;\\xba\\xb0)\\xbb\\xd2\\xe0\\xbd\\xbcOL/<<p\\xb2\\xbb\\x1b\\xef7<\\x80\\xac\\xd7\\xbc\\x8c\\xcf\\x12\\xbd\\xa4*!\\xbc\\x99\\x94Y;\\x0b-\"<wI\\x8a;\\xbc\\xf5\\x8a<\\xdd#\\xc2\\xbb]\\xa9\\x9a\\xbcap\\xbe\\xba0\\xbdR\\xbb\\xba\\x15\\xd4\\xbc\\xd7\\xcf*<W\\xe5\\xa7;\\x17\\xe0\\x81\\xbc,\\xeb\\xfd:\\xb6\\xde\\xd4\\xbb<p\\xb2<P!\\xb58dm\\r=\\x88\\x98\\x93;\\x85\\x9b\\xc4\\xbc\\xbb=\\x1d;\\x0c\\xe5\\x0f;#\\x88\\xb0\\xbc#@\\x9e\\xbc\\x9cI\\x16<\\xac\\xc3\\x99\\xbc\\xa2\\x9d\\xad\\xbb\\xdf\\xb0\\xb5\\xbc\\xe1\\xad\\x84\\xbc\\xc6\\x80!\\xbc\\xbfW\\x84;\\x1e\\t\\x9f<\\x12\\xf1\\x14\\xbc \\x8b\\xe1<\\x86\\xb8\\\\\\xbcE&\\xc3<m#\\x1e\\xbbn\\x88\\xc8\\xbb\\x12\\xa9\\x02\\xba\\t\\xe8@<\\x94h\\x0b<*i\\xbb\\xbb\\xfe\\xa4\\xbc<I5\\xf9\\xbb\\xa5G9<\\xac\\x00\\xfb<lk\\xb0\\xbc\\x80\\xff\\x9a<r\\x12\\x8b<ut\\x04=Rf\\x96\\xbckN\\x98\\xbc\\xec-\\xea\\xbaZ\\xf4\\xdd\\xbc\\xa4\\xd7\\xdd;\\xfa\\x1a\\xfa:\\xd8?\\x86\\xbbo\\xb0\\x11\\xbc\\x8f\\xb6\\xff\\xbc\\xc6up\\xbcG`s<\\xe0\\xcd\\xcd;\\x8e\\xe1\\xf9\\xba\\xad(D\\xbb\\xdc\\xbe\\x97\\xbc\\xd7\\xcf\\xaa\\xbc\\x8d4\\xbd;\\x1f\\xb6[\\xbc\\xfb\\x95\\x86\\xbc\\x10\\x1c\\x8f<\\x8c_7\\xbdm#\\x9e\\xba\\xcb\\xff\\xb2\\xbc\\xfe4a:N\\x94\\xc1;\\xef\\xd7u\\xbb\\xa6\\xac\\xe3\\xbb\\xc1!\\xd9<\\xc8\\x02d<\\xa7D\\x88\\xbb\\x8c\\x17\\xa5<\\x9f;\\xb4\\xbcO\\xf9k\\xbcj&O\\xbc8\\xa9\\x0e\\xbc\\x8e\\\\\\x06\\xbc\\xba\\xb0\\xa9<\\xeb\\x1b\\x83:\\xf3\\xfc\\x8d\\xba(/\\x8b<b\\xd5h\\xbc\\x02\\xbf\\xa3:\\xc4\\xf3\\xad;\\xf2\\x8c\\xb2;\\xf1\\'\\x88<\\x86\\xb8\\xdc;J]B\\xbb\\xebXd<\\xa7\\xd4,\\xbc\\x8c\\x17\\xa5<\\x0c\\xda\\xde<\\xef\\xd7u\\xbc\\x85\\x9bD<\\xf9\\x08\\x13<\\x16e\\xf5<\\xa6\\xb7\\x94\\xbb\\xf9\\xfda<0\\x05e<r\\x12\\x8b<g\\x17\\x19\\xbc\\x11\\x11^\\xbc0\\xbdR\\xbc;\\x00\\xd7;j&\\xcf<2\\x024<e7b\\xba\\xdc\\xbe\\x17\\xbc\\xce\\xa9>\\xbb\\xbd\\xca\\x90\\xbc\\xb9\\xf8;\\xba\\xf7p\\xee\\xbc\\x80\\xf4\\xe9<\\xb2\\x171\\xbc/\\xa0\\xba<\\x10\\x1c\\x0f\\xbc\\xad\\x98\\x9f\\xbc\\xe0\\x15\\xe0;C\\xa4\\x00:\\xc2\\x01\\x90<\\xba\\xb0\\xa9\\xbc\\x84s\\xfb\\xbat\\x04)\\xbb\\x8eQU<(ll<\\xddv\\x85\\xbc\\x02\\xbf#<\\x8f\\xb6\\x7f\\xbb\\x89\\xb5\\xab\\xbb;\\x0b\\x88:\\x06\\x86\\xc7\\xbbO\\xbc\\n=X\\xba-=\\xaf\\xdd\\x00\\xbd\\xcf\\xd1\\x87\\xbc\\x9f\\xab\\x0f<\\xfd\\x17\\xc9<T\\xf3\\x89<{\\x10\\xae<\\x02\\xbf\\xa3\\xbc#\\xf8\\x8b;\\x1fnI;N\\xdcS=r\\x12\\x0b:xf\\xa2<\"\\x18U<!CO=J]B<FN\\x0c<dm\\x8d\\xbb\\xb7k\\xc8<\\x8f\\xc10:\\xfbB\\xc3\\xbb\\x80\\xff\\x1a<h\\xec\\x1e\\xbd4G\\x95\\xba\\x18:\\xfb\\xbb\\xf1\\'\\x88<\\xc9\\x1f\\xfc:n\\xed\\xf2\\xbc\\x83a\\x14\\xbc\\xce\\x19\\x9a\\xbc\\rJ\\xba<\\xc5\\xa0j<4\\x8f\\'<\\x92k<<9\\xc6\\xa6<PiG<<p2\\xbc\\x11\\x11^\\xba\\x07\\xf6\"\\xbc]\\xf1,\\xba\\xac\\x00{;\\x80\\xacW\\xbc\\xd1\\x0b8\\xbcTx\\xfd\\xbc\\xaa6\\xa6\\xbc\\xcf~D\\xbbz\\xa0R<\\x0fG\\x89<b\\x98\\x07\\xbc1u@\\xbde\\x8a%;\\xd3P\\x99<,\\xf6\\xae<\\xf9\\xc0\\x00\\xbdo\\x15<\\xbc\\xf0G\\xd1<X\\xba\\xad\\xbc\\x1d)h\\xbc\\t0S<\\xe8\\x1e4<p\\xcd);\\rJ:;\\xa3r3\\xbc\\xcf6\\xb2<\\xdeK\\x8b<{\\x10.\\xbb\\xb9\\xf8;\\xbb\\xd8|\\xe7:\\xde\\xd0\\xfe<)L\\xa3\\xbc`S&\\xbdK2\\xc8\\xbc\\xc2I\\xa2;\\xf0GQ<a\\xc3\\x01<\\xe2\\xa2\\xd3\\xbc\\xce\\x19\\x1a=Z\\x8f\\xb3<\\x0c\\x92L;\\xc0t\\x1c\\xbds/\\xa3\\xbc\\xf4\\x19&\\xbc6\\xd4\\x88<\\x93\\xd0f<\\xa8\\xf1\\xc4\\xbc\\xba\\x15T;\\x9f\\xf3\\xa1;<\\x1d\\xef;~*\\x95\\xba\\xd4m1\\xbc\\xb0B\\xab9>\\xaab\\xbc\\x86\\xc3\\r\\xbc\\xe9\\x8e\\x8f\\xbc3r\\x0f\\xbd\\x94\\xf8\\xaf\\xbc\\x83\\x0e\\xd1=w\\xf6F<ui\\xd3<iQ\\xc9<\\xc78\\x0f\\xbc96\\x02<v\\xd9\\xae\\xb9\"k\\x18\\xbd\\xc7\\xe5\\xcb\\xbb\\x85\\x9b\\xc4\\xbc)\\xdcG;\\xf73\\x8d:\\xd2\\xe0\\xbd;d\\x1a\\xca;\"k\\x98<7\\x81E<\\nMk\\xba\\xec-j\\xbc\\xd5\\xd2[<@7V<b\\xd5h\\xbc\\x07\\xae\\x10\\xbc\\x07[\\xcd\\xbc\\x83a\\x14=*i\\xbb<\\x8e\\xa4\\x98\\xbc\\xab\\x0b,<G#\\x12\\xbc\\xafm\\xa59\\x8a\\x1a\\xd6\\xbc\\xde\\x93\\x1d\\xbcB|\\xb7<\\xc4\\xf3-<\\xc9\\x1f\\xfc;\\t;\\x84\\xbc\\xf2\\x8c\\xb2;\\xebc\\x95;\\x9bt\\x90\\xbb(l\\xec<\\xf6\\xa6\\x99<;S\\x9a\\xbaa\\x00c\\xbb\\xdd#\\xc2;\\xb2\\xc4m\\xbc\\xdeK\\x0b\\xbbT\\xe8\\xd8\\xbcZ\\xff\\x8e\\xbc\\x84s\\xfb<\\xe6\\xe4\\x83\\xbcq\\x97\\xfe\\xbb\\xc1!\\xd9<k\\xde<<\\xec\\x80-\\xbd\\x00z\\xc2; \\x8b\\xe1\\xbcLZ\\x91<\\xc9*\\xad\\xbc\\xe4\\x9f\\xa2\\xbcrZ\\x1d\\xbcx\\x1e\\x10\\xbd\\xcd9\\xe3\\xbc\\x04L\\x97\\xbc=E\\xb8;?\\x8a\\x99\\xbb\\x9df\\xae\\xbc\\xff\\x14\\x98\\xbc\\x15\\x90o\\xbb\\xb0B+\\xbc\\xe6i\\xf7\\xbc\\x18E\\xac\\xbc\\x03\\x94)<\\xcd\\xfc\\x01\\xbd\\xee\\x02\\xf0\\xbc\\xb5\\xe9\\x85;\\x03\\x94)<<\\x1do\\xbc\\xad\\xe0\\xb1</\\xa0\\xba;\\x15S\\x0e<\\xb8\\xdb\\xa3<m\\x18m;\\xef*9\\xbd\\xa7\\x81\\xe9\\xbb)A\\xf2\\xbb\\xd9Q\\xed;D\\xb6\\xe7<\\xba]\\xe6;\\x1e\\t\\x9f\\xbc\\x9b\\xd9\\xba;\\xb8\\xdb\\xa3<0\\xc8\\x03<\\x16e\\xf5\\xbbt\\x04\\xa9<\\xf0R\\x02<\\xff\\x14\\x98<\\x90&\\xdb:|u\\xd8<\\xe2\\x12/<1-.\\xbb`\\x9b\\xb8;\\x98w\\xc1\\xbag\\xcf\\x06\\xbb\\xbfW\\x84\\xbc\\x96\\xea\\xcd\\xbb\\x96=\\x91:\\xe9\\xd6\\xa1<FN\\x8c;Yg\\xea\\xba[d\\xb9\\xbc\\x98\\xbf\\xd3\\xba\\xd9\\\\\\x9e<N\\x94\\xc1\\xbb\\x81\\x8c\\x8e;\\x9d\\xae\\xc0\\xbc\\x16\\xb8\\xb8:T\\xe8X<\\xe6!e<\\xdc\\xbe\\x97\\xbb\\xcd\\xfc\\x01\\xbd\\x80\\xff\\x1a\\xbb\\xc5\\xab\\x1b\\xbc\\xfe\\xec\\xce\\xbc\\x19b\\xc4<I\\xa5T<\\xf0\\xb7\\xac\\xba\\x9e\\x83F;\\xe1\\xea\\xe5\\xbbq\\x97\\xfe\\xbbo]N\\xbc\\x97\\xa2\\xbb<\\x08\\x83\\x96\\xbc\\xc4\\x83\\xd2;\\xe9\\xd6!\\xbbO\\xf9k\\xbb3\\xba\\xa1\\xba\\xa6d\\xd1\\xbcwI\\x8a;\\xfcj\\x0c<\\x89\\xb5+;\\xd6B7\\xbc\\xcea\\xac\\xbb\\xfc\\xef\\xff\\xba\\xef\\xe2\\xa6<Y*\\x89\\xbc>bP\\xbc4G\\x95\\xbc\\xa0\\xa0\\xde\\xbczX\\xc0;\\x8a\\xd2\\xc3<\\xd6\\xb2\\x12=,\\xf6\\xae\\xbb\\x8fy\\x9e<\\x88\\x8db;1\\xe5\\x1b\\xbc\\xfd\\x17\\xc9\\xba\\x07\\xae\\x10\\xbcz\\xe8\\xe4\\xbcp=\\x05\\xbd9\\xc6\\xa6<\\xc4\\xf3\\xad<\\x12\\xa9\\x02=\\xb8\\xdb\\xa3\\xbc)\\x04\\x91<t\\x04)\\xbb8\\x9e\\xdd<\\xfe4a\\xbb\\x97Z\\xa9\\xbc\\x90\\xdeH<\\x04\\x89x\\xba\\xa8\\xa92\\xbc\\xde\\xdb\\xaf\\xbb\\xc6u\\xf0\\xb9\\xcc\\x1cK\\xbc\\x12\\xa9\\x02\\xbc2\\x02\\xb4\\xbc\\xebc\\x15;6Y|;xf\\xa2<#@\\x1e\\xbc\\x87\\xe0%\\xbdy\\xcbL\\xbc\\x01\\xa2\\x0b;\\xb2|\\xdb;\\xe1\\x85;;O\\xbc\\x8a\\xbca\\xb8\\xd0\\xbbMw\\xa9<\\x00\\xea\\x1d<ut\\x04=6d\\xad;\\x17\\x8d>\\xbc\\xf2D\\xa0\\xbc\\x08\\x83\\x96<\\xf3\\xf1\\\\\\xbc\\xc9*-\\xbc|uX;\\x9c\\x01\\x84\\xbc\\xba \\x85\\xbc\\x9cI\\x16<D\\xb6g<p\\xc2\\xf8<f\\xa7\\xbd<x[\\xf1;q\\x97\\xfe<\\xb2\\xc4\\xed;9\\x0e9=\\xc4\\xcb\\xe4\\xbcG#\\x92\\xbbC\\xec\\x92;\\x13\\xc6\\x9a\\xbc\\x88P\\x81:Pi\\xc7\\xbcP\\xb1\\xd9\\xbc\\xce\\x0e\\xe9\\xbc\\x9cI\\x96\\xbb\\xd1S\\xca\\xbb#\\x880\\xbc9~\\x94<\\xbfL\\xd3\\xbc:+\\xd1\\xbb\\x80\\xff\\x1a\\xbc\\x18E,\\xbc\\xdb\\x96N;G#\\x92<\\xc4\\x8e\\x03=\\x04\\x89\\xf8<>\\xb5\\x13<\\xb6\\x96\\xc2;\\x04L\\x97\\xbc\\xef\\xe2\\xa6<[\\x1c\\'<Pi\\xc7<\\xa1u\\xe4<\\xc78\\x8f\\xbcK\\x85\\x0b\\xbc\\xb0\\x8a=<r\\xbf\\xc7;$]6\\xbdPiG\\xbd\\x11\\xc9\\xcb:u\\xbc\\x16=\\x93\\xdb\\x97<\\x81\\xd4\\xa0\\xbc\\xfe4\\xe1\\xbc\\'\\x07\\xc2:\\xb4\\\\\\x12=.\\xcb\\xb4\\xbb\\xaf%\\x93;Kz\\xda\\xbb\\xa8\\xf1\\xc4\\xbb96\\x82<\\x84s\\xfb;\\x17\\xd5\\xd0\\xbc\\x9bt\\x90;\\x81dE<\\xb4\\tO<\\x1b\\xa7%\\xbc\\xf4\\xd1\\x13\\xbc_+\\xdd\\xbc\\x002\\xb09,\\xeb}<\\xba]\\xe6;\\x92\\xb3N<\\xdeK\\x8b;\\x04\\xf9S\\xbc\\x18E,;\\x90\\xdeH\\xbcDy\\x86\\xbc\\x00\\xea\\x1d;\\xc5X\\xd8<\\x19b\\xc4\\xbc\\xe4\\x94\\xf1;\\xaa\\xe3\\xe2\\xbcn\\xedr\\xbcp=\\x85;\\x02\\xb4\\xf2:\\xd0\\x9b\\xdc\\xbb\\x7f\\xd7Q\\xbc\\xc5X\\xd8\\xbc\\xd1{\\x13\\xbb\\xbd\\xca\\x90<\\r\\xba\\x15<CQ=;rZ\\x1d\\xbbb\\xd5h\\xbc\\xd3\\x8dz\\xbc\\x97\\x12\\x97\\xbc.\\xcb\\xb4:\\xc9\\x1f\\xfc;\\xab\\x0b\\xac\\xbc\\xdc\\xfbx;\\xbc\\xf5\\x8a\\xba\\xad(D;\\xee\\xba\\xdd\\xbb\\x8e\\xe1\\xf9;d\\xaan<lC\\xe7;uiS\\xbb\\xb51\\x98\\xbc.;\\x10\\xbc9~\\x14\\xbb\\xafm\\xa5<G\\xb36\\xbc\\x901\\x8c\\xbctL;\\xbcz\\xf3\\x95\\xb8&\\x97\\xe6<\\xbb=\\x9d<\\x8bB\\x9f\\xbckN\\x98\\xb9k\\xde\\xbc<0\\x10\\x96\\xbb\\xee\\xc5\\x0e\\xbc\\xe4\\xe74<\\xac{\\x07=\\x01\\xa2\\x8b<\\xf8(\\xdc;\\x84\\xc6\\xbe9\\xabS>\\xbd\\xb7C\\x7f<\\x82\\xf1\\xb8\\xbc\\xa4\\xe2\\x8e<\\x129\\'=X\\xba-\\xbc\\xc78\\x0f=\\x10\\x1c\\x0f\\xbc\\xcbo\\x8e<\\xdc\\xfbx<\\xa3\\x02X\\xbaZ\\xff\\x0e\\xbc\\xb34\\xc9<A\\x0c\\xdc\\xbbw\\xae\\xb4\\xbc\\xe6!\\xe5\\xbc\\xe6,\\x96\\xbcv\\x91\\x1c\\xbb\\x002\\xb0\\xbc\\x8e\\xec\\xaa<a\\xb8\\xd0\\xba\\x98\\xbfS\\xbc\\x0e\\xd7-\\xbc\\x98\\xbf\\xd3<v\\x86\\xeb\\xbaG`s\\xbcM\\xbf\\xbb;j\\xc1\\xa4\\xbc\\x05\\xd9\\x8a\\xbc\\x83\\x0eQ\\xbd\\x0bu4\\xbd\\x1b\\xef\\xb7\\xb9^VW\\xbc\\xa18\\x83=\\x15\\x9b <o\\xa5`\\xbc\\x1a7\\xca\\xbc)\\x04\\x91\\xbcQ\\x91\\x90;LZ\\x91;:+\\xd1\\xbb6\\x1c\\x1b<\\x8d\\x87\\x00=;Hi\\xbc\\x97O\\xf8\\xba\\xe9\\x8e\\x0f=o\\xa5`\\xbc\\xe1\\xad\\x84<B4%<*i;<<p2=%\\xc2\\xe0;r\\xbf\\xc7\\xbb4\\x84\\xf6<\\x94\\xf8\\xaf\\xbb)Ar<v\\x86\\xeb;\\xe4\\x9f\"=\\x80\\xb7\\x88\\xbb\\x1f\\xb6\\xdb<\\xf7\\xc31;B|7<\\\\\\xd4\\x14;N\\xdcS\\xbc,\\xeb\\xfd\\xbcut\\x04<4G\\x95\\xbc\\xfcj\\x8c\\xbc\\xa0\\x10\\xba\\xba\\xaa+\\xf5\\xb9\\xf4\\x89\\x81\\xbcO\\xbc\\x8a<v!\\xc1\\xbb\\xf1\\xac{\\xba\\xe1\\xea\\xe5\\xbbcE\\xc4\\xbc\\xd5\\x8aI\\xbbv\\x86\\xeb\\xbb\\x16eu\\xbc\\xd3\\x98\\xab\\xbc96\\x02=|-\\xc6\\xbc\\xc0t\\x9c<\\x84\\xc6><4G\\x95<.\\xcb4\\xbc\\xf3\\xf1\\\\\\xbc\\xca\\x9a\\x08<\\x0c\"\\xf1\\xbc\\x80\\xff\\x1a\\xbcf\\xa7\\xbd<\\xfa%\\xab;~r\\xa7<WJR\\xbcx[q;Y\\xd7\\xc5\\xbb#}\\xff\\xbc\\x9f\\xab\\x8f;\\x18E,;\\xe3\\x82\\x8a\\xbc\\xa0\\x10\\xba<\\x89%\\x07;\\xbc\\xa2\\xc7\\xbc\\\\\\x8c\\x02\\xbc,\\xf6.\\xbc\\x81\\xc9\\xef\\xbc\\xb5\\xc1\\xbc\\xbb\\xfd\\x17\\xc9;\\x9aLG\\xbco\\xb0\\x91\\xbc\\xa2\\x9d\\xad\\xbc\\x0c\"\\xf1;)\\x04\\x91\\xbc\\rr\\x83\\xbc\\x8e\\\\\\x06<\\x12\\xf1\\x14\\xbc\\xbf\\x9f\\x96;\\xbd\\xca\\x90<\\x89bh>\\xe7>};\\x7f\\xd7\\xd1;\\xc0\\xbc.<\\xb0\\xfa\\x98\\xbc\\x1a\\xd2\\x1f<\\xa4\\xe2\\x0e=\\xa2\\xe5?<\\xfb\\x95\\x86\\xbc\\xb5y\\xaa;\\xfd?\\x92\\xbc\\xfb\\x8aU<\\x0f\\xcc\\xfc\\xbc\\xe9\\xd6\\xa1:\\x0b\\xbd\\xc6;\\'\\x07B<I\\xa5T\\xbc\\x88\\x98\\x13\\xbd7\\x81\\xc5\\xbcv\\x86\\xeb;\\x16eu\\xbb\\xdcN<<Dy\\x06\\xbc/X\\xa8\\xbb\\x1d\\xe1\\xd5<g|C<\\x00zB;a\\x00\\xe3:\\xd8\\x87\\x18\\xbc\\xc3\\xd6\\x95<\\xbdZ\\xb5\\xbal\\xb3B;Ygj<\\x95\\x15\\xc8<\\xa0\\x10:\\xbc\\xf4\\xd1\\x13\\xbcEnU;P\\xb1Y\\xbca\\xc3\\x81<FN\\x0c=\\x14\\xbbi\\xbcN/\\x17;\\x16\\x00\\xcb<2\\x92X\\xbco\\xa5\\xe0\\xbc\\x96z\\xf2;\\x92#*\\xbc$\\x15\\xa4\\xbcZ<p;\\x13\\x0e\\xad\\xbb\\xb34\\xc9\\xbc_6\\x0e\\xbd`\\x9b8=ZG!=%\\xc2\\xe0<\\x93\\x93\\x05\\xbd{\\x05\\xfd<\\xf73\\x8d\\xbc\\xc4\\x8e\\x83\\xbb\\xc4\\x8e\\x83\\xbcw>Y\\xbc\\xb6\\xde\\xd4<6d\\xad\\xbb\\xae\\xfd\\xc9:0\\x10\\x96\\xbb)L#<Z\\xff\\x8e\\xba\\x8e\\\\\\x06=\\x99$\\xfe:\\xe5\\xbc:;\\xd3\\x8dz<\\x1fnI\\xbcU\\xa0F\\xbc\\x9a\\xbc\\xa2\\xbc\\x962\\xe0\\xbb\\xa6\\xac\\xe3\\xbcq\\x97~=\\xbc\\xf5\\n<\\x87\\xe0\\xa5<I5\\xf9<\\x92k\\xbc\\xbb\\x90&\\xdb;(w\\x1d=\\xc9*\\xad\\xbc\\xe9\\x8e\\x0f<\\xfa\\xdd\\x98\\xbcm#\\x1e=D\\xb6\\xe7;UX\\xb4\\xbcj\\xc1\\xa4\\xbb\\xbd\\x12\\xa3<\\xf7{\\x9f\\xbcO\\xbc\\n\\xbc\\x04\\x89\\xf8\\xbcz\\xe8d\\xbbjy\\x12\\xbck\\x96\\xaa<5\\xff\\x02=dm\\r;\\n\\xa0\\xae\\xba4\\x8f\\xa7;i\\t7=\\x9f\\xe8p<\\xd3\\x08\\x07\\xbd\\xbc\\xf5\\x8a\\xbc\"\\x18\\xd5\\xbb?\\x1a\\xbe<r\\x07Z\\xbb\\x8c\\xcf\\x92<\\x95\\x15\\xc8\\xbcb\\x98\\x07\\xbc\\\\\\x8c\\x02\\xbd4\\x8f\\'<l\\xfbT<S\\xcb@<\\xa4*!<+!)\\xbc{\\x05\\xfd\\xbc1\\xda\\xea\\xb9\\xb3\\xec6\\xbc]9\\xbf\\xbb\\x9f\\xf3\\xa1\\xbc\\xdeK\\x0b\\xbcYgj\\xbc\\xe6,\\x16\\xbc:+Q\\xbd\\x98\\xca\\x84\\xbc\\xf7{\\x1f\\xbc\\x81dE\\xbc\\xcd\\xfc\\x01\\xbd\\x8fy\\x9e\\xbb\\xc5c\\t9e\\xd27<\\xc6\\x80\\xa1\\xbb\\xe3/G<O\\x04\\x9d;OL\\xaf<\\xac\\xc3\\x19\\xbd\\x1e\\x99\\xc3\\xbb\\xd3\\x98\\xab\\xbc\\x96\\xeaM:K\\x85\\x0b\\xb7|-F\\xbc\\x1a\\xd2\\x1f\\xbd\\xb3\\xa4$<_+]\\xbc\\xfa\\xdd\\x98;\\xd8?\\x06\\xbc,\\xf6\\xae\\xbc\\xff\\xcc\\x85\\xbc \\x8ba<\\xde\\x93\\x9d\\xbc\\xf3\\xf1\\\\\\xbc\\xba]\\xe6\\xbb4G\\x15=\\x88\\x98\\x13\\xbc`S\\xa6;6Y\\xfc\\xbc\\x9e\\x13\\xeb\\xbckN\\x18=Z\\x8f\\xb3\\xbc\\x15S\\x8e<\\x88\\x98\\x13<o\\xa5\\xe0\\xbb\\xc2\\xf6^\\xbd\\xb1\\xef\\xe7;^\\xc62\\xbe\\xac{\\x87<\\xf0\\xb7,=\\rr\\x03\\xbd\\x89\\xb5\\xab<\\x00zB\\xbc1\\x9d\\t=G\\xb36\\xbc\\x0fG\\x89\\xbc\\xf9\\xc0\\x80\\xbc\\x04L\\x17<S\\x13\\xd3;\\xcb\\xff\\xb2\\xbc\\r\\xba\\x15\\xbc9sc\\xba\\xde@\\xda<p\\x85\\x17\\xbc\\xef\\xe2&=5<\\xe4\\xbb\\x18\\xfd\\x19\\xba9\\x0e\\xb9<\\x94\\xa5\\xec\\xbc\\xe1\\x85;<Y*\\x89<\\xe1\\xeae\\xbc\\x1c\\x17\\x01;\\x8e\\\\\\x06\\xbd\\xea\\xf3\\xb9\\xbb\\xa8\\xf1D<\\xedU\\xb3\\xbc\\xe1\\xad\\x84\\xbb\\xed\\xe5\\xd7\\xb9c\\xfd1=\\xf1\\xac{:N\\xe7\\x04<($Z\\xbcW\\x9d\\x15\\xbb<\\x1d\\xef\\xbb\\x1c\\xc4\\xbd\\xbc\\x00\\xea\\x1d=F\\x8bm:\\xeb\\x1b\\x83<\\xf4\\x89\\x01\\xbc\\x19bD\\xbcq\\xeaA\\xbd\\xb7\\x06\\x9e<\\x7f\\x8f?:\\xd3\\x8d\\xfa\\xba}\\x02\\xcc\\xbb\\xd8?\\x06\\xb8|uX<2JF\\xbd\\xa4\\xe2\\x8e;\\x16e\\xf5\\xbaRf\\x96<\\xaa\\xe3\\xe2<N$\\xe6:\\xee\\xba]\\xbc\\xc7\\xe5\\xcb\\xbb\\xc2\\x01\\x10\\xbcF\\x8b\\xed\\xbc*\\xf9_\\xbc\\xe2\\x12/<\\x97O\\xf8\\xbc\\xd8\\x87\\x98\\xbb\\xddk\\xd4\\xbc\\x8bB\\x1f\\xba\\x9df\\xae;\\x829K\\xbb\\x1b\\xef\\xb7<E&C<\\x18\\xfd\\x19\\xbc\\xe1\\xad\\x04;|\\xe53\\xbb\\xaa+\\xf5;I\\xb0\\x85\\xbc\\x1b_\\x93\\xbb\\x8b\\xa7\\xc9<\\xf1\\x1c\\xd7<3\\xafp;<( \\xbc\\x8c\\x17%=\\x94\\xf8\\xaf\\xbc^\\x0e\\xc5:\\xeb\\x1b\\x83<\\x08\\x83\\x16\\xbc\\x17\\xd5P\\xbb\\x15\\x9b\\xa0<\\x84~\\xac\\xbc\\xe0\\xcdM:\\xf7pn<\\xbf\\x04\\xc1\\xbb\\xf7\\xc31\\xbb\\xcc\\x1cK\\xbcxf\\xa2<\\xf1o\\x1a<\\xf1o\\x9a;\\x901\\x8c<b\\xd5\\xe8\\xbb\\xab\\x9bP\\xbdw\\xae\\xb4<\\x8eQ\\xd5\\xbb\\xed\\x9d\\xc5\\xba\\xbah\\x17\\xbc\\x80\\xff\\x1a<\\xfd\\x17\\xc9:\\xf0\\x8fc\\xbcui\\xd3<U\\xc8\\x8f<\\xe1\\xad\\x84;/X\\xa8\\xbc`\\x0b\\x94\\xbc\\x0e\\xd7-<\\x0f\\xcc\\xfc;\\x9b\\xd9\\xba;\\x88\\x98\\x13<]\\xe6\\xfb\\xba\\x9e\\xd6\\t;:\\x9b\\xac<6Y|\\xbb\\x02\\xbf\\xa3<\\x93\\x88T\\xbb\\xba]\\xe6:\\xf0R\\x82\\xba\\xaf\\xdd\\x80\\xbc\\xdf\\xb0\\xb5\\xbc\\xd4\\xb5\\xc3\\xbdF\\x96\\x1e\\xbd*\\xf9_<9s\\xe3<4\\x84v<\\x19\\x1a\\xb2<\\x98wA;\\x0c\\xe5\\x8f<[d\\xb9\\xbc\\x81d\\xc5<\"\\x18\\xd5;\\xdfh\\xa3\\xbcYgj9\\xb8\\xdb\\xa3<\\xdcN<=\\xd0\\xa6\\x8d;\\x18\\xb5\\x07<\\xf3\\xfc\\x8d\\xbc\\x1f\\xc1\\x8c\\xbb_+\\xdd<\\x01\\x97Z\\xbb\\xde\\xd0\\xfe\\xbbh\\xa4\\x0c<\\xc5c\\x89\\xbc\\x1e\\xfe\\xed\\xbbG`\\xf3\\xbc\\xf9E\\xf4\\xbc\\x8d\\x87\\x80<\\x9e\\x83\\xc6\\xbb\\x99$~\\xb9tL\\xbb;O\\xf9\\xeb\\xbcw\\xae\\xb4<\\x88P\\x01\\xbdO\\xbc\\x8a\\xbc\\xc2\\xf6\\xde\\xbcI\\xa5T\\xbc\\x81dE;\\x83\\x9eu<?\\xd2+\\xbd\\x1d)h<&2<;\\x1a\\xd2\\x9f<\\xf2\\xd4D\\xbb<\\xe0\\x8d\\xbc\\xd84\\xd5\\xbb*i;:\\xe1\\x85\\xbb\\xba\\xeb\\x10R<Y\\x1f\\xd8\\xbc\\xd9\\x14\\x0c\\xbd\\xcaG\\xc5\\xbc\\xfb\\x95\\x86\\xbc\\x0fG\\x89\\xba\\xc3f:<\\xb7\\xbe\\x0b\\xbcM\\x07\\xce<\\x04L\\x17<(/\\x0b\\xbdzX\\xc0\\xba\\x7f\\x8f\\xbf\\xbc\\xe9\\x83\\xde<.\\xcb4\\xbc\\xa2U\\x1b\\xbc]\\xe6\\xfb<d\\xaan<\\x96\\x85\\xa3\\xbc2\\x02\\xb4\\xbc!C\\xcf<ui\\xd3\\xbbU\\x10\\xa2\\xbc?\\x8a\\x99<\\x1d\\xe1\\xd5\\xbc~*\\x95;\\x19b\\xc4\\xbc\\xf9\\x08\\x13\\xbc0\\xc8\\x03=\\xb7C\\x7f\\xb9i\\x99\\xdb<\\x129\\xa7\\xbcu\\xbc\\x96\\xbc\\xf9E\\xf4\\xbcT\\xe8\\xd8;\\xa89W;\\xd1SJ=\\xf0\\x8f\\xe3\\xbb\\x1e\\xfem\\xbc\\xee\\xc5\\x8e\\xbc\\x9aL\\xc7;\\r\\xf7\\xf6\\xbb\\xe6i\\xf7;~*\\x15=\\x96z\\xf2<\\xe6!\\xe5\\xbb-f\\n\\xbc\\\\\\x81\\xd1;`S&<P!\\xb5\\xbbc\\xfd1\\xbb\\xc78\\x0f=\"#\\x06\\xbd\\x0egR\\xbc\\xd6\\xb2\\x92\\xbd\\x10\\x1c\\x0f=1\\xda\\xea\\xbbE\\xde0:\\rr\\x03\\xbbR\\xa3w\\xbb\\x06>5<LZ\\x11\\xbc\\x02w\\x91<3\\xafp<\\xd5\\x8a\\xc97\\x15H];\\xc8\\x02d\\xbbv\\x86\\xeb<\\xf2D\\xa0\\xbc\\x08\\x83\\x16<\\xc8\\r\\x15=\\xdc\\x06\\xaa\\xbc\\xc4\\x8e\\x03<l\\xb3\\xc2\\xbc\\xd9\\xa40\\xbaq\\xeaA\\xbc\\xb5\\xe9\\x85<b(,\\xbal\\xb3\\xc2;e\\x8a\\xa5\\xbbQ\\x91\\x10;\\x19\\x1a\\xb2<\\xacpV\\xbcy\\x83:\\xbc\\xb7\\xbe\\x0b=\\xc9r\\xbf\\xbc\\xba]f<\\x8f\\xc1\\xb0<,\\xae\\x1c<l\\xfbT\\xbc\\xdf\\xb05\\xb9\\x98/\\xaf<_+\\xdd\\xbb\\xf2\\x8c\\xb2:\\xe7>};\\xb34I\\xbcVu\\xcc;\\xa3\\r\\x89<5\\xf4Q;\\x85\\x9bD;\\xeb\\x1b\\x03;v\\xd9\\xae<WU\\x83<\\xb4\\x14\\x80< \\xd3\\xf3:\\xaa+\\xf5<\\xed\\xe5\\xd7\\xbc(l\\xec\\xbb\\xf1\\xac\\xfb\\xbb\\xb1_C\\xbc\\x0c\\x92L<Z\\x8f\\xb3<eB\\x93;2\\x92X\\xbbr\\x12\\x0b=\\xde\\xdb/;\\xc5\\xab\\x9b<.;\\x10;\\x84\\xc6><\\xd4%\\x9f<WJR\\xbcX\\x02\\xc0<#\\xf8\\x8b<D\\xb6\\xe7\\xbb\\xdc\\xfb\\xf8\\xbc\\xe3\\xbfk<=E8<\\xd9\\\\\\x9e<2\\x92\\xd8\\xbb\\xff\\\\*\\xbc\\xc3\\x1e\\xa8<\\xb51\\x18\\xbc\\x19\\x1a\\xb2\\xbc\\xfb\\xfa\\xb0;\\x08\\x83\\x16=\\n\\x10\\x8a\\xbc\\xd6\\xa7\\xe1\\xbc\\x8f\\xb6\\xff:Z\\xff\\x0e=\\xf9\\xfda\\xbc\\xbd\\x12#\\xbc\\xd1\\xb8t:\\xb7\\xb3\\xda\\xbb`\\x9b8<\\xf1\\'\\x88\\xbcf\\xefO\\xbb\\xfd\\xcf\\xb6<ut\\x04;\\x80\\xb7\\x88;C\\xa4\\x00:\\xba]f\\xba_~ ;\\r\\xafd;\\xfa\\xdd\\x98<\\xb5\\xc1<<3\\x1f\\xcc\\xbb.\\x83\\xa2\\xbc;\\xb8D\\xbcy\\x83:\\xbc1\\x9d\\t<A\\x17\\x8d\\xbc\\xaa+\\xf5\\xbc\\x11\\x81\\xb9;\\x85\\xee\\x87\\xbc\\x15\\x9b <\\xf0R\\x02=\\xa89W\\xbcU\\xc8\\x8f<\\x91\\x06\\x92:\\xa0\\xa0^<<p\\xb2\\xbce\\x8a\\xa5\\xbc\\x80\\xf4\\xe9\\xbbo\\xb0\\x11=\\x7fG-\\xbbN\\xdc\\xd3;H\\x88<\\xbb\\xc3\\x1e\\xa8\\xbb\\x0c\\xda^\\xba_6\\x8e\\xbc\\xd3\\x08\\x87<j1\\x00\\xbd\\xbd\\xca\\x90;\\x17(\\x94;\\xaa6\\xa6\\xbb1\\x9d\\x89\\xbc\\xe4\\x94\\xf1\\xbb\\x0f<\\xd8\\xbc(w\\x9d\\xbbuiS<\\x90&\\xdb\\xbcP!\\xb5<<p2\\xbb\\xd3P\\x99=\\xdb\\x96\\xce<\\xb3\\xec6\\xbc\\xd4\\xb5C<\\xf6\\x9bh\\xbc,\\xf6\\xae;\\xa3\\xba\\xc5;{\\x10.;,\\xeb\\xfd\\xbc\\xb2\\xc4\\xed\\xbcB\\xc4I<\\x0f\\xcc|\\xbc\\x98\\xca\\x84;\\xc7\\xe5K\\xbd\\xcdD\\x94\\xbc\\x129\\'\\xbc\\xaf\\xd2\\xcf\\xbb\\x8b\\xef\\xdb<\\xbf\\x9f\\x96\\xbc\\x81\\xc9o\\xbc\\xf8P\\xa5<\\x08\\x13\\xbb\\xbb$]6<+\\x16\\xf8<db\\xdc\\xbc\\x83\\x19\\x02;\\xb4\\x99s\\xba\\xe1\\xad\\x84\\xbb\\x97\\xa2\\xbb\\xbb\\xa3\\x02X\\xbd\\x15\\x90\\xef\\xbb\\xd9Qm:.\\xcb\\xb4\\xbcYgj\\xbc\\xf9\\xc0\\x80\\xbc1\\x9d\\t;\\x99\\x94Y<w\\xf6\\xc6\\xbb}U\\x0f=\\x11\\x81\\xb9\\xbc\\x86\\x0b\\xa0\\xbc\\xd9\\\\\\x9e<V-:\\xbc\\x80\\xacW\\xbc\\xb2\\x171<\\xaa\\xee\\x93\\xbc\\x9c\\x01\\x84\\xbbK\\xea5\\xbc\\xe8f\\xc6\\xbc'\n",
      "Results: Result{2 total, docs: [Document {'id': 'focusedlabsdoc:12b850c6-7990-4ba0-add3-21bcb1ec2c03_Chicago_IRL_Agenda_2023_.pdf-!0', 'payload': None, 'vector_score': '0.123921394348', 'filename': '12b850c6-7990-4ba0-add3-21bcb1ec2c03_Chicago_IRL_Agenda_2023_.pdf', 'text_chunk': 'Filename is: 12b850c6-7990-4ba0-add3-21bcb1ec2c03_Chicago_IRL_Agenda_2023_.pdf; Chicago IRL Agenda 2023     Wednesday, August 9, 2023  Arrive to Chicago mid/late afternoon. TBD on agenda for the evening..     Thursday, August 10, 2023    Time    Activity    8:00 - 8:45am    Breakfast    Details    12:00 -    Lunch    Friday, August 11, 2023    Time    8:00    Activity    Breakfast    Details    Chicago IRL Agenda 20231🗓  \\x0cTime    Activity    Details    10:30 - 11am    Closing Ceremony    11:00 - 12:00pm    12:00pm    Lunch    Finish!    Chicago IRL Agenda 20232\\x0c'}, Document {'id': 'focusedlabsdoc:bec4fe49-b23a-4eec-b46d-88cb4e1d60e0_2023_Chicago_IRL_.pdf-!1', 'payload': None, 'vector_score': '0.126851916313', 'filename': 'bec4fe49-b23a-4eec-b46d-88cb4e1d60e0_2023_Chicago_IRL_.pdf', 'text_chunk': '    ✈ Travel & Logistics    🗓 Chicago IRL Agenda 2023     2023 Chicago IRL2⚠  \\x0c'}]}\n",
      "**************************\n",
      "result_df:    id  \\\n",
      "0  0    \n",
      "1  1    \n",
      "\n",
      "                                                                                                                                                                                                                                                                                                                                                                                                                                                                                                                                                                                     result  \\\n",
      "0  Filename is: 12b850c6-7990-4ba0-add3-21bcb1ec2c03_Chicago_IRL_Agenda_2023_.pdf; Chicago IRL Agenda 2023     Wednesday, August 9, 2023  Arrive to Chicago mid/late afternoon. TBD on agenda for the evening..     Thursday, August 10, 2023    Time    Activity    8:00 - 8:45am    Breakfast    Details    12:00 -    Lunch    Friday, August 11, 2023    Time    8:00    Activity    Breakfast    Details    Chicago IRL Agenda 20231🗓  \f",
      "Time    Activity    Details    10:30 - 11am    Closing Ceremony    11:00 - 12:00pm    12:00pm    Lunch    Finish!    Chicago IRL Agenda 20232\f",
      "   \n",
      "1      ✈ Travel & Logistics    🗓 Chicago IRL Agenda 2023     2023 Chicago IRL2⚠  \f",
      "                                                                                                                                                                                                                                                                                                                                                                                                                                                                                                            \n",
      "\n",
      "        certainty  \n",
      "0  0.123921394348  \n",
      "1  0.126851916313  \n",
      "- 2023 Chicago IRL is scheduled for August 9-11, 2023\n",
      "- Wednesday August 9: Arrive in Chicago in the afternoon, TBD on evening agenda\n",
      "- Thursday August 10: 8:00am-8:45am breakfast, 12:00pm- lunch\n",
      "- Friday August 11: 8:00am breakfast, 10:30am-11am closing ceremony, 12:00pm lunch\n",
      "CPU times: user 17.1 ms, sys: 9.71 ms, total: 26.8 ms\n",
      "Wall time: 2.57 s\n"
     ]
    }
   ],
   "source": [
    "%%time\n",
    "\n",
    "fl_query= 'when is the 2023 Chicago IRL scheduled for?'\n",
    "\n",
    "result_df = get_redis_results(redis_client, fl_query, index_name=INDEX_NAME)\n",
    "print(f\"result_df: {result_df}\")\n",
    "result_df.head(2)\n",
    "\n",
    "# Build a prompt to provide the original query, the result and ask to summarise for the user\n",
    "summary_prompt = '''Summarise this result in a bulleted list to answer the search query a customer has sent.\n",
    "Search query: SEARCH_QUERY_HERE\n",
    "Search result: SEARCH_RESULT_HERE\n",
    "Summary:\n",
    "'''\n",
    "summary_prepped = summary_prompt.replace('SEARCH_QUERY_HERE', fl_query).replace('SEARCH_RESULT_HERE', result_df['result'][0])\n",
    "summary = openai.Completion.create(engine=COMPLETIONS_MODEL,prompt=summary_prepped,max_tokens=500)\n",
    "# Response provided by GPT-3\n",
    "print(summary['choices'][0]['text'])"
   ]
  },
  {
   "cell_type": "markdown",
   "id": "d008ff23",
   "metadata": {},
   "source": [
    "### Search\n",
    "\n",
    "Now that we've got our knowledge embedded and stored in Redis, we can now create an internal search application. Its not sophisticated but it'll get the job done for us.\n",
    "\n",
    "In the directory containing this app, execute ```streamlit run search.py```. This will open up a Streamlit app in your browser where you can ask questions of your embedded data.\n",
    "\n",
    "__Example Questions__:\n",
    "- what is the cost cap for a power unit in 2023\n",
    "- what should competitors include on their application form"
   ]
  },
  {
   "cell_type": "markdown",
   "id": "dd12b31e",
   "metadata": {},
   "source": [
    "## Build your moat\n",
    "\n",
    "The Q&A was useful, but fairly limited in the complexity of interaction we can have - if the user asks a sub-optimal question, there is no assistance from the system to prompt them for more info or conversation to lead them down the right path.\n",
    "\n",
    "For the next step we'll make a Chatbot using the Chat Completions endpoint, which will:\n",
    "- Be given instructions on how it should act and what the goals of its users are\n",
    "- Be supplied some required information that it needs to collect\n",
    "- Go back and forth with the customer until it has populated that information\n",
    "- Say a trigger word that will kick off semantic search and summarisation of the response\n",
    "\n",
    "For more details on our Chat Completions endpoint and how to interact with it, please check out the docs [here](https://platform.openai.com/docs/guides/chat)."
   ]
  },
  {
   "cell_type": "markdown",
   "id": "34135886",
   "metadata": {},
   "source": [
    "### Framework\n",
    "\n",
    "This section outlines a basic framework for working with the API and storing context of previous conversation \"turns\". Once this is established, we'll extend it to use our retrieval endpoint."
   ]
  },
  {
   "cell_type": "code",
   "execution_count": 68,
   "id": "45c0acc8",
   "metadata": {
    "ExecuteTime": {
     "end_time": "2023-05-31T23:35:40.704718Z",
     "start_time": "2023-05-31T23:35:38.999244Z"
    }
   },
   "outputs": [
    {
     "name": "stdout",
     "output_type": "stream",
     "text": [
      "assistant: As an AI language model, I am programmed to assist you with any queries or tasks you may have. Please let me know what you need help with, and I will do my best to assist you in any way possible.\n"
     ]
    }
   ],
   "source": [
    "# A basic example of how to interact with our ChatCompletion endpoint\n",
    "# It requires a list of \"messages\", consisting of a \"role\" (one of system, user or assistant) and \"content\"\n",
    "question = 'How can you help me'\n",
    "\n",
    "\n",
    "completion = openai.ChatCompletion.create(\n",
    "  model=\"gpt-3.5-turbo\",\n",
    "  messages=[\n",
    "    {\"role\": \"user\", \"content\": question}\n",
    "  ]\n",
    ")\n",
    "print(f\"{completion['choices'][0]['message']['role']}: {completion['choices'][0]['message']['content']}\")"
   ]
  },
  {
   "cell_type": "code",
   "execution_count": 69,
   "id": "23e4fc55",
   "metadata": {
    "ExecuteTime": {
     "end_time": "2023-05-31T23:35:40.752921Z",
     "start_time": "2023-05-31T23:35:40.703304Z"
    }
   },
   "outputs": [],
   "source": [
    "from termcolor import colored\n",
    "\n",
    "# A basic class to create a message as a dict for chat\n",
    "class Message:\n",
    "    \n",
    "    \n",
    "    def __init__(self,role,content):\n",
    "        \n",
    "        self.role = role\n",
    "        self.content = content\n",
    "        \n",
    "    def message(self):\n",
    "        \n",
    "        return {\"role\": self.role,\"content\": self.content}\n",
    "        \n",
    "# Our assistant class we'll use to converse with the bot\n",
    "class Assistant:\n",
    "    \n",
    "    def __init__(self):\n",
    "        self.conversation_history = []\n",
    "\n",
    "    def _get_assistant_response(self, prompt):\n",
    "        \n",
    "        try:\n",
    "            completion = openai.ChatCompletion.create(\n",
    "              model=\"gpt-3.5-turbo\",\n",
    "              messages=prompt\n",
    "            )\n",
    "            \n",
    "            response_message = Message(completion['choices'][0]['message']['role'],completion['choices'][0]['message']['content'])\n",
    "            return response_message.message()\n",
    "            \n",
    "        except Exception as e:\n",
    "            \n",
    "            return f'Request failed with exception {e}'\n",
    "\n",
    "    def ask_assistant(self, next_user_prompt, colorize_assistant_replies=True):\n",
    "        [self.conversation_history.append(x) for x in next_user_prompt]\n",
    "        assistant_response = self._get_assistant_response(self.conversation_history)\n",
    "        self.conversation_history.append(assistant_response)\n",
    "        return assistant_response\n",
    "            \n",
    "        \n",
    "    def pretty_print_conversation_history(self, colorize_assistant_replies=True):\n",
    "        for entry in self.conversation_history:\n",
    "            if entry['role'] == 'system':\n",
    "                pass\n",
    "            else:\n",
    "                prefix = entry['role']\n",
    "                content = entry['content']\n",
    "                output = colored(prefix +':\\n' + content, 'green') if colorize_assistant_replies and entry['role'] == 'assistant' else prefix +':\\n' + content\n",
    "                print(output)"
   ]
  },
  {
   "cell_type": "code",
   "execution_count": 70,
   "id": "e18c88b4",
   "metadata": {
    "ExecuteTime": {
     "end_time": "2023-05-31T23:35:40.761020Z",
     "start_time": "2023-05-31T23:35:40.730497Z"
    }
   },
   "outputs": [
    {
     "data": {
      "text/plain": [
       "[{'role': 'system',\n",
       "  'content': 'You are a helpful business assistant who has innovative ideas'},\n",
       " {'role': 'user', 'content': 'What can you do to help me'}]"
      ]
     },
     "execution_count": 70,
     "metadata": {},
     "output_type": "execute_result"
    }
   ],
   "source": [
    "# Initiate our Assistant class\n",
    "conversation = Assistant()\n",
    "\n",
    "# Create a list to hold our messages and insert both a system message to guide behaviour and our first user question\n",
    "messages = []\n",
    "system_message = Message('system','You are a helpful business assistant who has innovative ideas')\n",
    "user_message = Message('user','What can you do to help me')\n",
    "messages.append(system_message.message())\n",
    "messages.append(user_message.message())\n",
    "messages"
   ]
  },
  {
   "cell_type": "code",
   "execution_count": 71,
   "id": "377243c9",
   "metadata": {
    "ExecuteTime": {
     "end_time": "2023-05-31T23:35:42.293225Z",
     "start_time": "2023-05-31T23:35:40.753084Z"
    }
   },
   "outputs": [
    {
     "ename": "KeyboardInterrupt",
     "evalue": "",
     "output_type": "error",
     "traceback": [
      "\u001B[0;31m---------------------------------------------------------------------------\u001B[0m",
      "\u001B[0;31mKeyboardInterrupt\u001B[0m                         Traceback (most recent call last)",
      "Cell \u001B[0;32mIn[71], line 2\u001B[0m\n\u001B[1;32m      1\u001B[0m \u001B[38;5;66;03m# Get back a response from the Chatbot to our question\u001B[39;00m\n\u001B[0;32m----> 2\u001B[0m response_message \u001B[38;5;241m=\u001B[39m \u001B[43mconversation\u001B[49m\u001B[38;5;241;43m.\u001B[39;49m\u001B[43mask_assistant\u001B[49m\u001B[43m(\u001B[49m\u001B[43mmessages\u001B[49m\u001B[43m)\u001B[49m\n\u001B[1;32m      3\u001B[0m \u001B[38;5;28mprint\u001B[39m(response_message[\u001B[38;5;124m'\u001B[39m\u001B[38;5;124mcontent\u001B[39m\u001B[38;5;124m'\u001B[39m])\n",
      "Cell \u001B[0;32mIn[69], line 39\u001B[0m, in \u001B[0;36mAssistant.ask_assistant\u001B[0;34m(self, next_user_prompt, colorize_assistant_replies)\u001B[0m\n\u001B[1;32m     37\u001B[0m \u001B[38;5;28;01mdef\u001B[39;00m \u001B[38;5;21mask_assistant\u001B[39m(\u001B[38;5;28mself\u001B[39m, next_user_prompt, colorize_assistant_replies\u001B[38;5;241m=\u001B[39m\u001B[38;5;28;01mTrue\u001B[39;00m):\n\u001B[1;32m     38\u001B[0m     [\u001B[38;5;28mself\u001B[39m\u001B[38;5;241m.\u001B[39mconversation_history\u001B[38;5;241m.\u001B[39mappend(x) \u001B[38;5;28;01mfor\u001B[39;00m x \u001B[38;5;129;01min\u001B[39;00m next_user_prompt]\n\u001B[0;32m---> 39\u001B[0m     assistant_response \u001B[38;5;241m=\u001B[39m \u001B[38;5;28;43mself\u001B[39;49m\u001B[38;5;241;43m.\u001B[39;49m\u001B[43m_get_assistant_response\u001B[49m\u001B[43m(\u001B[49m\u001B[38;5;28;43mself\u001B[39;49m\u001B[38;5;241;43m.\u001B[39;49m\u001B[43mconversation_history\u001B[49m\u001B[43m)\u001B[49m\n\u001B[1;32m     40\u001B[0m     \u001B[38;5;28mself\u001B[39m\u001B[38;5;241m.\u001B[39mconversation_history\u001B[38;5;241m.\u001B[39mappend(assistant_response)\n\u001B[1;32m     41\u001B[0m     \u001B[38;5;28;01mreturn\u001B[39;00m assistant_response\n",
      "Cell \u001B[0;32mIn[69], line 25\u001B[0m, in \u001B[0;36mAssistant._get_assistant_response\u001B[0;34m(self, prompt)\u001B[0m\n\u001B[1;32m     22\u001B[0m \u001B[38;5;28;01mdef\u001B[39;00m \u001B[38;5;21m_get_assistant_response\u001B[39m(\u001B[38;5;28mself\u001B[39m, prompt):\n\u001B[1;32m     24\u001B[0m     \u001B[38;5;28;01mtry\u001B[39;00m:\n\u001B[0;32m---> 25\u001B[0m         completion \u001B[38;5;241m=\u001B[39m \u001B[43mopenai\u001B[49m\u001B[38;5;241;43m.\u001B[39;49m\u001B[43mChatCompletion\u001B[49m\u001B[38;5;241;43m.\u001B[39;49m\u001B[43mcreate\u001B[49m\u001B[43m(\u001B[49m\n\u001B[1;32m     26\u001B[0m \u001B[43m          \u001B[49m\u001B[43mmodel\u001B[49m\u001B[38;5;241;43m=\u001B[39;49m\u001B[38;5;124;43m\"\u001B[39;49m\u001B[38;5;124;43mgpt-3.5-turbo\u001B[39;49m\u001B[38;5;124;43m\"\u001B[39;49m\u001B[43m,\u001B[49m\n\u001B[1;32m     27\u001B[0m \u001B[43m          \u001B[49m\u001B[43mmessages\u001B[49m\u001B[38;5;241;43m=\u001B[39;49m\u001B[43mprompt\u001B[49m\n\u001B[1;32m     28\u001B[0m \u001B[43m        \u001B[49m\u001B[43m)\u001B[49m\n\u001B[1;32m     30\u001B[0m         response_message \u001B[38;5;241m=\u001B[39m Message(completion[\u001B[38;5;124m'\u001B[39m\u001B[38;5;124mchoices\u001B[39m\u001B[38;5;124m'\u001B[39m][\u001B[38;5;241m0\u001B[39m][\u001B[38;5;124m'\u001B[39m\u001B[38;5;124mmessage\u001B[39m\u001B[38;5;124m'\u001B[39m][\u001B[38;5;124m'\u001B[39m\u001B[38;5;124mrole\u001B[39m\u001B[38;5;124m'\u001B[39m],completion[\u001B[38;5;124m'\u001B[39m\u001B[38;5;124mchoices\u001B[39m\u001B[38;5;124m'\u001B[39m][\u001B[38;5;241m0\u001B[39m][\u001B[38;5;124m'\u001B[39m\u001B[38;5;124mmessage\u001B[39m\u001B[38;5;124m'\u001B[39m][\u001B[38;5;124m'\u001B[39m\u001B[38;5;124mcontent\u001B[39m\u001B[38;5;124m'\u001B[39m])\n\u001B[1;32m     31\u001B[0m         \u001B[38;5;28;01mreturn\u001B[39;00m response_message\u001B[38;5;241m.\u001B[39mmessage()\n",
      "File \u001B[0;32m~/.pyenv/versions/3.10.7/envs/openai/lib/python3.10/site-packages/openai/api_resources/chat_completion.py:25\u001B[0m, in \u001B[0;36mChatCompletion.create\u001B[0;34m(cls, *args, **kwargs)\u001B[0m\n\u001B[1;32m     23\u001B[0m \u001B[38;5;28;01mwhile\u001B[39;00m \u001B[38;5;28;01mTrue\u001B[39;00m:\n\u001B[1;32m     24\u001B[0m     \u001B[38;5;28;01mtry\u001B[39;00m:\n\u001B[0;32m---> 25\u001B[0m         \u001B[38;5;28;01mreturn\u001B[39;00m \u001B[38;5;28;43msuper\u001B[39;49m\u001B[43m(\u001B[49m\u001B[43m)\u001B[49m\u001B[38;5;241;43m.\u001B[39;49m\u001B[43mcreate\u001B[49m\u001B[43m(\u001B[49m\u001B[38;5;241;43m*\u001B[39;49m\u001B[43margs\u001B[49m\u001B[43m,\u001B[49m\u001B[43m \u001B[49m\u001B[38;5;241;43m*\u001B[39;49m\u001B[38;5;241;43m*\u001B[39;49m\u001B[43mkwargs\u001B[49m\u001B[43m)\u001B[49m\n\u001B[1;32m     26\u001B[0m     \u001B[38;5;28;01mexcept\u001B[39;00m TryAgain \u001B[38;5;28;01mas\u001B[39;00m e:\n\u001B[1;32m     27\u001B[0m         \u001B[38;5;28;01mif\u001B[39;00m timeout \u001B[38;5;129;01mis\u001B[39;00m \u001B[38;5;129;01mnot\u001B[39;00m \u001B[38;5;28;01mNone\u001B[39;00m \u001B[38;5;129;01mand\u001B[39;00m time\u001B[38;5;241m.\u001B[39mtime() \u001B[38;5;241m>\u001B[39m start \u001B[38;5;241m+\u001B[39m timeout:\n",
      "File \u001B[0;32m~/.pyenv/versions/3.10.7/envs/openai/lib/python3.10/site-packages/openai/api_resources/abstract/engine_api_resource.py:153\u001B[0m, in \u001B[0;36mEngineAPIResource.create\u001B[0;34m(cls, api_key, api_base, api_type, request_id, api_version, organization, **params)\u001B[0m\n\u001B[1;32m    127\u001B[0m \u001B[38;5;129m@classmethod\u001B[39m\n\u001B[1;32m    128\u001B[0m \u001B[38;5;28;01mdef\u001B[39;00m \u001B[38;5;21mcreate\u001B[39m(\n\u001B[1;32m    129\u001B[0m     \u001B[38;5;28mcls\u001B[39m,\n\u001B[0;32m   (...)\u001B[0m\n\u001B[1;32m    136\u001B[0m     \u001B[38;5;241m*\u001B[39m\u001B[38;5;241m*\u001B[39mparams,\n\u001B[1;32m    137\u001B[0m ):\n\u001B[1;32m    138\u001B[0m     (\n\u001B[1;32m    139\u001B[0m         deployment_id,\n\u001B[1;32m    140\u001B[0m         engine,\n\u001B[0;32m   (...)\u001B[0m\n\u001B[1;32m    150\u001B[0m         api_key, api_base, api_type, api_version, organization, \u001B[38;5;241m*\u001B[39m\u001B[38;5;241m*\u001B[39mparams\n\u001B[1;32m    151\u001B[0m     )\n\u001B[0;32m--> 153\u001B[0m     response, _, api_key \u001B[38;5;241m=\u001B[39m \u001B[43mrequestor\u001B[49m\u001B[38;5;241;43m.\u001B[39;49m\u001B[43mrequest\u001B[49m\u001B[43m(\u001B[49m\n\u001B[1;32m    154\u001B[0m \u001B[43m        \u001B[49m\u001B[38;5;124;43m\"\u001B[39;49m\u001B[38;5;124;43mpost\u001B[39;49m\u001B[38;5;124;43m\"\u001B[39;49m\u001B[43m,\u001B[49m\n\u001B[1;32m    155\u001B[0m \u001B[43m        \u001B[49m\u001B[43murl\u001B[49m\u001B[43m,\u001B[49m\n\u001B[1;32m    156\u001B[0m \u001B[43m        \u001B[49m\u001B[43mparams\u001B[49m\u001B[38;5;241;43m=\u001B[39;49m\u001B[43mparams\u001B[49m\u001B[43m,\u001B[49m\n\u001B[1;32m    157\u001B[0m \u001B[43m        \u001B[49m\u001B[43mheaders\u001B[49m\u001B[38;5;241;43m=\u001B[39;49m\u001B[43mheaders\u001B[49m\u001B[43m,\u001B[49m\n\u001B[1;32m    158\u001B[0m \u001B[43m        \u001B[49m\u001B[43mstream\u001B[49m\u001B[38;5;241;43m=\u001B[39;49m\u001B[43mstream\u001B[49m\u001B[43m,\u001B[49m\n\u001B[1;32m    159\u001B[0m \u001B[43m        \u001B[49m\u001B[43mrequest_id\u001B[49m\u001B[38;5;241;43m=\u001B[39;49m\u001B[43mrequest_id\u001B[49m\u001B[43m,\u001B[49m\n\u001B[1;32m    160\u001B[0m \u001B[43m        \u001B[49m\u001B[43mrequest_timeout\u001B[49m\u001B[38;5;241;43m=\u001B[39;49m\u001B[43mrequest_timeout\u001B[49m\u001B[43m,\u001B[49m\n\u001B[1;32m    161\u001B[0m \u001B[43m    \u001B[49m\u001B[43m)\u001B[49m\n\u001B[1;32m    163\u001B[0m     \u001B[38;5;28;01mif\u001B[39;00m stream:\n\u001B[1;32m    164\u001B[0m         \u001B[38;5;66;03m# must be an iterator\u001B[39;00m\n\u001B[1;32m    165\u001B[0m         \u001B[38;5;28;01massert\u001B[39;00m \u001B[38;5;129;01mnot\u001B[39;00m \u001B[38;5;28misinstance\u001B[39m(response, OpenAIResponse)\n",
      "File \u001B[0;32m~/.pyenv/versions/3.10.7/envs/openai/lib/python3.10/site-packages/openai/api_requestor.py:216\u001B[0m, in \u001B[0;36mAPIRequestor.request\u001B[0;34m(self, method, url, params, headers, files, stream, request_id, request_timeout)\u001B[0m\n\u001B[1;32m    205\u001B[0m \u001B[38;5;28;01mdef\u001B[39;00m \u001B[38;5;21mrequest\u001B[39m(\n\u001B[1;32m    206\u001B[0m     \u001B[38;5;28mself\u001B[39m,\n\u001B[1;32m    207\u001B[0m     method,\n\u001B[0;32m   (...)\u001B[0m\n\u001B[1;32m    214\u001B[0m     request_timeout: Optional[Union[\u001B[38;5;28mfloat\u001B[39m, Tuple[\u001B[38;5;28mfloat\u001B[39m, \u001B[38;5;28mfloat\u001B[39m]]] \u001B[38;5;241m=\u001B[39m \u001B[38;5;28;01mNone\u001B[39;00m,\n\u001B[1;32m    215\u001B[0m ) \u001B[38;5;241m-\u001B[39m\u001B[38;5;241m>\u001B[39m Tuple[Union[OpenAIResponse, Iterator[OpenAIResponse]], \u001B[38;5;28mbool\u001B[39m, \u001B[38;5;28mstr\u001B[39m]:\n\u001B[0;32m--> 216\u001B[0m     result \u001B[38;5;241m=\u001B[39m \u001B[38;5;28;43mself\u001B[39;49m\u001B[38;5;241;43m.\u001B[39;49m\u001B[43mrequest_raw\u001B[49m\u001B[43m(\u001B[49m\n\u001B[1;32m    217\u001B[0m \u001B[43m        \u001B[49m\u001B[43mmethod\u001B[49m\u001B[38;5;241;43m.\u001B[39;49m\u001B[43mlower\u001B[49m\u001B[43m(\u001B[49m\u001B[43m)\u001B[49m\u001B[43m,\u001B[49m\n\u001B[1;32m    218\u001B[0m \u001B[43m        \u001B[49m\u001B[43murl\u001B[49m\u001B[43m,\u001B[49m\n\u001B[1;32m    219\u001B[0m \u001B[43m        \u001B[49m\u001B[43mparams\u001B[49m\u001B[38;5;241;43m=\u001B[39;49m\u001B[43mparams\u001B[49m\u001B[43m,\u001B[49m\n\u001B[1;32m    220\u001B[0m \u001B[43m        \u001B[49m\u001B[43msupplied_headers\u001B[49m\u001B[38;5;241;43m=\u001B[39;49m\u001B[43mheaders\u001B[49m\u001B[43m,\u001B[49m\n\u001B[1;32m    221\u001B[0m \u001B[43m        \u001B[49m\u001B[43mfiles\u001B[49m\u001B[38;5;241;43m=\u001B[39;49m\u001B[43mfiles\u001B[49m\u001B[43m,\u001B[49m\n\u001B[1;32m    222\u001B[0m \u001B[43m        \u001B[49m\u001B[43mstream\u001B[49m\u001B[38;5;241;43m=\u001B[39;49m\u001B[43mstream\u001B[49m\u001B[43m,\u001B[49m\n\u001B[1;32m    223\u001B[0m \u001B[43m        \u001B[49m\u001B[43mrequest_id\u001B[49m\u001B[38;5;241;43m=\u001B[39;49m\u001B[43mrequest_id\u001B[49m\u001B[43m,\u001B[49m\n\u001B[1;32m    224\u001B[0m \u001B[43m        \u001B[49m\u001B[43mrequest_timeout\u001B[49m\u001B[38;5;241;43m=\u001B[39;49m\u001B[43mrequest_timeout\u001B[49m\u001B[43m,\u001B[49m\n\u001B[1;32m    225\u001B[0m \u001B[43m    \u001B[49m\u001B[43m)\u001B[49m\n\u001B[1;32m    226\u001B[0m     resp, got_stream \u001B[38;5;241m=\u001B[39m \u001B[38;5;28mself\u001B[39m\u001B[38;5;241m.\u001B[39m_interpret_response(result, stream)\n\u001B[1;32m    227\u001B[0m     \u001B[38;5;28;01mreturn\u001B[39;00m resp, got_stream, \u001B[38;5;28mself\u001B[39m\u001B[38;5;241m.\u001B[39mapi_key\n",
      "File \u001B[0;32m~/.pyenv/versions/3.10.7/envs/openai/lib/python3.10/site-packages/openai/api_requestor.py:516\u001B[0m, in \u001B[0;36mAPIRequestor.request_raw\u001B[0;34m(self, method, url, params, supplied_headers, files, stream, request_id, request_timeout)\u001B[0m\n\u001B[1;32m    514\u001B[0m     _thread_context\u001B[38;5;241m.\u001B[39msession \u001B[38;5;241m=\u001B[39m _make_session()\n\u001B[1;32m    515\u001B[0m \u001B[38;5;28;01mtry\u001B[39;00m:\n\u001B[0;32m--> 516\u001B[0m     result \u001B[38;5;241m=\u001B[39m \u001B[43m_thread_context\u001B[49m\u001B[38;5;241;43m.\u001B[39;49m\u001B[43msession\u001B[49m\u001B[38;5;241;43m.\u001B[39;49m\u001B[43mrequest\u001B[49m\u001B[43m(\u001B[49m\n\u001B[1;32m    517\u001B[0m \u001B[43m        \u001B[49m\u001B[43mmethod\u001B[49m\u001B[43m,\u001B[49m\n\u001B[1;32m    518\u001B[0m \u001B[43m        \u001B[49m\u001B[43mabs_url\u001B[49m\u001B[43m,\u001B[49m\n\u001B[1;32m    519\u001B[0m \u001B[43m        \u001B[49m\u001B[43mheaders\u001B[49m\u001B[38;5;241;43m=\u001B[39;49m\u001B[43mheaders\u001B[49m\u001B[43m,\u001B[49m\n\u001B[1;32m    520\u001B[0m \u001B[43m        \u001B[49m\u001B[43mdata\u001B[49m\u001B[38;5;241;43m=\u001B[39;49m\u001B[43mdata\u001B[49m\u001B[43m,\u001B[49m\n\u001B[1;32m    521\u001B[0m \u001B[43m        \u001B[49m\u001B[43mfiles\u001B[49m\u001B[38;5;241;43m=\u001B[39;49m\u001B[43mfiles\u001B[49m\u001B[43m,\u001B[49m\n\u001B[1;32m    522\u001B[0m \u001B[43m        \u001B[49m\u001B[43mstream\u001B[49m\u001B[38;5;241;43m=\u001B[39;49m\u001B[43mstream\u001B[49m\u001B[43m,\u001B[49m\n\u001B[1;32m    523\u001B[0m \u001B[43m        \u001B[49m\u001B[43mtimeout\u001B[49m\u001B[38;5;241;43m=\u001B[39;49m\u001B[43mrequest_timeout\u001B[49m\u001B[43m \u001B[49m\u001B[38;5;28;43;01mif\u001B[39;49;00m\u001B[43m \u001B[49m\u001B[43mrequest_timeout\u001B[49m\u001B[43m \u001B[49m\u001B[38;5;28;43;01melse\u001B[39;49;00m\u001B[43m \u001B[49m\u001B[43mTIMEOUT_SECS\u001B[49m\u001B[43m,\u001B[49m\n\u001B[1;32m    524\u001B[0m \u001B[43m    \u001B[49m\u001B[43m)\u001B[49m\n\u001B[1;32m    525\u001B[0m \u001B[38;5;28;01mexcept\u001B[39;00m requests\u001B[38;5;241m.\u001B[39mexceptions\u001B[38;5;241m.\u001B[39mTimeout \u001B[38;5;28;01mas\u001B[39;00m e:\n\u001B[1;32m    526\u001B[0m     \u001B[38;5;28;01mraise\u001B[39;00m error\u001B[38;5;241m.\u001B[39mTimeout(\u001B[38;5;124m\"\u001B[39m\u001B[38;5;124mRequest timed out: \u001B[39m\u001B[38;5;132;01m{}\u001B[39;00m\u001B[38;5;124m\"\u001B[39m\u001B[38;5;241m.\u001B[39mformat(e)) \u001B[38;5;28;01mfrom\u001B[39;00m \u001B[38;5;21;01me\u001B[39;00m\n",
      "File \u001B[0;32m~/.pyenv/versions/3.10.7/envs/openai/lib/python3.10/site-packages/requests/sessions.py:587\u001B[0m, in \u001B[0;36mSession.request\u001B[0;34m(self, method, url, params, data, headers, cookies, files, auth, timeout, allow_redirects, proxies, hooks, stream, verify, cert, json)\u001B[0m\n\u001B[1;32m    582\u001B[0m send_kwargs \u001B[38;5;241m=\u001B[39m {\n\u001B[1;32m    583\u001B[0m     \u001B[38;5;124m\"\u001B[39m\u001B[38;5;124mtimeout\u001B[39m\u001B[38;5;124m\"\u001B[39m: timeout,\n\u001B[1;32m    584\u001B[0m     \u001B[38;5;124m\"\u001B[39m\u001B[38;5;124mallow_redirects\u001B[39m\u001B[38;5;124m\"\u001B[39m: allow_redirects,\n\u001B[1;32m    585\u001B[0m }\n\u001B[1;32m    586\u001B[0m send_kwargs\u001B[38;5;241m.\u001B[39mupdate(settings)\n\u001B[0;32m--> 587\u001B[0m resp \u001B[38;5;241m=\u001B[39m \u001B[38;5;28;43mself\u001B[39;49m\u001B[38;5;241;43m.\u001B[39;49m\u001B[43msend\u001B[49m\u001B[43m(\u001B[49m\u001B[43mprep\u001B[49m\u001B[43m,\u001B[49m\u001B[43m \u001B[49m\u001B[38;5;241;43m*\u001B[39;49m\u001B[38;5;241;43m*\u001B[39;49m\u001B[43msend_kwargs\u001B[49m\u001B[43m)\u001B[49m\n\u001B[1;32m    589\u001B[0m \u001B[38;5;28;01mreturn\u001B[39;00m resp\n",
      "File \u001B[0;32m~/.pyenv/versions/3.10.7/envs/openai/lib/python3.10/site-packages/requests/sessions.py:701\u001B[0m, in \u001B[0;36mSession.send\u001B[0;34m(self, request, **kwargs)\u001B[0m\n\u001B[1;32m    698\u001B[0m start \u001B[38;5;241m=\u001B[39m preferred_clock()\n\u001B[1;32m    700\u001B[0m \u001B[38;5;66;03m# Send the request\u001B[39;00m\n\u001B[0;32m--> 701\u001B[0m r \u001B[38;5;241m=\u001B[39m \u001B[43madapter\u001B[49m\u001B[38;5;241;43m.\u001B[39;49m\u001B[43msend\u001B[49m\u001B[43m(\u001B[49m\u001B[43mrequest\u001B[49m\u001B[43m,\u001B[49m\u001B[43m \u001B[49m\u001B[38;5;241;43m*\u001B[39;49m\u001B[38;5;241;43m*\u001B[39;49m\u001B[43mkwargs\u001B[49m\u001B[43m)\u001B[49m\n\u001B[1;32m    703\u001B[0m \u001B[38;5;66;03m# Total elapsed time of the request (approximately)\u001B[39;00m\n\u001B[1;32m    704\u001B[0m elapsed \u001B[38;5;241m=\u001B[39m preferred_clock() \u001B[38;5;241m-\u001B[39m start\n",
      "File \u001B[0;32m~/.pyenv/versions/3.10.7/envs/openai/lib/python3.10/site-packages/requests/adapters.py:489\u001B[0m, in \u001B[0;36mHTTPAdapter.send\u001B[0;34m(self, request, stream, timeout, verify, cert, proxies)\u001B[0m\n\u001B[1;32m    487\u001B[0m \u001B[38;5;28;01mtry\u001B[39;00m:\n\u001B[1;32m    488\u001B[0m     \u001B[38;5;28;01mif\u001B[39;00m \u001B[38;5;129;01mnot\u001B[39;00m chunked:\n\u001B[0;32m--> 489\u001B[0m         resp \u001B[38;5;241m=\u001B[39m \u001B[43mconn\u001B[49m\u001B[38;5;241;43m.\u001B[39;49m\u001B[43murlopen\u001B[49m\u001B[43m(\u001B[49m\n\u001B[1;32m    490\u001B[0m \u001B[43m            \u001B[49m\u001B[43mmethod\u001B[49m\u001B[38;5;241;43m=\u001B[39;49m\u001B[43mrequest\u001B[49m\u001B[38;5;241;43m.\u001B[39;49m\u001B[43mmethod\u001B[49m\u001B[43m,\u001B[49m\n\u001B[1;32m    491\u001B[0m \u001B[43m            \u001B[49m\u001B[43murl\u001B[49m\u001B[38;5;241;43m=\u001B[39;49m\u001B[43murl\u001B[49m\u001B[43m,\u001B[49m\n\u001B[1;32m    492\u001B[0m \u001B[43m            \u001B[49m\u001B[43mbody\u001B[49m\u001B[38;5;241;43m=\u001B[39;49m\u001B[43mrequest\u001B[49m\u001B[38;5;241;43m.\u001B[39;49m\u001B[43mbody\u001B[49m\u001B[43m,\u001B[49m\n\u001B[1;32m    493\u001B[0m \u001B[43m            \u001B[49m\u001B[43mheaders\u001B[49m\u001B[38;5;241;43m=\u001B[39;49m\u001B[43mrequest\u001B[49m\u001B[38;5;241;43m.\u001B[39;49m\u001B[43mheaders\u001B[49m\u001B[43m,\u001B[49m\n\u001B[1;32m    494\u001B[0m \u001B[43m            \u001B[49m\u001B[43mredirect\u001B[49m\u001B[38;5;241;43m=\u001B[39;49m\u001B[38;5;28;43;01mFalse\u001B[39;49;00m\u001B[43m,\u001B[49m\n\u001B[1;32m    495\u001B[0m \u001B[43m            \u001B[49m\u001B[43massert_same_host\u001B[49m\u001B[38;5;241;43m=\u001B[39;49m\u001B[38;5;28;43;01mFalse\u001B[39;49;00m\u001B[43m,\u001B[49m\n\u001B[1;32m    496\u001B[0m \u001B[43m            \u001B[49m\u001B[43mpreload_content\u001B[49m\u001B[38;5;241;43m=\u001B[39;49m\u001B[38;5;28;43;01mFalse\u001B[39;49;00m\u001B[43m,\u001B[49m\n\u001B[1;32m    497\u001B[0m \u001B[43m            \u001B[49m\u001B[43mdecode_content\u001B[49m\u001B[38;5;241;43m=\u001B[39;49m\u001B[38;5;28;43;01mFalse\u001B[39;49;00m\u001B[43m,\u001B[49m\n\u001B[1;32m    498\u001B[0m \u001B[43m            \u001B[49m\u001B[43mretries\u001B[49m\u001B[38;5;241;43m=\u001B[39;49m\u001B[38;5;28;43mself\u001B[39;49m\u001B[38;5;241;43m.\u001B[39;49m\u001B[43mmax_retries\u001B[49m\u001B[43m,\u001B[49m\n\u001B[1;32m    499\u001B[0m \u001B[43m            \u001B[49m\u001B[43mtimeout\u001B[49m\u001B[38;5;241;43m=\u001B[39;49m\u001B[43mtimeout\u001B[49m\u001B[43m,\u001B[49m\n\u001B[1;32m    500\u001B[0m \u001B[43m        \u001B[49m\u001B[43m)\u001B[49m\n\u001B[1;32m    502\u001B[0m     \u001B[38;5;66;03m# Send the request.\u001B[39;00m\n\u001B[1;32m    503\u001B[0m     \u001B[38;5;28;01melse\u001B[39;00m:\n\u001B[1;32m    504\u001B[0m         \u001B[38;5;28;01mif\u001B[39;00m \u001B[38;5;28mhasattr\u001B[39m(conn, \u001B[38;5;124m\"\u001B[39m\u001B[38;5;124mproxy_pool\u001B[39m\u001B[38;5;124m\"\u001B[39m):\n",
      "File \u001B[0;32m~/.pyenv/versions/3.10.7/envs/openai/lib/python3.10/site-packages/urllib3/connectionpool.py:703\u001B[0m, in \u001B[0;36mHTTPConnectionPool.urlopen\u001B[0;34m(self, method, url, body, headers, retries, redirect, assert_same_host, timeout, pool_timeout, release_conn, chunked, body_pos, **response_kw)\u001B[0m\n\u001B[1;32m    700\u001B[0m     \u001B[38;5;28mself\u001B[39m\u001B[38;5;241m.\u001B[39m_prepare_proxy(conn)\n\u001B[1;32m    702\u001B[0m \u001B[38;5;66;03m# Make the request on the httplib connection object.\u001B[39;00m\n\u001B[0;32m--> 703\u001B[0m httplib_response \u001B[38;5;241m=\u001B[39m \u001B[38;5;28;43mself\u001B[39;49m\u001B[38;5;241;43m.\u001B[39;49m\u001B[43m_make_request\u001B[49m\u001B[43m(\u001B[49m\n\u001B[1;32m    704\u001B[0m \u001B[43m    \u001B[49m\u001B[43mconn\u001B[49m\u001B[43m,\u001B[49m\n\u001B[1;32m    705\u001B[0m \u001B[43m    \u001B[49m\u001B[43mmethod\u001B[49m\u001B[43m,\u001B[49m\n\u001B[1;32m    706\u001B[0m \u001B[43m    \u001B[49m\u001B[43murl\u001B[49m\u001B[43m,\u001B[49m\n\u001B[1;32m    707\u001B[0m \u001B[43m    \u001B[49m\u001B[43mtimeout\u001B[49m\u001B[38;5;241;43m=\u001B[39;49m\u001B[43mtimeout_obj\u001B[49m\u001B[43m,\u001B[49m\n\u001B[1;32m    708\u001B[0m \u001B[43m    \u001B[49m\u001B[43mbody\u001B[49m\u001B[38;5;241;43m=\u001B[39;49m\u001B[43mbody\u001B[49m\u001B[43m,\u001B[49m\n\u001B[1;32m    709\u001B[0m \u001B[43m    \u001B[49m\u001B[43mheaders\u001B[49m\u001B[38;5;241;43m=\u001B[39;49m\u001B[43mheaders\u001B[49m\u001B[43m,\u001B[49m\n\u001B[1;32m    710\u001B[0m \u001B[43m    \u001B[49m\u001B[43mchunked\u001B[49m\u001B[38;5;241;43m=\u001B[39;49m\u001B[43mchunked\u001B[49m\u001B[43m,\u001B[49m\n\u001B[1;32m    711\u001B[0m \u001B[43m\u001B[49m\u001B[43m)\u001B[49m\n\u001B[1;32m    713\u001B[0m \u001B[38;5;66;03m# If we're going to release the connection in ``finally:``, then\u001B[39;00m\n\u001B[1;32m    714\u001B[0m \u001B[38;5;66;03m# the response doesn't need to know about the connection. Otherwise\u001B[39;00m\n\u001B[1;32m    715\u001B[0m \u001B[38;5;66;03m# it will also try to release it and we'll have a double-release\u001B[39;00m\n\u001B[1;32m    716\u001B[0m \u001B[38;5;66;03m# mess.\u001B[39;00m\n\u001B[1;32m    717\u001B[0m response_conn \u001B[38;5;241m=\u001B[39m conn \u001B[38;5;28;01mif\u001B[39;00m \u001B[38;5;129;01mnot\u001B[39;00m release_conn \u001B[38;5;28;01melse\u001B[39;00m \u001B[38;5;28;01mNone\u001B[39;00m\n",
      "File \u001B[0;32m~/.pyenv/versions/3.10.7/envs/openai/lib/python3.10/site-packages/urllib3/connectionpool.py:449\u001B[0m, in \u001B[0;36mHTTPConnectionPool._make_request\u001B[0;34m(self, conn, method, url, timeout, chunked, **httplib_request_kw)\u001B[0m\n\u001B[1;32m    444\u001B[0m             httplib_response \u001B[38;5;241m=\u001B[39m conn\u001B[38;5;241m.\u001B[39mgetresponse()\n\u001B[1;32m    445\u001B[0m         \u001B[38;5;28;01mexcept\u001B[39;00m \u001B[38;5;167;01mBaseException\u001B[39;00m \u001B[38;5;28;01mas\u001B[39;00m e:\n\u001B[1;32m    446\u001B[0m             \u001B[38;5;66;03m# Remove the TypeError from the exception chain in\u001B[39;00m\n\u001B[1;32m    447\u001B[0m             \u001B[38;5;66;03m# Python 3 (including for exceptions like SystemExit).\u001B[39;00m\n\u001B[1;32m    448\u001B[0m             \u001B[38;5;66;03m# Otherwise it looks like a bug in the code.\u001B[39;00m\n\u001B[0;32m--> 449\u001B[0m             \u001B[43msix\u001B[49m\u001B[38;5;241;43m.\u001B[39;49m\u001B[43mraise_from\u001B[49m\u001B[43m(\u001B[49m\u001B[43me\u001B[49m\u001B[43m,\u001B[49m\u001B[43m \u001B[49m\u001B[38;5;28;43;01mNone\u001B[39;49;00m\u001B[43m)\u001B[49m\n\u001B[1;32m    450\u001B[0m \u001B[38;5;28;01mexcept\u001B[39;00m (SocketTimeout, BaseSSLError, SocketError) \u001B[38;5;28;01mas\u001B[39;00m e:\n\u001B[1;32m    451\u001B[0m     \u001B[38;5;28mself\u001B[39m\u001B[38;5;241m.\u001B[39m_raise_timeout(err\u001B[38;5;241m=\u001B[39me, url\u001B[38;5;241m=\u001B[39murl, timeout_value\u001B[38;5;241m=\u001B[39mread_timeout)\n",
      "File \u001B[0;32m<string>:3\u001B[0m, in \u001B[0;36mraise_from\u001B[0;34m(value, from_value)\u001B[0m\n",
      "File \u001B[0;32m~/.pyenv/versions/3.10.7/envs/openai/lib/python3.10/site-packages/urllib3/connectionpool.py:444\u001B[0m, in \u001B[0;36mHTTPConnectionPool._make_request\u001B[0;34m(self, conn, method, url, timeout, chunked, **httplib_request_kw)\u001B[0m\n\u001B[1;32m    441\u001B[0m \u001B[38;5;28;01mexcept\u001B[39;00m \u001B[38;5;167;01mTypeError\u001B[39;00m:\n\u001B[1;32m    442\u001B[0m     \u001B[38;5;66;03m# Python 3\u001B[39;00m\n\u001B[1;32m    443\u001B[0m     \u001B[38;5;28;01mtry\u001B[39;00m:\n\u001B[0;32m--> 444\u001B[0m         httplib_response \u001B[38;5;241m=\u001B[39m \u001B[43mconn\u001B[49m\u001B[38;5;241;43m.\u001B[39;49m\u001B[43mgetresponse\u001B[49m\u001B[43m(\u001B[49m\u001B[43m)\u001B[49m\n\u001B[1;32m    445\u001B[0m     \u001B[38;5;28;01mexcept\u001B[39;00m \u001B[38;5;167;01mBaseException\u001B[39;00m \u001B[38;5;28;01mas\u001B[39;00m e:\n\u001B[1;32m    446\u001B[0m         \u001B[38;5;66;03m# Remove the TypeError from the exception chain in\u001B[39;00m\n\u001B[1;32m    447\u001B[0m         \u001B[38;5;66;03m# Python 3 (including for exceptions like SystemExit).\u001B[39;00m\n\u001B[1;32m    448\u001B[0m         \u001B[38;5;66;03m# Otherwise it looks like a bug in the code.\u001B[39;00m\n\u001B[1;32m    449\u001B[0m         six\u001B[38;5;241m.\u001B[39mraise_from(e, \u001B[38;5;28;01mNone\u001B[39;00m)\n",
      "File \u001B[0;32m~/.pyenv/versions/3.10.7/lib/python3.10/http/client.py:1374\u001B[0m, in \u001B[0;36mHTTPConnection.getresponse\u001B[0;34m(self)\u001B[0m\n\u001B[1;32m   1372\u001B[0m \u001B[38;5;28;01mtry\u001B[39;00m:\n\u001B[1;32m   1373\u001B[0m     \u001B[38;5;28;01mtry\u001B[39;00m:\n\u001B[0;32m-> 1374\u001B[0m         \u001B[43mresponse\u001B[49m\u001B[38;5;241;43m.\u001B[39;49m\u001B[43mbegin\u001B[49m\u001B[43m(\u001B[49m\u001B[43m)\u001B[49m\n\u001B[1;32m   1375\u001B[0m     \u001B[38;5;28;01mexcept\u001B[39;00m \u001B[38;5;167;01mConnectionError\u001B[39;00m:\n\u001B[1;32m   1376\u001B[0m         \u001B[38;5;28mself\u001B[39m\u001B[38;5;241m.\u001B[39mclose()\n",
      "File \u001B[0;32m~/.pyenv/versions/3.10.7/lib/python3.10/http/client.py:318\u001B[0m, in \u001B[0;36mHTTPResponse.begin\u001B[0;34m(self)\u001B[0m\n\u001B[1;32m    316\u001B[0m \u001B[38;5;66;03m# read until we get a non-100 response\u001B[39;00m\n\u001B[1;32m    317\u001B[0m \u001B[38;5;28;01mwhile\u001B[39;00m \u001B[38;5;28;01mTrue\u001B[39;00m:\n\u001B[0;32m--> 318\u001B[0m     version, status, reason \u001B[38;5;241m=\u001B[39m \u001B[38;5;28;43mself\u001B[39;49m\u001B[38;5;241;43m.\u001B[39;49m\u001B[43m_read_status\u001B[49m\u001B[43m(\u001B[49m\u001B[43m)\u001B[49m\n\u001B[1;32m    319\u001B[0m     \u001B[38;5;28;01mif\u001B[39;00m status \u001B[38;5;241m!=\u001B[39m CONTINUE:\n\u001B[1;32m    320\u001B[0m         \u001B[38;5;28;01mbreak\u001B[39;00m\n",
      "File \u001B[0;32m~/.pyenv/versions/3.10.7/lib/python3.10/http/client.py:279\u001B[0m, in \u001B[0;36mHTTPResponse._read_status\u001B[0;34m(self)\u001B[0m\n\u001B[1;32m    278\u001B[0m \u001B[38;5;28;01mdef\u001B[39;00m \u001B[38;5;21m_read_status\u001B[39m(\u001B[38;5;28mself\u001B[39m):\n\u001B[0;32m--> 279\u001B[0m     line \u001B[38;5;241m=\u001B[39m \u001B[38;5;28mstr\u001B[39m(\u001B[38;5;28;43mself\u001B[39;49m\u001B[38;5;241;43m.\u001B[39;49m\u001B[43mfp\u001B[49m\u001B[38;5;241;43m.\u001B[39;49m\u001B[43mreadline\u001B[49m\u001B[43m(\u001B[49m\u001B[43m_MAXLINE\u001B[49m\u001B[43m \u001B[49m\u001B[38;5;241;43m+\u001B[39;49m\u001B[43m \u001B[49m\u001B[38;5;241;43m1\u001B[39;49m\u001B[43m)\u001B[49m, \u001B[38;5;124m\"\u001B[39m\u001B[38;5;124miso-8859-1\u001B[39m\u001B[38;5;124m\"\u001B[39m)\n\u001B[1;32m    280\u001B[0m     \u001B[38;5;28;01mif\u001B[39;00m \u001B[38;5;28mlen\u001B[39m(line) \u001B[38;5;241m>\u001B[39m _MAXLINE:\n\u001B[1;32m    281\u001B[0m         \u001B[38;5;28;01mraise\u001B[39;00m LineTooLong(\u001B[38;5;124m\"\u001B[39m\u001B[38;5;124mstatus line\u001B[39m\u001B[38;5;124m\"\u001B[39m)\n",
      "File \u001B[0;32m~/.pyenv/versions/3.10.7/lib/python3.10/socket.py:705\u001B[0m, in \u001B[0;36mSocketIO.readinto\u001B[0;34m(self, b)\u001B[0m\n\u001B[1;32m    703\u001B[0m \u001B[38;5;28;01mwhile\u001B[39;00m \u001B[38;5;28;01mTrue\u001B[39;00m:\n\u001B[1;32m    704\u001B[0m     \u001B[38;5;28;01mtry\u001B[39;00m:\n\u001B[0;32m--> 705\u001B[0m         \u001B[38;5;28;01mreturn\u001B[39;00m \u001B[38;5;28;43mself\u001B[39;49m\u001B[38;5;241;43m.\u001B[39;49m\u001B[43m_sock\u001B[49m\u001B[38;5;241;43m.\u001B[39;49m\u001B[43mrecv_into\u001B[49m\u001B[43m(\u001B[49m\u001B[43mb\u001B[49m\u001B[43m)\u001B[49m\n\u001B[1;32m    706\u001B[0m     \u001B[38;5;28;01mexcept\u001B[39;00m timeout:\n\u001B[1;32m    707\u001B[0m         \u001B[38;5;28mself\u001B[39m\u001B[38;5;241m.\u001B[39m_timeout_occurred \u001B[38;5;241m=\u001B[39m \u001B[38;5;28;01mTrue\u001B[39;00m\n",
      "File \u001B[0;32m~/.pyenv/versions/3.10.7/lib/python3.10/ssl.py:1274\u001B[0m, in \u001B[0;36mSSLSocket.recv_into\u001B[0;34m(self, buffer, nbytes, flags)\u001B[0m\n\u001B[1;32m   1270\u001B[0m     \u001B[38;5;28;01mif\u001B[39;00m flags \u001B[38;5;241m!=\u001B[39m \u001B[38;5;241m0\u001B[39m:\n\u001B[1;32m   1271\u001B[0m         \u001B[38;5;28;01mraise\u001B[39;00m \u001B[38;5;167;01mValueError\u001B[39;00m(\n\u001B[1;32m   1272\u001B[0m           \u001B[38;5;124m\"\u001B[39m\u001B[38;5;124mnon-zero flags not allowed in calls to recv_into() on \u001B[39m\u001B[38;5;132;01m%s\u001B[39;00m\u001B[38;5;124m\"\u001B[39m \u001B[38;5;241m%\u001B[39m\n\u001B[1;32m   1273\u001B[0m           \u001B[38;5;28mself\u001B[39m\u001B[38;5;241m.\u001B[39m\u001B[38;5;18m__class__\u001B[39m)\n\u001B[0;32m-> 1274\u001B[0m     \u001B[38;5;28;01mreturn\u001B[39;00m \u001B[38;5;28;43mself\u001B[39;49m\u001B[38;5;241;43m.\u001B[39;49m\u001B[43mread\u001B[49m\u001B[43m(\u001B[49m\u001B[43mnbytes\u001B[49m\u001B[43m,\u001B[49m\u001B[43m \u001B[49m\u001B[43mbuffer\u001B[49m\u001B[43m)\u001B[49m\n\u001B[1;32m   1275\u001B[0m \u001B[38;5;28;01melse\u001B[39;00m:\n\u001B[1;32m   1276\u001B[0m     \u001B[38;5;28;01mreturn\u001B[39;00m \u001B[38;5;28msuper\u001B[39m()\u001B[38;5;241m.\u001B[39mrecv_into(buffer, nbytes, flags)\n",
      "File \u001B[0;32m~/.pyenv/versions/3.10.7/lib/python3.10/ssl.py:1130\u001B[0m, in \u001B[0;36mSSLSocket.read\u001B[0;34m(self, len, buffer)\u001B[0m\n\u001B[1;32m   1128\u001B[0m \u001B[38;5;28;01mtry\u001B[39;00m:\n\u001B[1;32m   1129\u001B[0m     \u001B[38;5;28;01mif\u001B[39;00m buffer \u001B[38;5;129;01mis\u001B[39;00m \u001B[38;5;129;01mnot\u001B[39;00m \u001B[38;5;28;01mNone\u001B[39;00m:\n\u001B[0;32m-> 1130\u001B[0m         \u001B[38;5;28;01mreturn\u001B[39;00m \u001B[38;5;28;43mself\u001B[39;49m\u001B[38;5;241;43m.\u001B[39;49m\u001B[43m_sslobj\u001B[49m\u001B[38;5;241;43m.\u001B[39;49m\u001B[43mread\u001B[49m\u001B[43m(\u001B[49m\u001B[38;5;28;43mlen\u001B[39;49m\u001B[43m,\u001B[49m\u001B[43m \u001B[49m\u001B[43mbuffer\u001B[49m\u001B[43m)\u001B[49m\n\u001B[1;32m   1131\u001B[0m     \u001B[38;5;28;01melse\u001B[39;00m:\n\u001B[1;32m   1132\u001B[0m         \u001B[38;5;28;01mreturn\u001B[39;00m \u001B[38;5;28mself\u001B[39m\u001B[38;5;241m.\u001B[39m_sslobj\u001B[38;5;241m.\u001B[39mread(\u001B[38;5;28mlen\u001B[39m)\n",
      "\u001B[0;31mKeyboardInterrupt\u001B[0m: "
     ]
    }
   ],
   "source": [
    "# Get back a response from the Chatbot to our question\n",
    "response_message = conversation.ask_assistant(messages)\n",
    "print(response_message['content'])"
   ]
  },
  {
   "cell_type": "code",
   "execution_count": null,
   "id": "f364c3b5",
   "metadata": {
    "ExecuteTime": {
     "start_time": "2023-05-31T23:35:42.292614Z"
    }
   },
   "outputs": [],
   "source": [
    "next_question = 'Tell me more about option 2'\n",
    "\n",
    "# Initiate a fresh messages list and insert our next question\n",
    "messages = []\n",
    "user_message = Message('user',next_question)\n",
    "messages.append(user_message.message())\n",
    "response_message = conversation.ask_assistant(messages)\n",
    "print(response_message['content'])"
   ]
  },
  {
   "cell_type": "code",
   "execution_count": null,
   "id": "f62842a1",
   "metadata": {},
   "outputs": [],
   "source": [
    "# Print out a log of our conversation so far\n",
    "\n",
    "conversation.pretty_print_conversation_history()"
   ]
  },
  {
   "cell_type": "markdown",
   "id": "f18d5b54",
   "metadata": {},
   "source": [
    "### Knowledge retrieval\n",
    "\n",
    "Now we'll extend the class to call a downstream service when a stop sequence is spoken by the Chatbot.\n",
    "\n",
    "The main changes are:\n",
    "- The system message is more comprehensive, giving criteria for the Chatbot to advance the conversation\n",
    "- Adding an explicit stop sequence for it to use when it has the info it needs\n",
    "- Extending the class with a function ```_get_search_results``` which sources Redis results"
   ]
  },
  {
   "cell_type": "code",
   "execution_count": null,
   "id": "8a0cef87",
   "metadata": {},
   "outputs": [],
   "source": [
    "from config import OPENAI_API_KEY\n",
    "openai.api_key = OPENAI_API_KEY\n",
    "\n",
    "# Updated system prompt requiring Question and Year to be extracted from the user\n",
    "system_prompt = '''\n",
    "You are a helpful virtual assistant for the employees of Focused Labs. Focused Labs is a boutique Software Consulting firm that specializes in enterprise application development and digital transformation. Employees will ask you questions about the inner workings of the company. Questions could range in areas such as process, procedure, policy, and culture. Employees have different roles. The roles are either Developer, Designer, or Product Manager. The question is about how the company of Focused Labs operates. For each question, you need to capture their role.\n",
    "If they haven't provided their role, ask them for it.\n",
    "Once you have their role, say \"let me check on that for you...\".\n",
    "\n",
    "Example 1:\n",
    "\n",
    "User: I'd like to know how many IRLs Focused Labs has hosted\n",
    "\n",
    "Assistant: Certainly, what is your role at the Company?\n",
    "\n",
    "User: I am a designer.\n",
    "\n",
    "Assistant: let me check on that for you...\n",
    "'''\n",
    "\n",
    "# New Assistant class to add a vector database call to its responses\n",
    "class RetrievalAssistant:\n",
    "    \n",
    "    def __init__(self):\n",
    "        self.conversation_history = []  \n",
    "\n",
    "    def _get_assistant_response(self, prompt):\n",
    "        \n",
    "        try:\n",
    "            completion = openai.ChatCompletion.create(\n",
    "              model=CHAT_MODEL,\n",
    "              messages=prompt,\n",
    "              temperature=0.1\n",
    "            )\n",
    "            \n",
    "            response_message = Message(completion['choices'][0]['message']['role'],completion['choices'][0]['message']['content'])\n",
    "            return response_message.message()\n",
    "            \n",
    "        except Exception as e:\n",
    "            \n",
    "            return f'Request failed with exception {e}'\n",
    "    \n",
    "    # The function to retrieve Redis search results\n",
    "    def _get_search_results(self,prompt):\n",
    "        latest_question = prompt\n",
    "        search_content = get_redis_results(redis_client,latest_question,INDEX_NAME)['result'][0]\n",
    "        return search_content\n",
    "        \n",
    "\n",
    "    def ask_assistant(self, next_user_prompt):\n",
    "        [self.conversation_history.append(x) for x in next_user_prompt]\n",
    "        assistant_response = self._get_assistant_response(self.conversation_history)\n",
    "        \n",
    "        # Answer normally unless the trigger sequence is used \"searching_for_answers\"\n",
    "        if 'let me check on that for you...' in assistant_response['content'].lower():\n",
    "            question_extract = openai.Completion.create(model=COMPLETIONS_MODEL,prompt=f\"Extract the employees' latest question and their role from this conversation: {self.conversation_history}. Extract it as a sentence stating their question question and their role\")\n",
    "            search_result = self._get_search_results(question_extract['choices'][0]['text'])\n",
    "            \n",
    "            # We insert an extra system prompt here to give fresh context to the Chatbot on how to use the Redis results\n",
    "            # In this instance we add it to the conversation history, but in production it may be better to hide\n",
    "            self.conversation_history.insert(-1,{\"role\": 'system',\"content\": f\"Answer the user's question using this content: {search_result}. If you cannot answer the question, say 'Sorry, I don't know the answer to this one. You should call Austin Vance at (970) 306-8100' and he will be happy to provide an answer. He is easiest to reach between the hours of 2am and 4am MDT\"})\n",
    "            #[self.conversation_history.append(x) for x in next_user_prompt]\n",
    "            \n",
    "            assistant_response = self._get_assistant_response(self.conversation_history)\n",
    "            print(next_user_prompt)\n",
    "            print(assistant_response)\n",
    "            self.conversation_history.append(assistant_response)\n",
    "            return assistant_response\n",
    "        else:\n",
    "            self.conversation_history.append(assistant_response)\n",
    "            return assistant_response\n",
    "            \n",
    "        \n",
    "    def pretty_print_conversation_history(self, colorize_assistant_replies=True):\n",
    "        for entry in self.conversation_history:\n",
    "            if entry['role'] == 'system':\n",
    "                pass\n",
    "            else:\n",
    "                prefix = entry['role']\n",
    "                content = entry['content']\n",
    "                output = colored(prefix +':\\n' + content, 'green') if colorize_assistant_replies and entry['role'] == 'assistant' else prefix +':\\n' + content\n",
    "                #prefix = entry['role']\n",
    "                print(output)"
   ]
  },
  {
   "cell_type": "code",
   "execution_count": null,
   "id": "101d502c",
   "metadata": {},
   "outputs": [],
   "source": [
    "conversation = RetrievalAssistant()\n",
    "messages = []\n",
    "system_message = Message('system',system_prompt)\n",
    "user_message = Message('user','What is a Focused Labs IRL?')\n",
    "messages.append(system_message.message())\n",
    "messages.append(user_message.message())\n",
    "response_message = conversation.ask_assistant(messages)\n",
    "response_message"
   ]
  },
  {
   "cell_type": "code",
   "execution_count": null,
   "id": "702eb4fc",
   "metadata": {},
   "outputs": [],
   "source": [
    "messages = []\n",
    "user_message = Message('user','I am a designer!')\n",
    "messages.append(user_message.message())\n",
    "response_message = conversation.ask_assistant(messages)\n",
    "#response_message"
   ]
  },
  {
   "cell_type": "code",
   "execution_count": null,
   "id": "e2f2c812",
   "metadata": {},
   "outputs": [],
   "source": [
    "conversation.pretty_print_conversation_history()"
   ]
  },
  {
   "cell_type": "markdown",
   "id": "a9f9ef37",
   "metadata": {},
   "source": [
    "### Chatbot\n",
    "\n",
    "Now we'll put all this into action with a real (basic) Chatbot.\n",
    "\n",
    "In the directory containing this app, execute ```streamlit run chat.py```. This will open up a Streamlit app in your browser where you can ask questions of your embedded data. \n",
    "\n",
    "__Example Questions__:\n",
    "- what is the cost cap for a power unit in 2023\n",
    "- what should competitors include on their application form\n",
    "- how can a competitor be disqualified"
   ]
  },
  {
   "cell_type": "markdown",
   "id": "b8e6c4ca",
   "metadata": {},
   "source": [
    "### Consolidation\n",
    "\n",
    "Over the course of this notebook you have:\n",
    "- Laid the foundations of your product by embedding our knowledge base\n",
    "- Created a Q&A application to serve basic use cases\n",
    "- Extended this to be an interactive Chatbot\n",
    "\n",
    "These are the foundational building blocks of any Q&A or Chat application using our APIs - these are your starting point, and we look forward to seeing what you build with them!"
   ]
  }
 ],
 "metadata": {
  "kernelspec": {
   "display_name": "Python 3 (ipykernel)",
   "language": "python",
   "name": "python3"
  },
  "language_info": {
   "codemirror_mode": {
    "name": "ipython",
    "version": 3
   },
   "file_extension": ".py",
   "mimetype": "text/x-python",
   "name": "python",
   "nbconvert_exporter": "python",
   "pygments_lexer": "ipython3",
   "version": "3.10.7"
  }
 },
 "nbformat": 4,
 "nbformat_minor": 5
}
